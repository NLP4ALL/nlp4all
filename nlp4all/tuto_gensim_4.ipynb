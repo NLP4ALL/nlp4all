{
 "cells": [
  {
   "cell_type": "code",
   "execution_count": 1,
   "id": "mature-correlation",
   "metadata": {},
   "outputs": [],
   "source": [
    "import logging\n",
    "logging.basicConfig(format='%(asctime)s : %(levelname)s : %(message)s', level=logging.INFO)"
   ]
  },
  {
   "cell_type": "code",
   "execution_count": 2,
   "id": "stone-patrick",
   "metadata": {},
   "outputs": [
    {
     "name": "stderr",
     "output_type": "stream",
     "text": [
      "2021-03-22 14:01:22,580 : INFO : adding document #0 to Dictionary(0 unique tokens: [])\n",
      "2021-03-22 14:01:22,580 : INFO : built Dictionary(12 unique tokens: ['computer', 'human', 'interface', 'response', 'survey']...) from 9 documents (total 29 corpus positions)\n"
     ]
    },
    {
     "name": "stdout",
     "output_type": "stream",
     "text": [
      "n_docs 9\n",
      "n_words 12\n"
     ]
    },
    {
     "data": {
      "text/plain": [
       "[[(0, 1), (1, 1), (2, 1)],\n",
       " [(0, 1), (3, 1), (4, 1), (5, 1), (6, 1), (7, 1)],\n",
       " [(2, 1), (5, 1), (7, 1), (8, 1)],\n",
       " [(1, 1), (5, 2), (8, 1)],\n",
       " [(3, 1), (6, 1), (7, 1)],\n",
       " [(9, 1)],\n",
       " [(9, 1), (10, 1)],\n",
       " [(9, 1), (10, 1), (11, 1)],\n",
       " [(4, 1), (10, 1), (11, 1)]]"
      ]
     },
     "execution_count": 2,
     "metadata": {},
     "output_type": "execute_result"
    }
   ],
   "source": [
    "from collections import defaultdict\n",
    "from gensim import corpora\n",
    "\n",
    "documents = [\n",
    "    \"Human machine interface for lab abc computer applications\",\n",
    "    \"A survey of user opinion of computer system response time\",\n",
    "    \"The EPS user interface management system\",\n",
    "    \"System and human system engineering testing of EPS\",\n",
    "    \"Relation of user perceived response time to error measurement\",\n",
    "    \"The generation of random binary unordered trees\",\n",
    "    \"The intersection graph of paths in trees\",\n",
    "    \"Graph minors IV Widths of trees and well quasi ordering\",\n",
    "    \"Graph minors A survey\",\n",
    "]\n",
    "\n",
    "n_docs = len(documents)\n",
    "\n",
    "# remove common words and tokenize\n",
    "stoplist = set('for a of the and to in'.split())\n",
    "texts = [\n",
    "    [word for word in document.lower().split() if word not in stoplist]\n",
    "    for document in documents\n",
    "]\n",
    "\n",
    "# remove words that appear only once\n",
    "frequency = defaultdict(int)\n",
    "for text in texts:\n",
    "    for token in text:\n",
    "        frequency[token] += 1\n",
    "\n",
    "texts = [\n",
    "    [token for token in text if frequency[token] > 1]\n",
    "    for text in texts\n",
    "]\n",
    "\n",
    "dictionary = corpora.Dictionary(texts)\n",
    "n_words = len(dictionary)\n",
    "corpus = [dictionary.doc2bow(text) for text in texts]\n",
    "print(\"n_docs\", n_docs)\n",
    "print('n_words', n_words)\n",
    "corpus"
   ]
  },
  {
   "cell_type": "code",
   "execution_count": 3,
   "id": "pressed-samuel",
   "metadata": {},
   "outputs": [
    {
     "name": "stderr",
     "output_type": "stream",
     "text": [
      "2021-03-22 14:15:40,316 : INFO : using serial LSI version on this node\n",
      "2021-03-22 14:15:40,321 : INFO : updating model with new documents\n",
      "2021-03-22 14:15:40,323 : INFO : preparing a new chunk of documents\n",
      "2021-03-22 14:15:40,336 : INFO : using 100 extra samples and 2 power iterations\n",
      "2021-03-22 14:15:40,336 : INFO : 1st phase: constructing (12, 102) action matrix\n",
      "2021-03-22 14:15:40,343 : INFO : orthonormalizing (12, 102) action matrix\n",
      "2021-03-22 14:15:40,350 : INFO : 2nd phase: running dense svd on (12, 9) matrix\n",
      "2021-03-22 14:15:40,356 : INFO : computing the final decomposition\n",
      "2021-03-22 14:15:40,357 : INFO : keeping 2 factors (discarding 43.156% of energy spectrum)\n",
      "2021-03-22 14:15:40,358 : INFO : processed documents up to #9\n",
      "2021-03-22 14:15:40,358 : INFO : topic #0(3.341): 0.644*\"system\" + 0.404*\"user\" + 0.301*\"eps\" + 0.265*\"time\" + 0.265*\"response\" + 0.240*\"computer\" + 0.221*\"human\" + 0.206*\"survey\" + 0.198*\"interface\" + 0.036*\"graph\"\n",
      "2021-03-22 14:15:40,359 : INFO : topic #1(2.542): 0.623*\"graph\" + 0.490*\"trees\" + 0.451*\"minors\" + 0.274*\"survey\" + -0.167*\"system\" + -0.141*\"eps\" + -0.113*\"human\" + 0.107*\"response\" + 0.107*\"time\" + -0.072*\"interface\"\n"
     ]
    }
   ],
   "source": [
    "from gensim import models\n",
    "\n",
    "lsi = models.LsiModel(corpus, id2word=dictionary, num_topics=2)"
   ]
  },
  {
   "cell_type": "code",
   "execution_count": 4,
   "id": "built-henry",
   "metadata": {},
   "outputs": [
    {
     "name": "stdout",
     "output_type": "stream",
     "text": [
      "[(0, 1), (1, 1)]\n",
      "[(0, 0.46182100453271546), (1, -0.0700276652790009)]\n"
     ]
    }
   ],
   "source": [
    "doc = 'Human computer interaction'\n",
    "vec_bow = dictionary.doc2bow(doc.lower().split())\n",
    "vec_lsi = lsi[vec_bow]  # convert the query to LSI space\n",
    "print(vec_bow)\n",
    "print(vec_lsi)"
   ]
  },
  {
   "cell_type": "code",
   "execution_count": 12,
   "id": "modern-transition",
   "metadata": {},
   "outputs": [
    {
     "name": "stderr",
     "output_type": "stream",
     "text": [
      "2021-03-22 14:37:27,337 : WARNING : scanning corpus to determine the number of features (consider setting `num_features` explicitly)\n",
      "2021-03-22 14:37:27,343 : INFO : creating matrix with 9 documents and 2 features\n",
      "2021-03-22 14:37:27,351 : INFO : saving MatrixSimilarity object under /tmp/deerwester.index, separately None\n",
      "2021-03-22 14:37:27,380 : INFO : saved /tmp/deerwester.index\n",
      "2021-03-22 14:37:27,380 : INFO : loading MatrixSimilarity object from /tmp/deerwester.index\n",
      "2021-03-22 14:37:27,396 : INFO : loaded /tmp/deerwester.index\n"
     ]
    },
    {
     "name": "stdout",
     "output_type": "stream",
     "text": [
      "9\n",
      "[ 1.          0.9142159   0.999982    0.99478287  0.87990767 -0.18518142\n",
      " -0.16756734 -0.16003224 -0.01170431]\n",
      "[0.9142159  1.         0.9166299  0.8681071  0.9969673  0.228923\n",
      " 0.2463051  0.2537008  0.39449945]\n",
      "[ 0.999982    0.9166299   1.          0.99415314  0.8827417  -0.17928416\n",
      " -0.16165146 -0.154109   -0.00570685]\n",
      "[ 0.99478287  0.8681071   0.99415314  1.          0.8268452  -0.28446588\n",
      " -0.26726568 -0.25989753 -0.11365126]\n",
      "[0.87990767 0.9969673  0.8827417  0.8268452  1.         0.30398417\n",
      " 0.32098264 0.3282073  0.4648134 ]\n",
      "[-0.18518142  0.228923   -0.17928416 -0.28446588  0.30398417  0.99999994\n",
      "  0.99983984  0.999674    0.98480445]\n",
      "[-0.16756734  0.2463051  -0.16165146 -0.26726568  0.32098264  0.99983984\n",
      "  1.          0.9999708   0.9877544 ]\n",
      "[-0.16003224  0.2537008  -0.154109   -0.25989753  0.3282073   0.999674\n",
      "  0.9999708   1.          0.98891723]\n",
      "[-0.01170431  0.39449945 -0.00570685 -0.11365126  0.4648134   0.98480445\n",
      "  0.9877544   0.98891723  1.        ]\n"
     ]
    }
   ],
   "source": [
    "from gensim import similarities\n",
    "\n",
    "index = similarities.MatrixSimilarity(lsi[corpus])  # transform corpus to LSI space and index it\n",
    "\n",
    "print(len(index))\n",
    "for doc in index:\n",
    "    print(doc)  # len(doc) = 9\n",
    "\n",
    "index.save('/tmp/deerwester.index')\n",
    "index = similarities.MatrixSimilarity.load('/tmp/deerwester.index')"
   ]
  },
  {
   "cell_type": "code",
   "execution_count": 16,
   "id": "multiple-european",
   "metadata": {},
   "outputs": [
    {
     "name": "stdout",
     "output_type": "stream",
     "text": [
      "[(0, 0.998093), (1, 0.93748635), (2, 0.9984453), (3, 0.9865886), (4, 0.90755945), (5, -0.12416792), (6, -0.10639259), (7, -0.09879464), (8, 0.050041765)]\n",
      "\n",
      "Similarities with 'Human computer interaction'\n",
      "0.9984453 The EPS user interface management system\n",
      "0.998093 Human machine interface for lab abc computer applications\n",
      "0.9865886 System and human system engineering testing of EPS\n",
      "0.93748635 A survey of user opinion of computer system response time\n",
      "0.90755945 Relation of user perceived response time to error measurement\n",
      "0.050041765 Graph minors A survey\n",
      "-0.09879464 Graph minors IV Widths of trees and well quasi ordering\n",
      "-0.10639259 The intersection graph of paths in trees\n",
      "-0.12416792 The generation of random binary unordered trees\n"
     ]
    }
   ],
   "source": [
    "sims = index[vec_lsi]\n",
    "print(list(enumerate(sims)))\n",
    "\n",
    "print(\"\")\n",
    "print(\"Similarities with 'Human computer interaction':\")\n",
    "# sorted similarities\n",
    "sims = sorted(enumerate(sims), key=lambda item: -item[1])\n",
    "for doc_position, doc_score in sims:\n",
    "    print(doc_score, documents[doc_position])"
   ]
  }
 ],
 "metadata": {
  "kernelspec": {
   "display_name": "Python 3",
   "language": "python",
   "name": "python3"
  },
  "language_info": {
   "codemirror_mode": {
    "name": "ipython",
    "version": 3
   },
   "file_extension": ".py",
   "mimetype": "text/x-python",
   "name": "python",
   "nbconvert_exporter": "python",
   "pygments_lexer": "ipython3",
   "version": "3.8.3"
  }
 },
 "nbformat": 4,
 "nbformat_minor": 5
}
