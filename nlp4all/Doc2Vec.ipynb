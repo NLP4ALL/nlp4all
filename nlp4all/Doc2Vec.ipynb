{
 "cells": [
  {
   "cell_type": "code",
   "execution_count": null,
   "metadata": {},
   "outputs": [],
   "source": [
    "\"\"\"https://radimrehurek.com/gensim/auto_examples/tutorials/run_doc2vec_lee.html\n",
    "\"\"\""
   ]
  },
  {
   "cell_type": "code",
   "execution_count": 1,
   "metadata": {},
   "outputs": [
    {
     "ename": "ModuleNotFoundError",
     "evalue": "No module named 'gensim'",
     "output_type": "error",
     "traceback": [
      "\u001b[0;31m---------------------------------------------------------------------------\u001b[0m",
      "\u001b[0;31mModuleNotFoundError\u001b[0m                       Traceback (most recent call last)",
      "\u001b[0;32m<ipython-input-1-7821e0130558>\u001b[0m in \u001b[0;36m<module>\u001b[0;34m\u001b[0m\n\u001b[1;32m      1\u001b[0m \u001b[0;32mimport\u001b[0m \u001b[0mos\u001b[0m\u001b[0;34m\u001b[0m\u001b[0;34m\u001b[0m\u001b[0m\n\u001b[0;32m----> 2\u001b[0;31m \u001b[0;32mimport\u001b[0m \u001b[0mgensim\u001b[0m\u001b[0;34m\u001b[0m\u001b[0;34m\u001b[0m\u001b[0m\n\u001b[0m\u001b[1;32m      3\u001b[0m \u001b[0;31m# set file names for train and test data\u001b[0m\u001b[0;34m\u001b[0m\u001b[0;34m\u001b[0m\u001b[0;34m\u001b[0m\u001b[0m\n\u001b[1;32m      4\u001b[0m \u001b[0mtest_data_dir\u001b[0m \u001b[0;34m=\u001b[0m \u001b[0mos\u001b[0m\u001b[0;34m.\u001b[0m\u001b[0mpath\u001b[0m\u001b[0;34m.\u001b[0m\u001b[0mjoin\u001b[0m\u001b[0;34m(\u001b[0m\u001b[0mgensim\u001b[0m\u001b[0;34m.\u001b[0m\u001b[0m__path__\u001b[0m\u001b[0;34m[\u001b[0m\u001b[0;36m0\u001b[0m\u001b[0;34m]\u001b[0m\u001b[0;34m,\u001b[0m \u001b[0;34m'test'\u001b[0m\u001b[0;34m,\u001b[0m \u001b[0;34m'test_data'\u001b[0m\u001b[0;34m)\u001b[0m\u001b[0;34m\u001b[0m\u001b[0;34m\u001b[0m\u001b[0m\n\u001b[1;32m      5\u001b[0m \u001b[0mlee_train_file\u001b[0m \u001b[0;34m=\u001b[0m \u001b[0mos\u001b[0m\u001b[0;34m.\u001b[0m\u001b[0mpath\u001b[0m\u001b[0;34m.\u001b[0m\u001b[0mjoin\u001b[0m\u001b[0;34m(\u001b[0m\u001b[0mtest_data_dir\u001b[0m\u001b[0;34m,\u001b[0m \u001b[0;34m'lee_background.cor'\u001b[0m\u001b[0;34m)\u001b[0m\u001b[0;34m\u001b[0m\u001b[0;34m\u001b[0m\u001b[0m\n",
      "\u001b[0;31mModuleNotFoundError\u001b[0m: No module named 'gensim'"
     ]
    }
   ],
   "source": [
    "import os\n",
    "import gensim\n",
    "# set file names for train and test data\n",
    "test_data_dir = os.path.join(gensim.__path__[0], 'test', 'test_data')\n",
    "lee_train_file = os.path.join(test_data_dir, 'lee_background.cor')\n",
    "lee_test_file = os.path.join(test_data_dir, 'lee.cor')"
   ]
  },
  {
   "cell_type": "code",
   "execution_count": 15,
   "metadata": {},
   "outputs": [
    {
     "name": "stdout",
     "output_type": "stream",
     "text": [
      "300\n"
     ]
    }
   ],
   "source": [
    "# preprocess the file (tokenize, remove punctuation, lower-case)\n",
    "# one line = a doc, the file = the corpus\n",
    "\n",
    "import smart_open\n",
    "\n",
    "def read_corpus(fname, tokens_only=False):\n",
    "    with smart_open.open(fname, encoding='iso-8859-1') as f:\n",
    "        for i, line in enumerate(f):\n",
    "            tokens = gensim.utils.simple_preprocess(line)\n",
    "            if tokens_only:\n",
    "                yield tokens\n",
    "            else:\n",
    "                # for training data, add tags\n",
    "                yield gensim.models.doc2vec.TaggedDocument(tokens, [i])\n",
    "\n",
    "train_corpus = list(read_corpus(lee_train_file))\n",
    "test_corpus = list(read_corpus(lee_test_file, tokens_only=True))\n",
    "\n",
    "n_docs = len(train_corpus)\n",
    "#n_words = len(model.wv.key_to_index)\n",
    "\n",
    "print(n_docs)\n",
    "#print(n_words)"
   ]
  },
  {
   "cell_type": "code",
   "execution_count": 43,
   "metadata": {
    "scrolled": true
   },
   "outputs": [
    {
     "name": "stdout",
     "output_type": "stream",
     "text": [
      "300\n",
      "50\n",
      "\n",
      "TaggedDocument(['the', 'national', 'road', 'toll', 'for', 'the', 'christmas', 'new', 'year', 'holiday', 'period', 'stands', 'at', 'eight', 'fewer', 'than', 'for', 'the', 'same', 'time', 'last', 'year', 'people', 'have', 'died', 'on', 'new', 'south', 'wales', 'roads', 'with', 'eight', 'fatalities', 'in', 'both', 'queensland', 'and', 'victoria', 'western', 'australia', 'the', 'northern', 'territory', 'and', 'south', 'australia', 'have', 'each', 'recorded', 'three', 'deaths', 'while', 'the', 'act', 'and', 'tasmania', 'remain', 'fatality', 'free'], [2])\n",
      "\n",
      "['the', 'united', 'states', 'government', 'has', 'said', 'it', 'wants', 'to', 'see', 'president', 'robert', 'mugabe', 'removed', 'from', 'power', 'and', 'that', 'it', 'is', 'working', 'with', 'the', 'zimbabwean', 'opposition', 'to', 'bring', 'about', 'change', 'of', 'administration', 'as', 'scores', 'of', 'white', 'farmers', 'went', 'into', 'hiding', 'to', 'escape', 'round', 'up', 'by', 'zimbabwean', 'police', 'senior', 'bush', 'administration', 'official', 'called', 'mr', 'mugabe', 'rule', 'illegitimate', 'and', 'irrational', 'and', 'said', 'that', 'his', 're', 'election', 'as', 'president', 'in', 'march', 'was', 'won', 'through', 'fraud', 'walter', 'kansteiner', 'the', 'assistant', 'secretary', 'of', 'state', 'for', 'african', 'affairs', 'went', 'on', 'to', 'blame', 'mr', 'mugabe', 'policies', 'for', 'contributing', 'to', 'the', 'threat', 'of', 'famine', 'in', 'zimbabwe']\n"
     ]
    }
   ],
   "source": [
    "print(len(train_corpus))\n",
    "print(len(test_corpus))\n",
    "print(\"\")\n",
    "print(train_corpus[2])\n",
    "print(\"\")\n",
    "print(test_corpus[2])  # no doc tag"
   ]
  },
  {
   "cell_type": "code",
   "execution_count": 44,
   "metadata": {},
   "outputs": [
    {
     "name": "stdout",
     "output_type": "stream",
     "text": [
      "['the', 'to', 'of', 'in', 'and', 'he', 'is', 'for', 'on', 'said', 'that', 'has', 'says', 'was', 'have', 'it', 'be', 'are', 'with', 'will', 'at', 'mr', 'from', 'by', 'we', 'been', 'as', 'an', 'not', 'his', 'but', 'they', 'after', 'were', 'had', 'there', 'new', 'this', 'australia', 'australian', 'who', 'palestinian', 'people', 'their', 'two', 'government', 'up', 'us', 'south', 'which', 'year', 'one', 'about', 'out', 'if', 'also', 'more', 'when', 'its', 'into', 'would', 'first', 'against', 'israeli', 'last', 'arafat', 'minister', 'all', 'over', 'three', 'afghanistan', 'united', 'world', 'no', 'police', 'or', 'than', 'attacks', 'before', 'fire', 'day', 'security', 'some', 'states', 'you', 'them', 'could', 'say', 'today', 'now', 'told', 'time', 'any', 'laden', 'very', 'just', 'bin', 'can', 'what', 'still', 'sydney', 'company', 'president', 'man', 'four', 'killed', 'taliban', 'forces', 'our', 'al', 'around', 'days', 'being', 'west', 'old', 'other', 'officials', 'so', 'where', 'test', 'qaeda', 'israel', 'think', 'general', 'per', 'federal', 'next', 'she', 'force', 'cent', 'leader', 'yesterday', 'workers', 'him', 'state', 'under', 'take', 'hamas', 'bank', 'suicide', 'those', 'back', 'meeting', 'years', 'made', 'morning', 'down', 'commission', 'action', 'international', 'pakistan', 're', 'afghan', 'group', 'city', 'centre', 'attack', 'while', 'military', 'through', 'well', 'members', 'number', 'local', 'five', 'qantas', 'called', 'area', 'union', 'national', 'week', 'gaza', 'including', 'hours', 'since', 'wales', 'september', 'east', 'another', 'north', 'night', 'report', 'should', 'off', 'six', 'go', 'between', 'get', 'earlier', 'second', 'these', 'war', 'staff', 'months', 'end', 'do', 'islamic', 'defence', 'further', 'because', 'authority', 'going', 'work', 'team', 'foreign', 'power', 'near', 'sharon', 'areas', 'only', 'india', 'way', 'many', 'during', 'died', 'know', 'eight', 'month', 'air', 'match', 'make', 'melbourne', 'left', 'spokesman', 've', 'former', 'metres', 'good', 'claims', 'northern', 'authorities', 'like', 'most', 'prime', 'osama', 'peace', 'support', 'saying', 'ago', 'given', 'set', 'am', 'expected', 'looking', 'bora', 'come', 'put', 'tora', 'militants', 'place', 'children', 'several', 'fighters', 'injured', 'groups', 'meanwhile', 'child', 'christmas', 'unions', 'africa', 'royal', 'river', 'arrested', 'indian', 'troops', 'found', 'whether', 'hospital', 'then', 'terrorist', 'reports', 'talks', 'official', 'yasser', 'part', 'interim', 'industrial', 'how', 'statement', 'senior', 'terrorism', 'leaders', 'early', 'economy', 'mountains', 'third', 'don', 'start', 'john', 'trying', 'public', 'million', 'radio', 'hit', 'army', 'weather', 'pay', 'court', 'family', 'both', 'believe', 'agreement', 'long', 'control', 'best', 'asked', 'dr', 'help', 'pressure', 'lead', 'however', 'chief', 'adelaide', 'following', 'firefighters', 'better', 'does', 'close', 'queensland', 'play', 'community', 'need', 'service', 'house', 'taken', 'australians', 'services', 'want', 'process', 'overnight', 'confirmed', 'high', 'few', 'labor', 'arrest', 'opposition', 'information', 'believed', 'detainees', 'williams', 'won', 'secretary', 'must', 'came', 'hicks', 'damage', 'possible', 'took', 'nations', 'released', 'much', 'governor', 'british', 'did', 'peter', 'win', 'brought', 'party', 'shot', 'her', 'maintenance', 'pentagon', 'held', 'accused', 'eastern', 'winds', 'hill', 'such', 'even', 'kandahar', 'violence', 'armed', 'safety', 'change', 'dead', 'york', 'without', 'weekend', 'council', 'asylum', 'return', 'cut', 'airline', 'lot', 'conditions', 'director', 'got', 'building', 'despite', 'across', 'southern', 'board', 'men', 'training', 'captured', 'far', 'race', 'david', 'strong', 'region', 'economic', 'see', 'trade', 'december', 'monday', 'call', 'anti', 'palestinians', 'cricket', 'news', 'american', 'seekers', 'crew', 'country', 'fires', 'continuing', 'lee', 'here', 'waugh', 'home', 'working', 'role', 'too', 'strip', 'fighting', 'emergency', 'aircraft', 'key', 'health', 'industry', 'george', 'used', 'plans', 'bush', 'received', 'past', 'offer', 'alliance', 'zinni', 'bureau', 'water', 'rate', 'administration', 'charged', 'act', 'head', 'leading', 'major', 'parliament', 'department', 'soldiers', 'operations', 'britain', 'downer', 'town', 'strikes', 'may', 'risk', 'zealand', 'within', 'use', 'captain', 'person', 'decision', 'airport', 'final', 'your', 'stop', 'issue', 'israelis', 'station', 'line', 'legal', 'least', 'known', 'large', 'hih', 'boat', 'hundreds', 'kabul', 'interest', 'tomorrow', 'policy', 'western', 'taking', 'network', 'latest', 'later', 'laws', 'right', 'officers', 'might', 'ahead', 'due', 'un', 'every', 'able', 'shane', 'coast', 'pm', 'half', 'late', 'position', 'my', 'great', 'homes', 'plane', 'remain', 'give', 'weapons', 'hollingworth', 'death', 'series', 'behind', 'abuse', 'storm', 'bill', 'concerned', 'side', 'thought', 'campaign', 'guilty', 'towards', 'same', 'really', 'heard', 'deaths', 'forced', 'others', 'hard', 'seen', 'event', 'along', 'life', 'jobs', 'washington', 'victory', 'point', 'continue', 'jihad', 'already', 'timor', 'failed', 'me', 'flight', 'territory', 'special', 'cup', 'helicopters', 'buildings', 'middle', 'matter', 'rates', 'space', 'bowler', 'bombings', 'case', 'important', 'countries', 'bus', 'capital', 'innings', 'hour', 'bombing', 'warne', 'according', 'sunday', 'launched', 'member', 'mark', 'weeks', 'bichel', 'cabinet', 'again', 'november', 'th', 'detention', 'mcgrath', 'canyoning', 'likely', 'envoy', 'woomera', 'enough', 'move', 'seven', 'details', 'situation', 'guides', 'raids', 'boy', 'swiss', 'human', 'aedt', 'political', 'office', 'own', 'forward', 'claimed', 'commonwealth', 'adventure', 'carried', 'ms', 'targets', 'jail', 'justice', 'wants', 'show', 'based', 'deal', 'disease', 'freeze', 'run', 'added', 'money', 'caught', 'opened', 'mission', 'movement', 'perth', 'cancer', 'women', 'blue', 'young', 'top', 'warplanes', 'sure', 'african', 'rule', 'immediately', 'reported', 'asio', 'evidence', 'dispute', 'using', 'find', 'island', 'border', 'growth', 'sector', 'flying', 'allegations', 'carrying', 'reached', 'always', 'financial', 'probably', 'burning', 'access', 'order', 'collapse', 'march', 'become', 'planning', 'although', 'prepared', 'investigation', 'wicket', 'banks', 'certainly', 'beat', 'ground', 'times', 'full', 'each', 'face', 'job', 'crash', 'result', 'break', 'proposed', 'fight', 'making', 'reserve', 'immigration', 'harrison', 'flights', 'sent', 'inside', 'surrender', 'kilometres', 'post', 'howard', 'alleged', 'thursday', 'wave', 'comes', 'suspected', 'executive', 'future', 'tourists', 'believes', 'soon', 'needs', 'went', 'until', 'stage', 'bowling', 'militia', 'caves', 'getting', 'responsibility', 'bid', 'short', 'senator', 'different', 'program', 'relations', 'sex', 'inquiry', 'allow', 'management', 'calls', 'radical', 'clear', 'trees', 'quickly', 'declared', 'opening', 'rejected', 'lives', 'outside', 'energy', 'afp', 'ariel', 'thousands', 'militant', 'organisation', 'tried', 'himself', 'drop', 'hewitt', 'argentina', 'travel', 'ansett', 'killing', 'serious', 'road', 'sentence', 'fighter', 'shortly', 'agency', 'kallis', 'among', 'address', 'wounded', 'white', 'happened', 'biggest', 'wickets', 'try', 'jewish', 'anything', 'witnesses', 'available', 'alexander', 'meet', 'directors', 'refused', 'yacht', 'circumstances', 'television', 'actually', 'issues', 'annual', 'quite', 'announced', 'destroyed', 'understand', 'july', 'currently', 'school', 'parts', 'offices', 'attempt', 'rise', 'figures', 'nine', 'bombers', 'residents', 'changes', 'warned', 'sources', 'form', 'measures', 'rights', 'ended', 'ruddock', 'returned', 'parties', 'sea', 'list', 'rural', 'brisbane', 'gunmen', 'tanks', 'something', 'done', 'terms', 'source', 'open', 'increase', 'victoria', 'look', 'means', 'accident', 'yet', 'response', 'ministers', 'decided', 'running', 'donald', 'karzai', 'tennis', 'airlines', 'less', 'away', 'hobart', 'suharto', 'islands', 'afternoon', 'though', 'crowd', 'powell', 'fact', 'law', 'supporters', 'deputy', 'commander', 'cost', 'difficult', 'commissioner', 'business', 'robert', 'huge', 'total', 'nauru', 'pacific', 'field', 'musharraf', 'allan', 'whose', 'blake', 'strike', 'bomb', 'glenn', 'beyond', 'facility', 'rafter', 'car', 'big', 'market', 'recession', 'gives', 'll', 'beginning', 'arrived', 'attorney', 'period', 'highway', 'struck', 'caused', 'involved', 'gave', 'appeared', 'media', 'expressed', 'advice', 'step', 'runs', 'tour', 'wage', 'prevent', 'intelligence', 'virus', 'expect', 'followed', 'began', 'friday', 'ses', 'worst', 'ever', 'ensure', 'confidence', 'elected', 'negotiations', 'rather', 'having', 'sir', 'commanders', 'macgill', 'daryl', 'entered', 'vote', 'current', 'themselves', 'hearings', 'plan', 'explosives', 'anglican', 'storms', 'zimbabwe', 'debt', 'criticism', 'crean', 'quarter', 'longer', 'employees', 'giving', 'round', 'never', 'massive', 'lost', 'conflict', 'together', 'protect', 'game', 'calling', 'saturday', 'fast', 'powers', 'trip', 'reid', 'smoke', 'placed', 'chairman', 'decide', 'entitlements', 'son', 'assistance', 'chance', 'level', 'labour', 'base', 'study', 'yes', 'places', 'bring', 'costs', 'significant', 'feel', 'lockett', 'nearly', 'americans', 'cannot', 'potential', 'tragedy', 'population', 'jacques', 'muslim', 'helicopter', 'france', 'geoff', 'organisations', 'russian', 'sort', 'ambush', 'pakistani', 'terror', 'denied', 'speaking', 'changed', 'played', 'main', 'brett', 'tasmania', 'heavy', 'front', 'survey', 'endeavour', 'conference', 'ballot', 'jenin', 'crisis', 'anthony', 'boxing', 'complex', 'indonesia', 'martin', 'threat', 'finished', 'forecast', 'bonn', 'mean', 'greater', 'french', 'led', 'signed', 'rumsfeld', 'low', 'fleeing', 'almost', 'mountain', 'proposals', 'resolution', 'simon', 'global', 'sides', 'election', 'pilot', 'share', 'confident', 'whole', 'flames', 'sign', 'ramallah', 'interlaken', 'severe', 'claim', 'problem', 'cities', 'battle', 'companies', 'doubles', 'treatment', 'receive', 'research', 'accept', 'activity', 'ice', 'small', 'coming', 'concern', 'private', 'vaughan', 'hold', 'verdict', 'civil', 'record', 'carry', 'construction', 'gun', 'everything', 'affected', 'twice', 'moved', 'condition', 'hope', 'absolutely', 'environment', 'gas', 'secret', 'ruled', 'fired', 'dozens', 'statistics', 'needed', 'payment', 'nation', 'direct', 'rain', 'damaged', 'coalition', 'professor', 'technology', 'representation', 'central', 'shuttle', 'winner', 'continued', 'review', 'paid', 'richard', 'rival', 'receiving', 'grant', 'gillespie', 'steve', 'problems', 'provide', 'hayden', 'recorded', 'little', 'bomber', 'overall', 'hotel', 'anyone', 'deadly', 'disaster', 'insurance', 'stopped', 'land', 'rest', 'starting', 'cars', 'closed', 'tony', 'tribal', 'continues', 'fellow', 'injuries', 'efforts', 'tape', 'operation', 'elections', 'seeking', 'didn', 'victims', 'qc', 'august', 'table', 'ray', 'begin', 'press', 'suspended', 'mckenzie', 'avoid', 'andy', 'heritage', 'coach', 'revealed', 'markets', 'territories', 'traditional', 'served', 'incident', 'suffered', 'threatened', 'above', 'non', 'europe', 'outlook', 'issued', 'assisting', 'krishna', 'crackdown', 'expects', 'food', 'started', 'include', 'january', 'why', 'related', 'civilians', 'debate', 'park', 'search', 'refugees', 'victorian', 'alongside', 'ministry', 'mid', 'reduce', 'knew', 'stand', 'disappointed', 'confirm', 'resolve', 'friedli', 'pulled', 'virgin', 'seriously', 'manslaughter', 'affairs', 'data', 'tuesday', 'asic', 'body', 'showed', 'operating', 'strategic', 'finance', 'ball', 'respond', 'lung', 'solution', 'leg', 'officer', 'lord', 'delhi', 'roads', 'ponting', 'reach', 'keep', 'successful', 'track', 'institute', 'hearing', 'determined', 'japan', 'warning', 'spread', 'apparently', 'yachts', 'attacked', 'winning', 'approach', 'wind', 'america', 'itself', 'fell', 'red', 'wanted', 'nothing', 'lines', 'negotiating', 'provisional', 'shaun', 'pollock', 'michael', 'hopes', 'accompanied', 'seles', 'volunteers', 'edge', 'peacekeepers', 'families', 'playing', 'visit', 'rescue', 'cease', 'bit', 'charges', 'ian', 'met', 'enter', 'ceremony', 'giuliani', 'charge', 'saw', 'tough', 'jason', 'mayor', 'created', 'questions', 'fall', 'helped', 'season', 'october', 'built', 'illawarra', 'completed', 'individuals', 'spokeswoman', 'resume', 'costello', 'structure', 'conducted', 'range', 'remaining', 'club', 'factory', 'liquidation', 'heart', 'heading', 'property', 'unemployment', 'nice', 'wake', 'lower', 'self', 'levels', 'vice', 'initial', 'guard', 'voted', 'responsible', 'remains', 'treated', 'wall', 'employment', 'unrest', 'shopping', 'investment', 'greatest', 'society', 'neil', 'domestic', 'giant', 'acting', 'budget', 'assault', 'investigating', 'income', 'exchange', 'findings', 'ricky', 'transport', 'planes', 'trial', 'summit', 'swept', 'education', 'premier', 'actions', 'fleet', 'extensive', 'programs', 'students', 'save', 'resistance', 'follows', 'extremists', 'halt', 'batsmen', 'hunt', 'assa', 'nuclear', 'ocean', 'deployed', 'germany', 'collapsed', 'appears', 'blame', 'mandate', 'felt', 'honours', 'projects', 'leadership', 'attempting', 'knowledge', 'marine', 'advance', 'attacking', 'suspect', 'growing', 'saudi', 'roof', 'gone', 'representing', 'hand', 'abloy', 'dropped', 'jets', 'possibility', 'settlement', 'detain', 'light', 'king', 'grand', 'things', 'pre', 'suburbs', 'crossed', 'protection', 'explanation', 'jerusalem', 'canberra', 'haifa', 'numbers', 'resign', 'awards', 'billion', 'agreed', 'nablus', 'speech', 'switzerland', 'positive', 'described', 'create', 'squad', 'fair', 'corporation', 'declaration', 'injury', 'internet', 'unity', 'presence', 'leave', 'often', 'criminal', 'walk', 'live', 'names', 'regional', 'boys', 'system', 'elders', 'prior', 'prisoners', 'proteas', 'real', 'backed', 'classic', 'tension', 'recent', 'reveal', 'minute', 'metre', 'read', 'japanese', 'boats', 'true', 'targeted', 'petrol', 'largest', 'manager', 'ready', 'customers', 'ask', 'unit', 'handed', 'band', 'custody', 'concerns', 'happens', 'increased', 'personnel', 'scene', 'tensions', 'scheduled', 'senate', 'clean', 'shows', 'invasion', 'fierce', 'amin', 'peres', 'coup', 'champion', 'battling', 'meetings', 'tree', 'butterfly', 'afroz', 'holiday', 'toll', 'wayne', 'gorge', 'doug', 'manufacturing', 'reduced', 'diplomatic', 'tailenders', 'raid', 'inappropriate', 'drug', 'administrators', 'yallourn', 'singles', 'career', 'woman', 'sarah', 'murder', 'whiting', 'doubt', 'scored', 'st', 'finding', 'present', 'lording', 'gang', 'promised', 'aboard', 'cfmeu', 'philip', 'ethnic', 'clearly', 'ford', 'secure', 'solomon', 'farmers', 'co', 'products', 'sheikh', 'mohammad', 'austar', 'outcome', 'races', 'kashmir', 'streets', 'networks', 'options', 'spencer', 'traveland', 'adequate', 'recovery', 'beatle', 'apra', 'oil', 'university', 'eve', 'crews', 'single', 'nearby', 'fatah', 'factions', 'blaze', 'cave', 'natural', 'cause', 'necessary', 'title', 'hopefully', 'words', 'passengers', 'hamid', 'decisions', 'success', 'hijacked', 'detail', 'positions', 'tell', 'dollars', 'humanity', 'spinner', 'various', 'indonesian', 'publicly', 'provided', 'target', 'channel', 'losing', 'facilities', 'communities', 'mining', 'convicted', 'centrelink', 'doesn', 'proposal', 'republic', 'examination', 'interests', 'sergeant', 'stuart', 'ways', 'question', 'project', 'improve', 'kilometre', 'pace', 'eventually', 'worked', 'breaking', 'understanding', 'hot', 'history', 'church', 'handling', 'contested', 'sending', 'sharing', 'archbishop', 'headquarters', 'occupation', 'seemed', 'cameron', 'contained', 'temperatures', 'effort', 'locked', 'cross', 'containment', 'comment', 'doing', 'fund', 'guess', 'interview', 'investigate', 'phillips', 'delay', 'vehicle', 'unidentified', 'searching', 'documents', 'signs', 'escalating', 'abu', 'games', 'adam', 'player', 'walked', 'terrorists', 'staying', 'smaller', 'lack', 'follow', 'landed', 'celebrations', 'requested', 'normal', 'ill', 'happy', 'offered', 'document', 'picked', 'strongly', 'approached', 'aware', 'impact', 'hiv', 'male', 'cuts', 'treasurer', 'chosen', 'telephone', 'previous', 'antarctic', 'trading', 'davis', 'mohammed', 'launch', 'replied', 'stability', 'connection', 'kissinger', 'gerber', 'flood', 'banking', 'room', 'goshen', 'mt', 'heights', 'embassy', 'ban', 'course', 'ahmed', 'sultan', 'bringing', 'effective', 'eliminated', 'colin', 'ability', 'paris', 'shoes', 'travelled', 'became', 'soft', 'finally', 'owen', 'gary', 'skipper', 'choosing', 'hare', 'separate', 'benares', 'ashes', 'mind', 'blazes', 'threatening', 'required', 'rabbani', 'tonight', 'masood', 'hunter', 'allegedly', 'hoped', 'hundred', 'retired', 'free', 'suggested', 'kieren', 'headed', 'bob', 'faces', 'escaped', 'kingham', 'injuring', 'slightly', 'delivered', 'actor', 'hoping', 'temporary', 'clashes', 'aged', 'bargaining', 'begun', 'approval', 'anz', 'westpac', 'thing', 'prepare', 'passed', 'wing', 'hopman', 'blasted', 'gunships', 'infected', 'underway', 'whatever', 'neville', 'mass', 'determine', 'unable', 'completely', 'crime', 'path', 'gambier', 'doctor', 'turn', 'predicted', 'term', 'langer', 'matthew', 'leaving', 'results', 'decades', 'balls', 'klusener', 'boucher', 'adding', 'committee', 'henderson', 'returning', 'survived', 'francs', 'tie', 'throughout', 'average', 'putting', 'launceston', 'wednesday', 'experts', 'stay', 'cooperation', 'improved', 'doctors', 'farm', 'crashed', 'discussions', 'credit', 'strachan', 'welcomed', 'unfortunately', 'marines', 'appropriate', 'whereabouts', 'understood', 'jalalabad', 'relationship', 'toowoomba', 'visa', 'assembly', 'medical', 'firm', 'responding', 'focus', 'fine', 'redundancy', 'paying', 'coroner', 'allowed', 'holding', 'counts', 'aboriginal', 'harris', 'violent', 'procedures', 'waiting', 'request', 'observers', 'creditors', 'consumers', 'named', 'sometimes', 'draft', 'reject', 'trapped', 'voice', 'fear', 'twenty', 'effect', 'causing', 'cigarettes', 'silly', 'tactics', 'european', 'hitting', 'independence', 'fewer', 'spending', 'taxpayers', 'heads', 'shooting', 'couple', 'losses', 'trouble', 'boost', 'discuss', 'establish', 'activities', 'burden', 'farina', 'contract', 'account', 'cnn', 'interviewing', 'dangers', 'expecting', 'almao', 'negotiate', 'recovered', 'gul', 'agha', 'ward', 'surrounding', 'razzano', 'payne', 'casinos', 'admitted', 'raises', 'calm', 'huegill', 'chechen', 'airspace', 'direction', 'prison', 'minutes', 'let', 'offenders', 'crashing', 'retaliatory', 'lowest', 'dependent', 'rising', 'code', 'finish', 'scale', 'islamabad', 'pashtun', 'sanctions', 'appear', 'quoted', 'tournament', 'balance', 'tests', 'email', 'handicap', 'stepped', 'paper', 'mastermind', 'nor', 'conduct', 'levelled', 'generous', 'fifth', 'assessment', 'alternative', 'forget', 'wages', 'wide', 'workforce', 'dixon', 'balmer', 'progress', 'guarantee', 'instead', 'cash', 'couldn', 'restore', 'saxet', 'hanging', 'veteran', 'alan', 'unlikely', 'soccer', 'jakarta', 'kirsten', 'ministerial', 'knop', 'ordered', 'february', 'oversee', 'accounts', 'individual', 'employee', 'passport', 'suspension', 'historic', 'cahill', 'owned', 'estimate', 'ties', 'shape', 'particularly', 'center', 'videotape', 'agencies', 'refugee', 'lennon', 'moment', 'fresh', 'prove', 'paul', 'written', 'fully', 'facing', 'trend', 'justin', 'kill', 'becoming', 'collins', 'grenades', 'redmond', 'practices', 'mcg', 'forestry', 'london', 'hawthorne', 'investigations', 'removed', 'derrick', 'showing', 'palace', 'midwives', 'consider', 'kosovo', 'safe', 'loyalists', 'lance', 'trained', 'moussaoui', 'camps', 'sharp', 'operate', 'swans', 'competition', 'established', 'bat', 'lleyton', 'driven', 'fourth', 'trick', 'implications', 'verdicts', 'view', 'recently', 'opportunity', 'goal', 'simply', 'loss', 'else', 'highly', 'partner', 'enterprise', 'officially', 'benefit', 'queen', 'elizabeth', 'alarming', 'century', 'care', 'bacteria', 'batsman', 'mother', 'joint', 'truss', 'hiding', 'born', 'fled', 'ahmad', 'useful', 'video', 'boje', 'province', 'aip', 'attempts', 'claude', 'mcmenamin', 'reaction', 'kind', 'pair', 'peel', 'commandos', 'broken', 'blow', 'wolfowitz', 'substantial', 'film', 'discussed', 'closer', 'nominated', 'encouraging', 'represents', 'double', 'angry', 'rudd', 'apache', 'badly', 'centuries', 'penalty', 'site', 'german', 'jan', 'gambill', 'planned', 'counsel', 'fundamental', 'missiles', 'selectors', 'older', 'arrests', 'gain', 'vehicles', 'closure', 'failing', 'thousand', 'spent', 'gutnick', 'hume', 'original', 'tight', 'identified', 'answer', 'fireworks', 'stock', 'skies', 'fined', 'majority', 'ship', 'internal', 'hasn', 'relief', 'suspects', 'extra', 'marathon', 'homeless', 'professional', 'rink', 'properties', 'freestyle', 'brazil', 'welsh', 'storey', 'native', 'multinational', 'hornsby', 'involving', 'quick', 'ticket', 'hass', 'bond', 'asking', 'sexual', 'abc', 'incidents', 'scores', 'intimidation', 'prudential', 'inspector', 'hardline', 'saxeten', 'release', 'preparation', 'appin', 'electricity', 'finalised', 'valley', 'dominance', 'holy', 'overly', 'traffic', 'beatles', 'defending', 'reportedly', 'amwu', 'ease', 'weak', 'supported', 'ganges', 'dealt', 'hopeful', 'handled', 'victim', 'pretty', 'session', 'dismissed', 'ending', 'liverpool', 'unclear', 'involvement', 'lose', 'dangerous', 'prices', 'route', 'kashmiri', 'nail', 'relatively', 'acknowledged', 'fuel', 'broke', 'sullivan', 'darwin', 'federation', 'either', 'deployment', 'user', 'particular', 'cow', 'develop', 'assets', 'allies', 'recommendations', 'standing', 'willingness', 'row', 'towns', 'send', 'buried', 'camp', 'abdul', 'happen', 'applied', 'toward', 'specific', 'highlands', 'timed', 'association', 'reason', 'tourism', 'included', 'critical', 'dozen', 'rubber', 'seems', 'gilchrist', 'subject', 'imf', 'welfare', 'brain', 'unprecedented', 'macfarlane', 'defeat', 'seek', 'check', 'erupted', 'murray', 'stood', 'port', 'arthurs', 'dramatic', 'possibly', 'analysis', 'ambulance', 'tax', 'procedure', 'hurt', 'aids', 'accord', 'shadow', 'peaceful', 'cells', 'rushed', 'mistakes', 'goodin', 'runway', 'dying', 'arrival', 'hawkesbury', 'remote', 'outsourcing', 'stumps', 'dealing', 'congress', 'deserve', 'incentive', 'presidency', 'surrounded', 'crack', 'tv', 'dominant', 'vigil', 'transferred', 'black', 'once', 'adopted', 'model', 'cairns', 'symptoms', 'initially', 'strategy', 'feared', 'mounting', 'quit', 'blew', 'gets', 'todd', 'causes', 'personally', 'overrun', 'perfect', 'daily', 'olivier', 'compound', 'miami', 'seem', 'escude', 'commercial', 'slip', 'remove', 'events', 'paceman', 'decline', 'bail', 'duck', 'bowlers', 'rescued', 'panel', 'dickie', 'employed', 'dewar', 'corowa', 'franklin', 'abegglen', 'stefan', 'wiget', 'terminal', 'deciding', 'lucky', 'favour', 'britt', 'task', 'africans', 'timing', 'occur', 'luck', 'considered', 'reuters', 'requests', 'card', 'christians', 'obesity', 'values', 'reading', 'lali', 'obese', 'england', 'megawati', 'marked', 'lew', 'committed', 'diagnosed', 'resigned', 'catch', 'religious', 'leak', 'attended', 'memory', 'music', 'evening', 'hat', 'widespread', 'interrogation', 'swedish', 'downgrade', 'nasty', 'salaries', 'bradford', 'village', 'escalated', 'occurred', 'amazon', 'scarfe', 'securities', 'importance', 'shifted', 'summer', 'eyes', 'emissions', 'coastal', 'risen', 'thunderstorm', 'fort', 'proceed', 'lunchtime', 'appointment', 'interviewed', 'isolated', 'generally', 'relation', 'demanded', 'confessed', 'crowded', 'helen', 'ones', 'stands', 'gunman', 'negotiator', 'pervez', 'indiana', 'peru', 'complacency', 'defunct', 'faced', 'includes', 'graham', 'passenger', 'climate', 'sheet', 'reminded', 'sought', 'date', 'advani', 'sweeping', 'frank', 'stores', 'ruling', 'indicated', 'contact', 'prix', 'likewise', 'yassin', 'razzak', 'happening', 'behalf', 'reasonably', 'hospitals', 'arresting', 'urged', 'surprised', 'unpredictable', 'perhaps', 'stoltenberg', 'standards', 'managers', 'advertising', 'johnston', 'razor', 'talented', 'informed', 'combination', 'nelson', 'operator', 'uncertain', 'blocks', 'swimming', 'prize', 'blamed', 'fears', 'downturn', 'rfds', 'softer', 'solo', 'housing', 'maguire', 'aimed', 'magistrate', 'islam', 'trends', 'saa', 'perkins', 'swimmer', 'rehman', 'default', 'bayliss', 'nautical', 'computer', 'defendants', 'stance', 'defended', 'worm', 'computers', 'whilst', 'ali', 'reporters', 'nicorette', 'recognised', 'journey', 'ferguson', 'currency', 'shimon', 'maxi', 'personality', 'cheney', 'symbols', 'alcohol', 'aziz', 'article', 'fans', 'templeton', 'shop', 'khan', 'stray', 'slowing', 'boston', 'fly', 'limits', 'counting', 'competitive', 'export', 'defuse', 'firms', 'dfat', 'struggling', 'villawood', 'author', 'sponsored', 'termination', 'poor', 'habeel', 'mohamad', 'prohibited', 'infantry', 'device', 'upsurge', 'hear', 'seeing', 'fatality', 'paktika', 'palmerston', 'solvency', 'ourselves', 'sheldon', 'stephan', 'denies', 'satellite', 'tower', 'payments', 'claiming', 'earth', 'reputation', 'repeated', 'sport', 'fought', 'surprise', 'square', 'dialogue', 'administrator', 'speculation', 'junior', 'clash', 'command', 'spin', 'teenage', 'points', 'identify', 'guarding', 'settler', 'protest', 'genetically', 'rare', 'astronauts', 'ivf', 'policemen', 'haitian', 'communications', 'equipment', 'guards', 'alei', 'pleased', 'exactly', 'robertson', 'suggests', 'development', 'spill', 'trounson', 'undertaken', 'sinai', 'embryos', 'adults', 'shell', 'spills', 'kennedy', 'embryo', 'china', 'upper', 'assist', 'formal', 'forests', 'chase', 'parents', 'sitting', 'zaman', 'broadcast', 'waging', 'democratic', 'principles', 'powered', 'aging', 'aiming', 'profit', 'funding', 'mainly', 'striking', 'ongoing', 'supply', 'plant', 'lindsay', 'regulation', 'consistent', 'bowled', 'breathing', 'tougher', 'aim', 'funds', 'witness', 'living', 'reasons', 'option', 'eligible', 'militias', 'skippered', 'grass', 'dick', 'enormous', 'vowed', 'announcement', 'attendants', 'wearing', 'attempted', 'proves', 'raise', 'chasing', 'declaring', 'vessel', 'travellers', 'strait', 'flee', 'ron', 'score', 'factors', 'musical', 'globe', 'beattie', 'love', 'teenager', 'gabriel', 'soil', 'mounted', 'profits', 'firemen', 'discussing', 'thick', 'acdt', 'admits', 'bombed', 'impossible', 'stepping', 'decade', 'iraq', 'russell', 'begins', 'destruction', 'setting', 'presidential', 'protesters', 'shoalhaven', 'midnight', 'masterminding', 'serve', 'heavily', 'utn', 'peacekeeping', 'transitional', 'principle', 'arrivals', 'parliamentary', 'canada', 'nato', 'legislation', 'push', 'aspects', 'cope', 'social', 'brussels', 'plants', 'chemical', 'learn', 'settlers', 'restructuring', 'allowing', 'lieutenant', 'welcome', 'returns', 'apply', 'collect', 'arbitration', 'escalate', 'criticised', 'gibbons', 'ernst', 'oval', 'ntini', 'vajpayee', 'hayward', 'partnership', 'accountancy', 'finishing', 'assured', 'projections', 'linked', 'yunis', 'earning', 'perpetrators', 'augusta', 'meant', 'delayed', 'arriving', 'protected', 'deliberate', 'marks', 'battleground', 'silent', 'defeated', 'tunnels', 'comply', 'mountainous', 'asian', 'tailender', 'monetary', 'rioting', 'forecasting', 'riots', 'consent', 'example', 'stronger', 'effectively', 'shaky', 'winter', 'coincide', 'spain', 'wife', 'extremely', 'obviously', 'baker', 'friend', 'mosque', 'acquitted', 'wouldn', 'tommy', 'totally', 'unpaid', 'remember', 'turning', 'type', 'imagine', 'priest', 'providing', 'owner', 'canyon', 'hills', 'resort', 'danger', 'decisive', 'players', 'irrelevant', 'institutions', 'intervention', 'placing', 'christian', 'appealed', 'fate', 'crimes', 'goes', 'myself', 'catches', 'slips', 'visas', 'uss', 'bbc', 'consequences', 'langdale', 'girl', 'ensuring', 'pitched', 'judge', 'haven', 'infrastructure', 'champions', 'honour', 'detained', 'adult', 'saadi', 'deadline', 'jirga', 'controlled', 'loya', 'taylor', 'june', 'wran', 'hawke', 'threw', 'ashcroft', 'pr', 'brother', 'blast', 'locations', 'escape', 'prompted', 'comeback', 'ran', 'cover', 'minor', 'offering', 'shown', 'authorising', 'maintains', 'applications', 'hectares', 'evacuated', 'mount', 'casualties', 'engines', 'suburb', 'arabs', 'monitored', 'lone', 'wild', 'guy', 'provincial', 'arab', 'limited', 'eighth', 'ranked', 'withdrawal', 'ideas', 'considering', 'aviation', 'previously', 'terrible', 'sets', 'cases', 'enemy', 'recommendation', 'conspirators', 'easy', 'counter', 'starts', 'split', 'paedophiles', 'harm', 'published', 'miles', 'raduyev', 'ranging', 'democracy', 'neighbouring', 'survival', 'resolved', 'pennsylvania', 'jackson', 'siege', 'dawn', 'arm', 'motor', 'join', 'belief', 'faith', 'holds', 'teams', 'guide', 'evil', 'interested', 'knife', 'mitsubishi', 'walker', 'carl', 'trials', 'transfer', 'dollar', 'tyco', 'tribute', 'approved', 'towers', 'everyone', 'anybody', 'scouring', 'contributions', 'cessnock', 'oxide', 'wollongong', 'bloody', 'reluctant', 'afghans', 'memphis', 'production', 'cast', 'nitrous', 'undergoing', 'tense', 'ripped', 'slam', 'goulburn', 'estimated', 'atlanta', 'motorists', 'burn', 'relocated', 'eased', 'loaded', 'occasions', 'optimistic', 'behaviour', 'threaten', 'era', 'pushed', 'illegal', 'evacuate', 'florida', 'caution', 'listed', 'cell', 'luggage', 'sparked', 'bushfire', 'eradicate', 'nepal', 'arnaud', 'westerly', 'staging', 'potentially', 'gale', 'stunned', 'mixed', 'damaging', 'taiba', 'lashkar', 'peronists', 'snatching', 'explosive', 'extremist', 'repayment', 'relative', 'earned', 'promising', 'tank', 'paddling', 'visibility', 'massing', 'exercise', 'picking', 'zeus', 'wore', 'clement', 'tens', 'rodriguez', 'supplies', 'beaten', 'roger', 'appeal', 'nearest', 'pressed', 'delighted', 'escort', 'fatalities', 'instance', 'word', 'nicky', 'resignation', 'withdraw', 'monica', 'regarding', 'airlift', 'narrow', 'processing', 'appoints', 'reduction', 'speed', 'street', 'illness', 'flown', 'dry', 'picton', 'raised', 'interior', 'fallen', 'sunshine', 'alert', 'abdullah', 'replacement', 'pollutants', 'crucial', 'falls', 'assume', 'trucks', 'southerly', 'exhausting', 'engulfed', 'sanchez', 'kemp', 'random', 'atal', 'vicario', 'gusts', 'terminals', 'trapping', 'bulli', 'armoured', 'teamed', 'stations', 'exploded', 'packages', 'behari', 'tasmanian', 'announcing', 'amalgamation', 'discovered', 'maker', 'culpable', 'scott', 'satisfied', 'billy', 'morrow', 'negligence', 'delegation', 'subsidies', 'achieved', 'especially', 'efficient', 'transporting', 'portfolios', 'pushing', 'upgrade', 'missile', 'signing', 'undertook', 'airliner', 'honoured', 'wreckage', 'strewn', 'signature', 'unindicted', 'egyptian', 'aerial', 'bernhard', 'punishment', 'murders', 'los', 'arrive', 'hijackers', 'loyal', 'convinced', 'convention', 'managing', 'tel', 'rich', 'kidnap', 'rampage', 'imprisonment', 'curtis', 'jury', 'defendant', 'clothes', 'pocket', 'mouth', 'warnings', 'prompting', 'commitment', 'afl', 'nominate', 'retirement', 'kilogram', 'havoc', 'hideout', 'chiefs', 'myers', 'moroccan', 'indictment', 'hijackings', 'zaccarias', 'lessons', 'active', 'palos', 'door', 'semi', 'schroeder', 'killmier', 'perturbed', 'clubs', 'enjoy', 'melawa', 'offensive', 'militiamen', 'botched', 'mekel', 'nabil', 'cooperate', 'quest', 'chancellor', 'gerhard', 'challenged', 'block', 'dissatisfaction', 'corruption', 'cole', 'lionel', 'sutton', 'rally', 'gathering', 'annan', 'nobel', 'audience', 'shares', 'award', 'advise', 'holidays', 'nurse', 'inspected', 'inflation', 'somali', 'modest', 'campaigns', 'figure', 'helena', 'resist', 'signalled', 'triple', 'assassination', 'stoppage', 'involve', 'deliver', 'attending', 'recognition', 'soul', 'location', 'asia', 'steps', 'typhoid', 'locals', 'class', 'singapore', 'wholly', 'independently', 'announce', 'reducing', 'adams', 'routes', 'savings', 'daniel', 'gschwind', 'cooperating', 'policies', 'lubbers', 'choose', 'deeper', 'forest', 'intercepted', 'haji', 'reform', 'therefore', 'engage', 'disarray', 'unsustainable', 'voluntary', 'challenges', 'consumer', 'generation', 'blackouts', 'rini', 'keeper', 'duty', 'editor', 'resumption', 'name', 'formed', 'wrong', 'conviction', 'paedophile', 'roy', 'aren', 'supervision', 'pitch', 'deteriorating', 'topple', 'fugitive', 'lift', 'kills', 'via', 'bases', 'hideouts', 'certain', 'accurate', 'disruption', 'threats', 'weekly', 'earnings', 'refusing', 'produced', 'briefing', 'du', 'shaft', 'theatre', 'drip', 'impressive', 'oxygen', 'performed', 'attached', 'talking', 'visitors', 'rhythm', 'repeatedly', 'lawyers', 'newly', 'solomons', 'trust', 'contacts', 'defiance', 'gibbs', 'floors', 'experience', 'releasing', 'condemned', 'workloads', 'overtime', 'unjustified', 'introduce', 'initiatives', 'stunts', 'contingency', 'branches', 'venue', 'views', 'guidance', 'enable', 'selection', 'urgent', 'destroy', 'segment', 'brigades', 'journalist', 'followers', 'lights', 'district', 'diego', 'garcia', 'navy', 'timothy', 'bombs', 'salisbury', 'agree', 'ten', 'liberation', 'suit', 'affect', 'participation', 'abbott', 'brothers', 'imminent', 'retreat', 'accusing', 'achieve', 'increasing', 'intensive', 'patient', 'antibiotics', 'resistant', 'amount', 'rocket', 'darkness', 'crossing', 'egypt', 'bulldozers', 'symbolic', 'backing', 'dominated', 'hardliners', 'confrontation', 'twin', 'treason', 'ascertain', 'facts', 'kevin', 'immediate', 'directly', 'quarrel', 'sealed', 'logged', 'rainforest', 'rose', 'obstacle', 'saeb', 'erakat', 'measure', 'economist', 'austrade', 'frontbencher', 'scrapping', 'goner', 'erase', 'mcafee', 'software', 'users', 'badtrans', 'pull', 'airstrikes', 'laura', 'aquilina', 'householders', 'hindu', 'sect', 'devout', 'hindus', 'scatter', 'guitarist', 'devotees', 'olivia', 'spot', 'liaison', 'accomplishments', 'weakness', 'abroad', 'hamed', 'hilton', 'stronghold', 'telling', 'verified', 'hoax', 'rounded', 'rein', 'undermine', 'passing', 'wolthuizen', 'businesses', 'centres', 'boxes', 'count', 'provinces', 'shah', 'travels', 'govern', 'grew', 'pickup', 'lombe', 'concealed', 'developers', 'larrakia', 'rosebury', 'tasks', 'wali', 'installed', 'ousted', 'burhanuddin', 'tulkarem', 'ruthless', 'buyer', 'albarran', 'mcdonald', 'sweet', 'planted', 'buchanan', 'pursue', 'ismail', 'offence', 'greens', 'kerry', 'nettle', 'bourne', 'defunctoperator', 'provisions', 'inexperienced', 'chain', 'nicholas', 'entitled', 'pat', 'fitzgerald', 'woodbridge', 'takes', 'banksa', 'stable', 'malaysian', 'constitutional', 'mad', 'producer', 'objected', 'songs', 'successfully', 'sherrard', 'silence', 'shaped', 'confidentiality', 'leete', 'foley', 'outsource', 'redundant', 'cents', 'liabilities', 'regulatory', 'copy', 'organised', 'unforeseeable', 'preventable', 'gunnedah', 'tamworth', 'carr', 'caird', 'referee', 'jackie', 'hendriks', 'abusive', 'language', 'gathered', 'defend', 'amnesty', 'targeting', 'smuggling', 'competitor', 'require', 'debus', 'arrangements', 'spends', 'sun', 'brahimi', 'dempsey', 'proceeding', 'relatives', 'links', 'nu', 'wood', 'decorative', 'millwork', 'squads', 'ambassador', 'hero', 'pirates', 'seamaster', 'macapa', 'clark', 'shock', 'flash', 'evans', 'sweep', 'convince', 'henry', 'autonomy', 'classified', 'book', 'diplomacy', 'darren', 'grateful', 'looks', 'insisted', 'elder', 'similar', 'newspaper', 'talk', 'scrapped', 'provides', 'zabul', 'schneiders', 'thorpe', 'championships', 'sorties', 'payout', 'salary', 'statutory', 'belligerent', 'skilled', 'freeman', 'ceasefire', 'faction', 'sri', 'afraid', 'sharana', 'incursions', 'largely', 'tours', 'prostitutes', 'survive', 'awu', 'kirribilli', 'owed', 'twu', 'submitted', 'letter', 'journal', 'psychological', 'gambling', 'gaming', 'uses', 'wanting', 'accepting', 'backstroke', 'seconds', 'jumping', 'exploding', 'turns', 'finishes', 'elka', 'swam', 'awesome', 'ed', 'moses', 'breaststroke', 'liesel', 'jones', 'matt', 'winners', 'spiritual', 'rebecca', 'creedy', 'upset', 'defeating', 'ryan', 'julia', 'ham', 'heater', 'pool', 'trains', 'thermostat', 'degrees', 'spa', 'update', 'format', 'elimination', 'swum', 'skins', 'stone', 'throwing', 'frantic', 'urging', 'modified', 'grocery', 'hooke', 'tangible', 'muslims', 'yachting', 'sponsors', 'zealander', 'trophy', 'steinlager', 'sporting', 'succeed', 'campbell', 'kentucky', 'massachusetts', 'amid', 'bulk', 'suggest', 'wrongdoing', 'catastrophe', 'sorrow', 'supervisors', 'trips', 'emotional', 'swimmers', 'pursuing', 'entrance', 'demonstrators', 'forms', 'batt', 'tools', 'stringer', 'chances', 'stealing', 'potts', 'offender', 'stolen', 'punt', 'challenge', 'literally', 'rebuilding', 'ravaged', 'reconstruction', 'bombardment', 'waves', 'chinese', 'ally', 'capture', 'supposed', 'passes', 'height', 'feet', 'replaces', 'sway', 'bethlehem', 'dismantle', 'ordering', 'blockade', 'baby', 'bass', 'maybe', 'master', 'grief', 'oscar', 'retire', 'sustained', 'occasionally', 'assess', 'extent', 'campbelltown', 'villages', 'ruined', 'bay', 'fanned', 'resources', 'ii', 'outrages', 'religion', 'ingvall', 'value', 'describing', 'borders', 'juan', 'unknown', 'conscience', 'shattered', 'yemeni', 'persuade', 'sentenced', 'salman', 'hostage', 'dagestan', 'designed', 'toddler', 'blood', 'involves', 'exact', 'la', 'rua', 'bans', 'disruptions', 'delays', 'multi', 'indefinitely', 'build', 'pipeline', 'regime', 'package', 'iraqi', 'biological', 'escaping', 'sites', 'inherited', 'factories', 'butler', 'stuff', 'accepts', 'mentally', 'overseas', 'gold', 'mental', 'absconded', 'actress', 'golden', 'moulin', 'rouge', 'pictures', 'de', 'fernando', 'nationwide', 'breached', 'genetic', 'die', 'age', 'permission', 'diseases', 'stem', 'resembled', 'naval', 'shots', 'orders', 'deck', 'gunfire', 'sailors', 'patrol', 'thrown', 'headaches', 'dropping', 'clarify', 'reverend', 'tim', 'leaves', 'import', 'cleared', 'begs', 'cosgrove', 'rd', 'battalion', 'respect', 'skills', 'host', 'sad', 'comedy', 'earthquake', 'female', 'bulletin', 'compared', 'farmer', 'practice', 'shift', 'norwegian', 'scientist', 'impacts', 'scientists', 'factor', 'frozen', 'developed', 'lying', 'richter', 'russia', 'shaken', 'geo', 'science', 'burakin', 'quake', 'measured', 'woke', 'somewhat', 'higher', 'concentrate', 'worried', 'teenagers', 'shellharbour', 'regrets', 'infection', 'implementing', 'wonderful', 'volvo', 'weapon', 'drama', 'sank', 'sand', 'alice', 'springs', 'nationals', 'kontrol', 'tevake', 'fearing', 'windy', 'sutherland', 'sight', 'racer', 'celebrating', 'memorandum', 'racing', 'auckland', 'detonate', 'transatlantic', 'agent', 'margaret', 'hole', 'additional', 'diverted', 'corps', 'recalled', 'bloodshed', 'mitchell', 'tenet', 'confine', 'rivals', 'singh', 'seats', 'sailing', 'mandatory', 'green', 'gearing', 'ring', 'thirds', 'shire', 'forecaster', 'challenging', 'estimating', 'alone', 'reporting', 'prisoner', 'aggressive', 'fares', 'retaliation', 'suggestions', 'fox', 'spirit', 'bad', 'falling', 'holed', 'intense', 'policeman', 'firefight', 'servant', 'ken', 'mcreddie', 'unexpected', 'peacefully', 'sick', 'neck', 'eden', 'upside', 'fazalur', 'influence', 'supporter', 'farewell', 'beautiful', 'insists', 'reality', 'republican', 'abandoned', 'overs', 'openers', 'fours', 'nantie', 'haywood', 'respectable', 'fielding', 'looked', 'cruising', 'suddenly', 'replays', 'catching', 'alarm', 'friends', 'romaszko', 'swell', 'alerted', 'rapid', 'overturned', 'raft', 'nominations', 'pick', 'reactor', 'preview', 'performance', 'output', 'abated', 'complaint', 'destroying', 'separated', 'combat', 'examine', 'significantly', 'relying', 'airports', 'virtually', 'warren', 'fawzi', 'freedom', 'advantage', 'increasingly', 'robust', 'prospects', 'governments', 'contribute', 'exports', 'cathedral', 'gift', 'sanctuary', 'bright', 'immense', 'savarese', 'division', 'dennehy', 'warm', 'definitely', 'foremost', 'lawyer', 'hilltops', 'debating', 'spearhead', 'haggling', 'define', 'casa', 'piston', 'mixture', 'feature', 'encourage', 'investigated', 'pawlik', 'relieved', 'prosecutor', 'mentha', 'whichever', 'difficulties', 'negotiation', 'scheme', 'flowing', 'lavarch', 'refuse', 'essential', 'smith', 'dominic', 'intimidatory', 'unsportsmanlike', 'batting', 'convincingly', 'lightly', 'noticed', 'numerous', 'dumped', 'cosmonauts', 'sales', 'shedding', 'intentions', 'easier', 'residence', 'aristide', 'widely', 'penalties', 'phillip', 'kelvin', 'prosecution', 'recklessly', 'touched', 'outgoing', 'yuri', 'szondy', 'onufrienko', 'walz', 'dan', 'bursch', 'rock', 'atmosphere', 'nasa', 'piece', 'soviet', 'tonnes', 'materials', 'scientific', 'experiments', 'mcgauran', 'bradstreet', 'dun', 'lengthy', 'yorker', 'brigade', 'hall', 'endorsed', 'offences', 'emails', 'certainty', 'mystery', 'pockets', 'thinking', 'kinds', 'facilitate', 'promises', 'chirac', 'televised', 'punished', 'terje', 'roed', 'larsen', 'father', 'hebron', 'hands', 'rejects', 'arbitrated', 'crush', 'underfoot', 'assisted', 'shared', 'lasted', 'interval', 'mujaheddin', 'focused', 'crowe', 'beitunya', 'leaked', 'brian', 'dust', 'broadcasting', 'casualty', 'kingdom', 'breach', 'formally', 'fiji', 'lifted', 'clashed', 'abdel', 'rantissi', 'failure', 'stormed', 'partially', 'nudist', 'nude', 'photo', 'shoot', 'bakes', 'spoken', 'depression', 'neither', 'diplomats', 'representatives', 'regarded', 'shepherd', 'harmed', 'entering', 'floor', 'watching', 'unsure', 'arson', 'troubled', 'genius', 'unfounded', 'troop', 'estimates', 'sponsor', 'buenos', 'aires', 'looting', 'demonstrations', 'restored', 'presidents', 'unless', 'quiet', 'vandalism', 'glass', 'el', 'privacy', 'personal', 'sectors', 'rules', 'purpose', 'crompton', 'marketing', 'culture', 'broker', 'vast', 'skating', 'pieterse', 'rubble', 'chanting', 'zone', 'detainee', 'governance', 'mp', 'lawrence', 'alp', 'sympathy', 'suffer', 'apology', 'struggle', 'carries', 'killings', 'halting', 'guerrilla', 'buses', 'watchdog', 'cmag', 'malaysia', 'makers', 'mugabe', 'maintain', 'abortion', 'voting', 'opinion', 'seventh', 'shouldn', 'helping', 'disturbances', 'disturbance', 'tear', 'granted', 'peleliu', 'interrogated', 'missing', 'battlefield', 'motorway', 'belgium', 'turbulence', 'archer', 'phenomena', 'boom', 'advised', 'gillies', 'respects', 'thorough', 'dishonestly', 'buyout', 'formula', 'assurance', 'forthcoming', 'sports', 'outlined', 'independent', 'hoon', 'offers', 'mine', 'clearing', 'handing', 'fence', 'cannon', 'page', 'obligations', 'intervene', 'jeopardise', 'voracity', 'disputes', 'scg']\n",
      "\n",
      "4\n"
     ]
    }
   ],
   "source": [
    "## build and train the model\n",
    "\n",
    "# initialize the model\n",
    "model = gensim.models.doc2vec.Doc2Vec(vector_size=50, min_count=2, epochs=40)\n",
    "\n",
    "# build the vocabulary\n",
    "model.build_vocab(train_corpus)\n",
    "\n",
    "print(model.wv.index_to_key)  # list of the vocabulary\n",
    "print(\"\")\n",
    "print(model.wv.get_vecattr('penalty', 'count'))  # number of appearance of 'penalty'"
   ]
  },
  {
   "cell_type": "code",
   "execution_count": 45,
   "metadata": {},
   "outputs": [],
   "source": [
    "# actually training the model\n",
    "model.train(train_corpus, total_examples=model.corpus_count, epochs=model.epochs)"
   ]
  },
  {
   "cell_type": "code",
   "execution_count": 46,
   "metadata": {
    "scrolled": true
   },
   "outputs": [
    {
     "name": "stdout",
     "output_type": "stream",
     "text": [
      "[-2.9283923e-01 -4.0880138e-01 -1.5998605e-01  2.1287189e-01\n",
      " -1.1779668e-01 -3.7680645e-02  9.3359619e-02  1.3919352e-02\n",
      " -2.4870393e-01 -1.7914987e-01  1.2609284e-01 -2.9767849e-04\n",
      "  1.6952196e-02 -7.7888690e-02 -1.2198131e-01 -4.6229117e-02\n",
      "  1.2895429e-01  1.9961989e-01  7.6181434e-02 -1.1011779e-01\n",
      "  2.2354845e-02  6.0970351e-02  1.3074282e-01  5.7402097e-02\n",
      " -1.4611398e-02  5.4038428e-03 -2.7368551e-01  3.9636787e-02\n",
      " -1.4585263e-01  7.2339840e-02  2.8679675e-01 -7.2431043e-02\n",
      "  1.2950321e-01 -6.6164799e-02  2.0271251e-01  1.2278174e-01\n",
      "  7.7841920e-03 -2.2162078e-01 -1.6593821e-01  4.8543286e-02\n",
      " -9.9956535e-02 -6.4829826e-02 -6.2253837e-02 -9.0442002e-02\n",
      "  1.4013019e-01  2.9873710e-02 -7.7813938e-02 -1.5028825e-01\n",
      "  1.7250584e-01  1.2777558e-02]\n",
      "\n",
      "[(223, 0.8572266101837158), (141, 0.7918969988822937), (143, 0.7896435856819153), (85, 0.7753568887710571), (51, 0.7677361369132996), (208, 0.7642424702644348), (122, 0.7624757289886475), (277, 0.760118842124939), (242, 0.7353090047836304), (125, 0.7326139807701111)]\n",
      "\n",
      "1.0\n",
      "0.5220704\n",
      "\n",
      "1.2516326480595432\n",
      "\n",
      "[-0.6598845  -1.6887672  -0.6530931   0.4611041  -0.9966809   1.3497047\n",
      "  0.25404143  0.31817505 -2.0864186  -1.1775217  -0.9185994   1.0908557\n",
      " -0.00444157  0.44348875 -0.35954046  0.82380265  0.45617577  0.753337\n",
      " -0.39640644 -0.5452258   0.491928   -0.09105577  1.4061642  -1.2189744\n",
      "  1.4214972   0.15950783 -1.0791452   0.6936278  -1.235952    0.3959979\n",
      "  0.6448099  -0.09816211  0.77896786 -0.02370657 -0.71020687  0.5951086\n",
      " -1.347144   -0.3200763   0.9068389   0.35159966  1.1433625   0.33211815\n",
      " -0.598028   -0.6451648   0.28997627  0.6139304  -0.02604933  0.49811757\n",
      "  0.5400547   0.45566353]\n"
     ]
    }
   ],
   "source": [
    "# a few functions and tests\n",
    "\n",
    "vector = model.infer_vector(['only', 'you', 'can', 'prevent', 'forest', 'fires'])\n",
    "print(vector)  # some randomization -> not always exactly the same vector\n",
    "print(\"\")\n",
    "\n",
    "# most similar docs to doc 1\n",
    "similar_doc = model.dv.most_similar(1)\n",
    "print(similar_doc)\n",
    "print(\"\")\n",
    "\n",
    "# similarity\n",
    "print(model.dv.similarity(1,1))\n",
    "print(model.dv.similarity(131,1))\n",
    "print(\"\")\n",
    "print(model.wv.wmdistance(train_corpus[1][0], ['wind'])) # distance between a doc and a word\n",
    "print(\"\")\n",
    "\n",
    "# get a doc vector\n",
    "print(model.dv[1])"
   ]
  },
  {
   "cell_type": "code",
   "execution_count": 47,
   "metadata": {},
   "outputs": [
    {
     "name": "stdout",
     "output_type": "stream",
     "text": [
      "[0, 0, 0, 0, 0, 0, 0, 0, 0, 0, 0, 0, 0, 0, 0, 0, 0, 0, 0, 0, 0, 0, 0, 0, 0, 0, 0, 0, 0, 0, 0, 0, 0, 0, 0, 0, 0, 0, 0, 0, 0, 0, 0, 0, 0, 0, 0, 0, 0, 0, 0, 0, 0, 0, 0, 0, 0, 0, 0, 0, 0, 0, 0, 0, 0, 0, 0, 0, 0, 0, 0, 0, 0, 0, 0, 0, 0, 0, 0, 0, 0, 0, 0, 0, 0, 0, 0, 0, 0, 0, 0, 0, 0, 0, 0, 0, 0, 0, 0, 0, 0, 0, 0, 0, 1, 0, 0, 0, 0, 0, 0, 0, 0, 0, 0, 0, 0, 1, 0, 1, 1, 0, 0, 0, 0, 0, 0, 0, 0, 0, 0, 0, 0, 0, 0, 0, 0, 0, 0, 0, 0, 0, 0, 0, 0, 0, 0, 0, 0, 0, 0, 0, 0, 0, 0, 0, 1, 0, 0, 0, 0, 0, 0, 0, 0, 0, 0, 0, 0, 0, 0, 0, 0, 0, 0, 0, 0, 0, 0, 0, 0, 0, 0, 0, 0, 0, 0, 0, 0, 0, 0, 0, 0, 0, 0, 0, 0, 0, 0, 0, 0, 0, 0, 0, 0, 0, 0, 0, 0, 0, 0, 0, 0, 0, 0, 0, 0, 0, 0, 0, 0, 0, 0, 0, 0, 0, 0, 0, 0, 0, 0, 0, 0, 0, 0, 0, 1, 0, 0, 0, 0, 1, 0, 0, 0, 0, 0, 0, 0, 0, 0, 0, 0, 0, 0, 0, 0, 0, 0, 0, 0, 0, 0, 0, 0, 0, 0, 0, 0, 0, 0, 1, 0, 0, 0, 0, 0, 0, 0, 0, 0, 0, 0, 0, 0, 0, 0, 0, 1, 0, 0, 0, 0, 0, 0, 0, 0, 0, 0, 0]\n",
      "Counter({0: 291, 1: 9})\n"
     ]
    }
   ],
   "source": [
    "## assessing the model\n",
    "\n",
    "# test with the training set\n",
    "\n",
    "\n",
    "# loop over the documents\n",
    "# inferred_vector: doc vectors generated with the words in the current doc\n",
    "# sims: similarity between inferred_vectors and the trained corpus\n",
    "# rank: similarity rank of the original doc compared to its generated copy\n",
    "#     => should be very small each time\n",
    "\n",
    "\n",
    "ranks = []\n",
    "second_ranks = []\n",
    "for doc_id in range(len(train_corpus)):\n",
    "    inferred_vector = model.infer_vector(train_corpus[doc_id].words)\n",
    "    sims = model.dv.most_similar([inferred_vector], topn=len(model.dv))\n",
    "    rank = [docid for docid, sim in sims].index(doc_id)\n",
    "    ranks.append(rank)\n",
    "    second_ranks.append(sims[1])\n",
    "print(ranks)\n",
    "\n",
    "# print the repartition of the ranks\n",
    "import collections\n",
    "\n",
    "counter = collections.Counter(ranks)\n",
    "print(counter)"
   ]
  },
  {
   "cell_type": "code",
   "execution_count": 48,
   "metadata": {
    "scrolled": true
   },
   "outputs": [
    {
     "name": "stdout",
     "output_type": "stream",
     "text": [
      "Train Document (290): «third case of mad cow disease has been confirmed in japan panel of experts at japan health ministry has confirmed that another cow has the disease officials say all meat and organs from the dairy cow will be incinerated it is japan third case of mad cow disease and ministerial spokesman says he cannot tell how many more cases will be found as nationwide test continues the government has not determined the source of the outbreak»\n",
      "\n",
      "Similar Document (210, 0.6455407738685608): «the australian government is continuing to talk to indian authorities about man who has confessed to planning attacks against australia amongst other countries twenty eight year old mohammed afroz who undertook pilot training in australia in and has been charged with waging war against india he has also made claims about planning terrorist attacks in australia with the rialto towers in melbourne one target while the government is taking the claims seriously there is some skepticism about them the attorney general daryl williams says some of the detail of the claims simply has not been accurate the claim the man relatives in europe have links to osama bin laden terrorist network has been found to be untrue australia is asking india for permission to talk to the man but government sources say they will not confirm if the request has been granted»\n",
      "\n"
     ]
    }
   ],
   "source": [
    "# Pick a random document from the corpus and infer a vector from the model\n",
    "import random\n",
    "doc_id = random.randint(0, len(train_corpus) - 1)\n",
    "\n",
    "# Compare and print the second-most-similar document\n",
    "print('Train Document ({}): «{}»\\n'.format(doc_id, ' '.join(train_corpus[doc_id].words)))\n",
    "sim_id = second_ranks[doc_id]\n",
    "print('Similar Document {}: «{}»\\n'.format(sim_id, ' '.join(train_corpus[sim_id[0]].words)))"
   ]
  },
  {
   "cell_type": "code",
   "execution_count": 49,
   "metadata": {
    "scrolled": true
   },
   "outputs": [
    {
     "name": "stdout",
     "output_type": "stream",
     "text": [
      "Test Document (16): «beijing has abruptly withdrawn new car registration system after drivers demonstrated an unhealthy fixation with symbols of western military and industrial strength such as fbi and senior officials have been infuriated by popular demonstration of interest in american institutions such as the fbi particularly galling was one man choice of tmd which stands for theatre missile defence us designed missile system that is regularly vilified by chinese propaganda channels»\n",
      "\n",
      "SIMILAR/DISSIMILAR DOCS PER MODEL Doc2Vec(dm/m,d50,n5,w5,mc2,s0.001,t3):\n",
      "\n",
      "MOST (66, 0.6726648211479187): «argentina government has crumbled after at least people were killed and hundreds injured in nationwide riots argentina president fernando de la rua has resigned and called for national unity government with the opposition peronists the president resignation followed hours of rioting across the country people took to the streets protesting against the government economic austerity program argentina is now on the brink of defaulting on its next debt repayment which could be the largest default ever the opposition parties are reported to have rejected the call for national unity government in washington the international monetary fund said it would work with the new cabinet government policy has previously ruled out any devaluation of the peso fearing run on the currency and an even greater debt crisis the government has also declared day state of siege in an effort to restore order»\n",
      "\n",
      "MEDIAN (95, 0.3316791355609894): «legal abortion in tasmania is one step closer with the lower house of parliament voting to change the state abortion laws after marathon hour debate the house of assembly this morning passed by votes to eight private member bill which would allow medically sanctioned abortions debate on the bill began at am aedt yesterday and at am today speaker michael polley declared result just before pm the deputy premier paul lennon police minister david llewellyn and labor backbencher steven kons abstained from voting on the bill second reading then came seven hours of debate on proposed amendments calling for further expert opinion post procedure counselling cooling off periods and calls to stop the bill being retrospective but apart from an amendment to ensure specialist assessment and written consent for the procedure the bill passed unchanged the legislative council will begin debate on the bill at am today»\n",
      "\n",
      "LEAST (6, -0.02786749042570591): «the united states team of monica seles and jan michael gambill scored decisive victory over unseeded france in their first hopman cup match at burswood dome in perth the pair runners up in the million dollar mixed teams event last year both won their singles encounters to give the us an unbeatable lead the year old seles currently ranked eighth recovered from shaky start to overpower virginie razzano who is ranked nd seles had to fight hard to get home in straight sets winning in minutes then the year old gambill ranked st wore down determined arnaud clement th to win in minutes the americans are aiming to go one better than last year when they were beaten by swiss pair martina hingis and roger federer in the final of the eight nation contest gambill said the win was great way to start the tennis year got little tentative at the end but it was great start to my year he said arnaud is great scrapper and am delighted to beat him even though am frankly bit out of shape that is one of the reasons am here will be in shape by the end of the tournament just aim to keep improving in the new year and if do think have chance to beat anyone when am playing well gambill was pressed hard by clement before taking the first set in minutes but the american gained the ascendancy in the second set breaking in the third and fifth games seles said she had expected her clash with razzano to be tough she was top junior player in the world so it was no surprise that she fought so well she said seles said she still had the hunger to strive to regain her position at the top of her sport this is why you play she said but want to try not to peak too early this season seles slow into her stride slipped to in her opening set against razzano but recovered quickly claiming the set after snatching four games in row in the second set seles broke her opponent in the opening game and completed victory with relative ease despite razzano tenacious efforts»\n",
      "\n"
     ]
    }
   ],
   "source": [
    "# test with the testing set\n",
    "\n",
    "# pic a random document from the test corpus and infer a vector from the model\n",
    "doc_id = random.randint(0, len(test_corpus) - 1)\n",
    "inferred_vector = model.infer_vector(test_corpus[doc_id])\n",
    "sims = model.dv.most_similar([inferred_vector], topn=len(model.dv))\n",
    "\n",
    "# Compare and print the most/median/least similar documents from the train corpus\n",
    "print('Test Document ({}): «{}»\\n'.format(doc_id, ' '.join(test_corpus[doc_id])))\n",
    "print(u'SIMILAR/DISSIMILAR DOCS PER MODEL %s:\\n' % model)\n",
    "for label, index in [('MOST', 0), ('MEDIAN', len(sims)//2), ('LEAST', len(sims) - 1)]:\n",
    "    print(u'%s %s: «%s»\\n' % (label, sims[index], ' '.join(train_corpus[sims[index][0]].words)))"
   ]
  },
  {
   "cell_type": "code",
   "execution_count": 50,
   "metadata": {},
   "outputs": [
    {
     "name": "stdout",
     "output_type": "stream",
     "text": [
      "['the', 'national', 'executive', 'of', 'the', 'strife', 'torn', 'democrats', 'last', 'night', 'appointed', 'little', 'known', 'west', 'australian', 'senator', 'brian', 'greig', 'as', 'interim', 'leader', 'shock', 'move', 'likely', 'to', 'provoke', 'further', 'conflict', 'between', 'the', 'party', 'senators', 'and', 'its', 'organisation', 'in', 'move', 'to', 'reassert', 'control', 'over', 'the', 'party', 'seven', 'senators', 'the', 'national', 'executive', 'last', 'night', 'rejected', 'aden', 'ridgeway', 'bid', 'to', 'become', 'interim', 'leader', 'in', 'favour', 'of', 'senator', 'greig', 'supporter', 'of', 'deposed', 'leader', 'natasha', 'stott', 'despoja', 'and', 'an', 'outspoken', 'gay', 'rights', 'activist']\n",
      "['cash', 'strapped', 'financial', 'services', 'group', 'amp', 'has', 'shelved', 'million', 'plan', 'to', 'buy', 'shares', 'back', 'from', 'investors', 'and', 'will', 'raise', 'million', 'in', 'fresh', 'capital', 'after', 'profits', 'crashed', 'in', 'the', 'six', 'months', 'to', 'june', 'chief', 'executive', 'paul', 'batchelor', 'said', 'the', 'result', 'was', 'solid', 'in', 'what', 'he', 'described', 'as', 'the', 'worst', 'conditions', 'for', 'stock', 'markets', 'in', 'years', 'amp', 'half', 'year', 'profit', 'sank', 'per', 'cent', 'to', 'million', 'or', 'share', 'as', 'australia', 'largest', 'investor', 'and', 'fund', 'manager', 'failed', 'to', 'hit', 'projected', 'per', 'cent', 'earnings', 'growth', 'targets', 'and', 'was', 'battered', 'by', 'falling', 'returns', 'on', 'share', 'markets']\n",
      "\n",
      "wmd: 0.7483515235451339\n"
     ]
    }
   ],
   "source": [
    "# test if wmd works here\n",
    "\n",
    "print(test_corpus[0])\n",
    "print(test_corpus[1])\n",
    "print(\"\")\n",
    "\n",
    "distance = model.wv.wmdistance(test_corpus[0], test_corpus[1])\n",
    "print(\"wmd:\", distance)"
   ]
  },
  {
   "cell_type": "code",
   "execution_count": 51,
   "metadata": {},
   "outputs": [
    {
     "name": "stdout",
     "output_type": "stream",
     "text": [
      "['indian', 'security', 'forces', 'have', 'shot', 'dead', 'eight', 'suspected', 'militants', 'in', 'night', 'long', 'encounter', 'in', 'southern', 'kashmir', 'the', 'shootout', 'took', 'place', 'at', 'dora', 'village', 'some', 'kilometers', 'south', 'of', 'the', 'kashmiri', 'summer', 'capital', 'srinagar', 'the', 'deaths', 'came', 'as', 'pakistani', 'police', 'arrested', 'more', 'than', 'two', 'dozen', 'militants', 'from', 'extremist', 'groups', 'accused', 'of', 'staging', 'an', 'attack', 'on', 'india', 'parliament', 'india', 'has', 'accused', 'pakistan', 'based', 'lashkar', 'taiba', 'and', 'jaish', 'mohammad', 'of', 'carrying', 'out', 'the', 'attack', 'on', 'december', 'at', 'the', 'behest', 'of', 'pakistani', 'military', 'intelligence', 'military', 'tensions', 'have', 'soared', 'since', 'the', 'raid', 'with', 'both', 'sides', 'massing', 'troops', 'along', 'their', 'border', 'and', 'trading', 'tit', 'for', 'tat', 'diplomatic', 'sanctions', 'yesterday', 'pakistan', 'announced', 'it', 'had', 'arrested', 'lashkar', 'taiba', 'chief', 'hafiz', 'mohammed', 'saeed', 'police', 'in', 'karachi', 'say', 'it', 'is', 'likely', 'more', 'raids', 'will', 'be', 'launched', 'against', 'the', 'two', 'groups', 'as', 'well', 'as', 'other', 'militant', 'organisations', 'accused', 'of', 'targetting', 'india', 'military', 'tensions', 'between', 'india', 'and', 'pakistan', 'have', 'escalated', 'to', 'level', 'not', 'seen', 'since', 'their', 'war']\n",
      "\n",
      "0.7039983\n"
     ]
    }
   ],
   "source": [
    "doc1 = train_corpus[1][0]\n",
    "print(doc1)\n",
    "print(\"\")\n",
    "\n",
    "print(model.similarity_unseen_docs(doc_words1=doc1, doc_words2=['indian']))\n",
    "# as the ['indian'] doc vector is generated each time (as not in the db), the result is slightly different each time"
   ]
  },
  {
   "cell_type": "code",
   "execution_count": 52,
   "metadata": {
    "scrolled": true
   },
   "outputs": [
    {
     "name": "stdout",
     "output_type": "stream",
     "text": [
      "Best words for doc 1:\n",
      "[('tensions', 0.890010416507721), ('warplanes', 0.8727753758430481), ('kashmiri', 0.8454746603965759), ('arresting', 0.8430169224739075), ('armed', 0.8388275504112244), ('massing', 0.8366424441337585), ('palace', 0.8321982622146606), ('groups', 0.8282104134559631), ('possibly', 0.8191446661949158), ('bomber', 0.8183948397636414)]\n",
      "\n",
      "Best words for ['indian'] document:\n",
      "[('prompting', 0.8862071633338928), ('atal', 0.8838209509849548), ('airspace', 0.8808726072311401), ('la', 0.8774158358573914), ('criticised', 0.8739700317382812), ('de', 0.8736332654953003), ('funding', 0.8683246970176697), ('fernando', 0.8631479740142822), ('presidents', 0.8601347208023071), ('billion', 0.8543084263801575)]\n",
      "\n",
      "Similarity 'indian' (word) and ['indian'] (doc):\n",
      "[[0.8093329]]\n",
      "0.8093329071998596\n"
     ]
    }
   ],
   "source": [
    "# comparing docvec of a word and a word vector\n",
    "\n",
    "import numpy as np\n",
    "from sklearn.metrics.pairwise import cosine_similarity\n",
    "\n",
    "\n",
    "# closest word neighbour of a document\n",
    "\n",
    "docvec = model.dv[1]  # assuming such a doc-tag exists\n",
    "similar_words = model.wv.most_similar(positive=[docvec])\n",
    "print(\"Best words for doc 1:\")\n",
    "print(similar_words)\n",
    "print(\"\")\n",
    "\n",
    "\n",
    "# comparing a single-word doc to its word\n",
    "\n",
    "doc_vec = model.infer_vector(['indian'])\n",
    "print(\"Best words for ['indian'] document:\")\n",
    "print(model.wv.most_similar(positive=[doc_vec]))\n",
    "print(\"\")\n",
    "\n",
    "print(\"Similarity 'indian' (word) and ['indian'] (doc):\")\n",
    "word_vec = model.wv['indian']\n",
    "\n",
    "print(cosine_similarity([doc_vec], [word_vec]))\n",
    "\n",
    "# checking that similarity is equal to normalized scalar product\n",
    "sims = model.wv.most_similar(positive=[doc_vec], topn=len(model.wv.key_to_index))\n",
    "for word, sim in sims:\n",
    "    if word == 'indian':\n",
    "        print(sim)\n",
    "# it is!\n",
    "# however, its value changes, as the indian doc is generated (and slightly different) each time"
   ]
  },
  {
   "cell_type": "code",
   "execution_count": 53,
   "metadata": {},
   "outputs": [],
   "source": [
    "# save model\n",
    "\n",
    "model.save('w2v_tuto_model')\n",
    "model.wv.save('word_vectors')\n",
    "model.dv.save('doc_vectors')"
   ]
  },
  {
   "cell_type": "code",
   "execution_count": 14,
   "metadata": {
    "scrolled": true
   },
   "outputs": [
    {
     "name": "stdout",
     "output_type": "stream",
     "text": [
      "[-0.08053529 -0.31170493 -0.6246018   0.08785795 -1.7932534   1.1329191\n",
      "  1.5318613   0.7997973  -1.4399565  -1.753942   -0.4591222   1.6116158\n",
      "  0.17891823  0.44310346 -0.42870468  1.7388625   0.48369253 -0.4495798\n",
      " -1.2298552  -0.26455963 -0.32319427  0.67901236  1.0954758  -0.41132\n",
      "  0.68269557 -0.01654905 -0.50618726 -0.07899472 -1.0640057   0.6894789\n",
      "  1.1052592  -0.66796803 -0.3543477  -0.19738258 -0.2954523   0.37720394\n",
      " -1.2817628   0.19632885  1.1323453   0.82990915  0.40673476  0.08475801\n",
      " -1.1504569  -0.16489862  0.22001448 -0.2515836   0.26171848  0.02284985\n",
      "  1.0731535   0.86899257]\n",
      "\n",
      "[-0.6598845  -1.6887672  -0.6530931   0.4611041  -0.9966809   1.3497047\n",
      "  0.25404143  0.31817505 -2.0864186  -1.1775217  -0.9185994   1.0908557\n",
      " -0.00444157  0.44348875 -0.35954046  0.82380265  0.45617577  0.753337\n",
      " -0.39640644 -0.5452258   0.491928   -0.09105577  1.4061642  -1.2189744\n",
      "  1.4214972   0.15950783 -1.0791452   0.6936278  -1.235952    0.3959979\n",
      "  0.6448099  -0.09816211  0.77896786 -0.02370657 -0.71020687  0.5951086\n",
      " -1.347144   -0.3200763   0.9068389   0.35159966  1.1433625   0.33211815\n",
      " -0.598028   -0.6451648   0.28997627  0.6139304  -0.02604933  0.49811757\n",
      "  0.5400547   0.45566353]\n",
      "\n",
      "50\n",
      "2\n",
      "40\n"
     ]
    }
   ],
   "source": [
    "# tests on loading models\n",
    "import gensim\n",
    "Doc2Vec = gensim.models.doc2vec.Doc2Vec\n",
    "\n",
    "\n",
    "# load the full model\n",
    "model = Doc2Vec.load('w2v_tuto_model')\n",
    "wv = model.wv\n",
    "print(wv['indian'])\n",
    "print(\"\")\n",
    "print(model.dv[1])\n",
    "\n",
    "print(\"\")\n",
    "print(model.vector_size) # should be 50\n",
    "print(model.min_count)  # should be 2\n",
    "print(model.epochs)  # should be 40"
   ]
  },
  {
   "cell_type": "code",
   "execution_count": 13,
   "metadata": {
    "scrolled": true
   },
   "outputs": [
    {
     "name": "stdout",
     "output_type": "stream",
     "text": [
      "[-0.95529085 -0.0025306  -0.1585522   0.10220353  0.31530416  0.15018095\n",
      "  0.41613835  0.23638444 -0.01177099 -0.10067333 -0.01750907 -0.5921014\n",
      " -0.01215258 -0.53711647  0.31549335 -0.32618922  0.39495748  0.8168934\n",
      "  0.09353938  0.08008084  0.02198712  0.01110487  0.49316376 -0.40439475\n",
      "  0.10861848  0.09116187 -0.5288482  -0.76469976  0.27945432 -0.3553097\n",
      "  0.55315834  0.17749658  0.03566943  0.329717    0.2068358   0.3937574\n",
      "  0.7548316  -0.7015027   0.28713027  0.25565478  0.41316122  0.08341684\n",
      " -0.36993167 -0.5580509   0.38938388  0.50712013  0.11416388 -0.4494152\n",
      "  0.41166827  0.06591243]\n",
      "\n",
      "[-0.6598845  -1.6887672  -0.6530931   0.4611041  -0.9966809   1.3497047\n",
      "  0.25404143  0.31817505 -2.0864186  -1.1775217  -0.9185994   1.0908557\n",
      " -0.00444157  0.44348875 -0.35954046  0.82380265  0.45617577  0.753337\n",
      " -0.39640644 -0.5452258   0.491928   -0.09105577  1.4061642  -1.2189744\n",
      "  1.4214972   0.15950783 -1.0791452   0.6936278  -1.235952    0.3959979\n",
      "  0.6448099  -0.09816211  0.77896786 -0.02370657 -0.71020687  0.5951086\n",
      " -1.347144   -0.3200763   0.9068389   0.35159966  1.1433625   0.33211815\n",
      " -0.598028   -0.6451648   0.28997627  0.6139304  -0.02604933  0.49811757\n",
      "  0.5400547   0.45566353]\n",
      "\n",
      "[(223, 0.8572266101837158), (141, 0.7918969988822937), (143, 0.7896435856819153), (85, 0.7753568887710571), (51, 0.7677361369132996), (208, 0.7642424702644348), (122, 0.7624757289886475), (277, 0.760118842124939), (242, 0.7353090047836304), (125, 0.7326139807701111)]\n",
      "\n",
      "100\n",
      "5\n",
      "10\n"
     ]
    }
   ],
   "source": [
    "# load subparts\n",
    "import gensim\n",
    "Doc2Vec = gensim.models.doc2vec.Doc2Vec\n",
    "\n",
    "model = Doc2Vec()\n",
    "model.wv = model.wv.load('word_vectors')\n",
    "model.dv = model.dv.load('doc_vectors')\n",
    "\n",
    "print(model.wv['wind'])\n",
    "print(\"\")\n",
    "print(model.dv[1])\n",
    "print(\"\")\n",
    "print(model.dv.most_similar(1))\n",
    "print(\"\")\n",
    "\n",
    "# doesn't remember correctly these\n",
    "print(model.vector_size) # should be 50\n",
    "print(model.min_count)  # should be 2\n",
    "print(model.epochs)  # should be 40"
   ]
  },
  {
   "cell_type": "code",
   "execution_count": 16,
   "metadata": {},
   "outputs": [
    {
     "name": "stdout",
     "output_type": "stream",
     "text": [
      "[-0.6598845  -1.6887672  -0.6530931   0.4611041  -0.9966809   1.3497047\n",
      "  0.25404143  0.31817505 -2.0864186  -1.1775217  -0.9185994   1.0908557\n",
      " -0.00444157  0.44348875 -0.35954046  0.82380265  0.45617577  0.753337\n",
      " -0.39640644 -0.5452258   0.491928   -0.09105577  1.4061642  -1.2189744\n",
      "  1.4214972   0.15950783 -1.0791452   0.6936278  -1.235952    0.3959979\n",
      "  0.6448099  -0.09816211  0.77896786 -0.02370657 -0.71020687  0.5951086\n",
      " -1.347144   -0.3200763   0.9068389   0.35159966  1.1433625   0.33211815\n",
      " -0.598028   -0.6451648   0.28997627  0.6139304  -0.02604933  0.49811757\n",
      "  0.5400547   0.45566353]\n",
      "\n",
      "50\n",
      "2\n",
      "40\n",
      "<class 'bytes'>\n",
      "[-0.6598845  -1.6887672  -0.6530931   0.4611041  -0.9966809   1.3497047\n",
      "  0.25404143  0.31817505 -2.0864186  -1.1775217  -0.9185994   1.0908557\n",
      " -0.00444157  0.44348875 -0.35954046  0.82380265  0.45617577  0.753337\n",
      " -0.39640644 -0.5452258   0.491928   -0.09105577  1.4061642  -1.2189744\n",
      "  1.4214972   0.15950783 -1.0791452   0.6936278  -1.235952    0.3959979\n",
      "  0.6448099  -0.09816211  0.77896786 -0.02370657 -0.71020687  0.5951086\n",
      " -1.347144   -0.3200763   0.9068389   0.35159966  1.1433625   0.33211815\n",
      " -0.598028   -0.6451648   0.28997627  0.6139304  -0.02604933  0.49811757\n",
      "  0.5400547   0.45566353]\n",
      "\n",
      "50\n",
      "2\n",
      "40\n"
     ]
    }
   ],
   "source": [
    "# test on pickle\n",
    "\n",
    "import pickle\n",
    "\n",
    "model = Doc2Vec.load('w2v_tuto_model')\n",
    "\n",
    "with open(\"pickle_w2v\", 'wb') as file:\n",
    "    pickle.dump(model, file)\n",
    "\n",
    "with open('pickle_w2v', 'rb') as file:\n",
    "    m_d2v = pickle.load(file)\n",
    "    \n",
    "    print(m_d2v.dv[1])\n",
    "    print(\"\")\n",
    "    print(m_d2v.vector_size) # should be 50\n",
    "    print(m_d2v.min_count)  # should be 2\n",
    "    print(m_d2v.epochs)  # should be 40\n",
    "\n",
    "    \n",
    "# without using a file\n",
    "model = Doc2Vec.load('w2v_tuto_model')\n",
    "\n",
    "pickled_model = pickle.dumps(model)\n",
    "print(type(pickled_model))\n",
    "\n",
    "m_d2v = pickle.loads(pickled_model)\n",
    "\n",
    "print(m_d2v.dv[1])\n",
    "print(\"\")\n",
    "print(m_d2v.vector_size) # should be 50\n",
    "print(m_d2v.min_count)  # should be 2\n",
    "print(m_d2v.epochs)  # should be 40"
   ]
  },
  {
   "cell_type": "code",
   "execution_count": null,
   "metadata": {},
   "outputs": [],
   "source": [
    "### train further a pre trained model"
   ]
  },
  {
   "cell_type": "code",
   "execution_count": 11,
   "metadata": {},
   "outputs": [],
   "source": [
    "import gensim.downloader as api\n",
    "from gensim.models.word2vec import Word2Vec"
   ]
  },
  {
   "cell_type": "code",
   "execution_count": 10,
   "metadata": {},
   "outputs": [
    {
     "data": {
      "text/plain": [
       "array([-0.20454  ,  0.23321  , -0.59158  , -0.29205  ,  0.29391  ,\n",
       "        0.31169  , -0.94937  ,  0.055974 ,  1.0031   , -1.0761   ,\n",
       "       -0.0094648,  0.18381  , -0.048405 , -0.35717  ,  0.26004  ,\n",
       "       -0.41028  ,  0.51489  ,  1.2009   , -1.6136   , -1.1003   ,\n",
       "       -0.23455  , -0.81654  , -0.15103  ,  0.37068  ,  0.477    ,\n",
       "       -1.7027   , -1.2183   ,  0.038898 ,  0.23327  ,  0.028245 ,\n",
       "        1.6588   ,  0.26703  , -0.29938  ,  0.99149  ,  0.34263  ,\n",
       "        0.15477  ,  0.028372 ,  0.56276  , -0.62823  , -0.67923  ,\n",
       "       -0.163    , -0.49922  , -0.8599   ,  0.85469  ,  0.75059  ,\n",
       "       -1.0399   , -0.11033  , -1.4237   ,  0.65984  , -0.3198   ],\n",
       "      dtype=float32)"
      ]
     },
     "execution_count": 10,
     "metadata": {},
     "output_type": "execute_result"
    }
   ],
   "source": [
    "wv = api.load(\"glove-wiki-gigaword-50\")\n",
    "wv['horse']  # it is actually a KeyedVector, not the global model"
   ]
  },
  {
   "cell_type": "code",
   "execution_count": 16,
   "metadata": {},
   "outputs": [
    {
     "ename": "TypeError",
     "evalue": "unhashable type: 'list'",
     "output_type": "error",
     "traceback": [
      "\u001b[0;31m---------------------------------------------------------------------------\u001b[0m",
      "\u001b[0;31mTypeError\u001b[0m                                 Traceback (most recent call last)",
      "\u001b[0;32m<ipython-input-16-944cee6e716c>\u001b[0m in \u001b[0;36m<module>\u001b[0;34m\u001b[0m\n\u001b[1;32m      2\u001b[0m \u001b[0mnew_model\u001b[0m\u001b[0;34m.\u001b[0m\u001b[0mwv\u001b[0m \u001b[0;34m=\u001b[0m \u001b[0mwv\u001b[0m\u001b[0;34m\u001b[0m\u001b[0;34m\u001b[0m\u001b[0m\n\u001b[1;32m      3\u001b[0m \u001b[0;34m\u001b[0m\u001b[0m\n\u001b[0;32m----> 4\u001b[0;31m \u001b[0mnew_model\u001b[0m\u001b[0;34m.\u001b[0m\u001b[0mbuild_vocab\u001b[0m\u001b[0;34m(\u001b[0m\u001b[0mtrain_corpus\u001b[0m\u001b[0;34m,\u001b[0m \u001b[0mupdate\u001b[0m\u001b[0;34m=\u001b[0m\u001b[0;32mTrue\u001b[0m\u001b[0;34m)\u001b[0m\u001b[0;34m\u001b[0m\u001b[0;34m\u001b[0m\u001b[0m\n\u001b[0m",
      "\u001b[0;32m~/tuto_gensim/venv/lib/python3.8/site-packages/gensim/models/word2vec.py\u001b[0m in \u001b[0;36mbuild_vocab\u001b[0;34m(self, corpus_iterable, corpus_file, update, progress_per, keep_raw_vocab, trim_rule, **kwargs)\u001b[0m\n\u001b[1;32m    478\u001b[0m         \"\"\"\n\u001b[1;32m    479\u001b[0m         \u001b[0mself\u001b[0m\u001b[0;34m.\u001b[0m\u001b[0m_check_corpus_sanity\u001b[0m\u001b[0;34m(\u001b[0m\u001b[0mcorpus_iterable\u001b[0m\u001b[0;34m=\u001b[0m\u001b[0mcorpus_iterable\u001b[0m\u001b[0;34m,\u001b[0m \u001b[0mcorpus_file\u001b[0m\u001b[0;34m=\u001b[0m\u001b[0mcorpus_file\u001b[0m\u001b[0;34m,\u001b[0m \u001b[0mpasses\u001b[0m\u001b[0;34m=\u001b[0m\u001b[0;36m1\u001b[0m\u001b[0;34m)\u001b[0m\u001b[0;34m\u001b[0m\u001b[0;34m\u001b[0m\u001b[0m\n\u001b[0;32m--> 480\u001b[0;31m         total_words, corpus_count = self.scan_vocab(\n\u001b[0m\u001b[1;32m    481\u001b[0m             corpus_iterable=corpus_iterable, corpus_file=corpus_file, progress_per=progress_per, trim_rule=trim_rule)\n\u001b[1;32m    482\u001b[0m         \u001b[0mself\u001b[0m\u001b[0;34m.\u001b[0m\u001b[0mcorpus_count\u001b[0m \u001b[0;34m=\u001b[0m \u001b[0mcorpus_count\u001b[0m\u001b[0;34m\u001b[0m\u001b[0;34m\u001b[0m\u001b[0m\n",
      "\u001b[0;32m~/tuto_gensim/venv/lib/python3.8/site-packages/gensim/models/word2vec.py\u001b[0m in \u001b[0;36mscan_vocab\u001b[0;34m(self, corpus_iterable, corpus_file, progress_per, workers, trim_rule)\u001b[0m\n\u001b[1;32m    573\u001b[0m             \u001b[0mcorpus_iterable\u001b[0m \u001b[0;34m=\u001b[0m \u001b[0mLineSentence\u001b[0m\u001b[0;34m(\u001b[0m\u001b[0mcorpus_file\u001b[0m\u001b[0;34m)\u001b[0m\u001b[0;34m\u001b[0m\u001b[0;34m\u001b[0m\u001b[0m\n\u001b[1;32m    574\u001b[0m \u001b[0;34m\u001b[0m\u001b[0m\n\u001b[0;32m--> 575\u001b[0;31m         \u001b[0mtotal_words\u001b[0m\u001b[0;34m,\u001b[0m \u001b[0mcorpus_count\u001b[0m \u001b[0;34m=\u001b[0m \u001b[0mself\u001b[0m\u001b[0;34m.\u001b[0m\u001b[0m_scan_vocab\u001b[0m\u001b[0;34m(\u001b[0m\u001b[0mcorpus_iterable\u001b[0m\u001b[0;34m,\u001b[0m \u001b[0mprogress_per\u001b[0m\u001b[0;34m,\u001b[0m \u001b[0mtrim_rule\u001b[0m\u001b[0;34m)\u001b[0m\u001b[0;34m\u001b[0m\u001b[0;34m\u001b[0m\u001b[0m\n\u001b[0m\u001b[1;32m    576\u001b[0m \u001b[0;34m\u001b[0m\u001b[0m\n\u001b[1;32m    577\u001b[0m         logger.info(\n",
      "\u001b[0;32m~/tuto_gensim/venv/lib/python3.8/site-packages/gensim/models/word2vec.py\u001b[0m in \u001b[0;36m_scan_vocab\u001b[0;34m(self, sentences, progress_per, trim_rule)\u001b[0m\n\u001b[1;32m    557\u001b[0m                 )\n\u001b[1;32m    558\u001b[0m             \u001b[0;32mfor\u001b[0m \u001b[0mword\u001b[0m \u001b[0;32min\u001b[0m \u001b[0msentence\u001b[0m\u001b[0;34m:\u001b[0m\u001b[0;34m\u001b[0m\u001b[0;34m\u001b[0m\u001b[0m\n\u001b[0;32m--> 559\u001b[0;31m                 \u001b[0mvocab\u001b[0m\u001b[0;34m[\u001b[0m\u001b[0mword\u001b[0m\u001b[0;34m]\u001b[0m \u001b[0;34m+=\u001b[0m \u001b[0;36m1\u001b[0m\u001b[0;34m\u001b[0m\u001b[0;34m\u001b[0m\u001b[0m\n\u001b[0m\u001b[1;32m    560\u001b[0m             \u001b[0mtotal_words\u001b[0m \u001b[0;34m+=\u001b[0m \u001b[0mlen\u001b[0m\u001b[0;34m(\u001b[0m\u001b[0msentence\u001b[0m\u001b[0;34m)\u001b[0m\u001b[0;34m\u001b[0m\u001b[0;34m\u001b[0m\u001b[0m\n\u001b[1;32m    561\u001b[0m \u001b[0;34m\u001b[0m\u001b[0m\n",
      "\u001b[0;31mTypeError\u001b[0m: unhashable type: 'list'"
     ]
    }
   ],
   "source": [
    "new_model = Word2Vec()\n",
    "new_model.wv = wv\n",
    "\n",
    "new_model.build_vocab(train_corpus, update=True)"
   ]
  }
 ],
 "metadata": {
  "kernelspec": {
   "display_name": "Python 3",
   "language": "python",
   "name": "python3"
  },
  "language_info": {
   "codemirror_mode": {
    "name": "ipython",
    "version": 3
   },
   "file_extension": ".py",
   "mimetype": "text/x-python",
   "name": "python",
   "nbconvert_exporter": "python",
   "pygments_lexer": "ipython3",
   "version": "3.8.3"
  }
 },
 "nbformat": 4,
 "nbformat_minor": 5
}
