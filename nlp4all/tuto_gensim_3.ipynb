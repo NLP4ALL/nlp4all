{
 "cells": [
  {
   "cell_type": "code",
   "execution_count": 1,
   "id": "digital-feature",
   "metadata": {},
   "outputs": [],
   "source": [
    "import logging\n",
    "logging.basicConfig(format='%(asctime)s : %(levelname)s : %(message)s', level=logging.INFO)"
   ]
  },
  {
   "cell_type": "code",
   "execution_count": 15,
   "id": "designed-alliance",
   "metadata": {},
   "outputs": [
    {
     "name": "stderr",
     "output_type": "stream",
     "text": [
      "2021-03-22 13:38:22,242 : INFO : adding document #0 to Dictionary(0 unique tokens: [])\n",
      "2021-03-22 13:38:22,244 : INFO : built Dictionary(12 unique tokens: ['computer', 'human', 'interface', 'response', 'survey']...) from 9 documents (total 29 corpus positions)\n"
     ]
    },
    {
     "name": "stdout",
     "output_type": "stream",
     "text": [
      "n_docs 9\n",
      "n_words 12\n"
     ]
    },
    {
     "data": {
      "text/plain": [
       "[[(0, 1), (1, 1), (2, 1)],\n",
       " [(0, 1), (3, 1), (4, 1), (5, 1), (6, 1), (7, 1)],\n",
       " [(2, 1), (5, 1), (7, 1), (8, 1)],\n",
       " [(1, 1), (5, 2), (8, 1)],\n",
       " [(3, 1), (6, 1), (7, 1)],\n",
       " [(9, 1)],\n",
       " [(9, 1), (10, 1)],\n",
       " [(9, 1), (10, 1), (11, 1)],\n",
       " [(4, 1), (10, 1), (11, 1)]]"
      ]
     },
     "execution_count": 15,
     "metadata": {},
     "output_type": "execute_result"
    }
   ],
   "source": [
    "from collections import defaultdict\n",
    "from gensim import corpora\n",
    "\n",
    "documents = [\n",
    "    \"Human machine interface for lab abc computer applications\",\n",
    "    \"A survey of user opinion of computer system response time\",\n",
    "    \"The EPS user interface management system\",\n",
    "    \"System and human system engineering testing of EPS\",\n",
    "    \"Relation of user perceived response time to error measurement\",\n",
    "    \"The generation of random binary unordered trees\",\n",
    "    \"The intersection graph of paths in trees\",\n",
    "    \"Graph minors IV Widths of trees and well quasi ordering\",\n",
    "    \"Graph minors A survey\",\n",
    "]\n",
    "\n",
    "n_docs = len(documents)\n",
    "\n",
    "# remove common words and tokenize\n",
    "stoplist = set('for a of the and to in'.split())\n",
    "texts = [\n",
    "    [word for word in document.lower().split() if word not in stoplist]\n",
    "    for document in documents\n",
    "]\n",
    "\n",
    "# remove words that appear only once\n",
    "frequency = defaultdict(int)\n",
    "for text in texts:\n",
    "    for token in text:\n",
    "        frequency[token] += 1\n",
    "\n",
    "texts = [\n",
    "    [token for token in text if frequency[token] > 1]\n",
    "    for text in texts\n",
    "]\n",
    "\n",
    "dictionary = corpora.Dictionary(texts)\n",
    "n_words = len(dictionary)\n",
    "corpus = [dictionary.doc2bow(text) for text in texts]\n",
    "print(\"n_docs\", n_docs)\n",
    "print('n_words', n_words)\n",
    "corpus"
   ]
  },
  {
   "cell_type": "code",
   "execution_count": 6,
   "id": "abroad-indiana",
   "metadata": {},
   "outputs": [
    {
     "name": "stderr",
     "output_type": "stream",
     "text": [
      "2021-03-22 13:15:51,029 : INFO : collecting document frequencies\n",
      "2021-03-22 13:15:51,030 : INFO : PROGRESS: processing document #0\n",
      "2021-03-22 13:15:51,031 : INFO : calculating IDF weights for 9 documents and 12 features (28 matrix non-zeros)\n"
     ]
    },
    {
     "ename": "TypeError",
     "evalue": "'int' object is not iterable",
     "output_type": "error",
     "traceback": [
      "\u001b[0;31m---------------------------------------------------------------------------\u001b[0m",
      "\u001b[0;31mTypeError\u001b[0m                                 Traceback (most recent call last)",
      "\u001b[0;32m<ipython-input-6-eb6664d6af84>\u001b[0m in \u001b[0;36m<module>\u001b[0;34m\u001b[0m\n\u001b[1;32m      2\u001b[0m \u001b[0;34m\u001b[0m\u001b[0m\n\u001b[1;32m      3\u001b[0m \u001b[0mtfidf\u001b[0m \u001b[0;34m=\u001b[0m \u001b[0mmodels\u001b[0m\u001b[0;34m.\u001b[0m\u001b[0mTfidfModel\u001b[0m\u001b[0;34m(\u001b[0m\u001b[0mcorpus\u001b[0m\u001b[0;34m)\u001b[0m\u001b[0;34m\u001b[0m\u001b[0;34m\u001b[0m\u001b[0m\n\u001b[0;32m----> 4\u001b[0;31m \u001b[0;32mfor\u001b[0m \u001b[0mnb\u001b[0m \u001b[0;32min\u001b[0m \u001b[0mtfidf\u001b[0m\u001b[0;34m:\u001b[0m\u001b[0;34m\u001b[0m\u001b[0;34m\u001b[0m\u001b[0m\n\u001b[0m\u001b[1;32m      5\u001b[0m     \u001b[0mprint\u001b[0m\u001b[0;34m(\u001b[0m\u001b[0mnb\u001b[0m\u001b[0;34m)\u001b[0m\u001b[0;34m\u001b[0m\u001b[0;34m\u001b[0m\u001b[0m\n",
      "\u001b[0;32m~/tuto_gensim/venv/lib/python3.8/site-packages/gensim/models/tfidfmodel.py\u001b[0m in \u001b[0;36m__getitem__\u001b[0;34m(self, bow, eps)\u001b[0m\n\u001b[1;32m    503\u001b[0m \u001b[0;34m\u001b[0m\u001b[0m\n\u001b[1;32m    504\u001b[0m         \u001b[0mtermid_array\u001b[0m\u001b[0;34m,\u001b[0m \u001b[0mtf_array\u001b[0m \u001b[0;34m=\u001b[0m \u001b[0;34m[\u001b[0m\u001b[0;34m]\u001b[0m\u001b[0;34m,\u001b[0m \u001b[0;34m[\u001b[0m\u001b[0;34m]\u001b[0m\u001b[0;34m\u001b[0m\u001b[0;34m\u001b[0m\u001b[0m\n\u001b[0;32m--> 505\u001b[0;31m         \u001b[0;32mfor\u001b[0m \u001b[0mtermid\u001b[0m\u001b[0;34m,\u001b[0m \u001b[0mtf\u001b[0m \u001b[0;32min\u001b[0m \u001b[0mbow\u001b[0m\u001b[0;34m:\u001b[0m\u001b[0;34m\u001b[0m\u001b[0;34m\u001b[0m\u001b[0m\n\u001b[0m\u001b[1;32m    506\u001b[0m             \u001b[0mtermid_array\u001b[0m\u001b[0;34m.\u001b[0m\u001b[0mappend\u001b[0m\u001b[0;34m(\u001b[0m\u001b[0mtermid\u001b[0m\u001b[0;34m)\u001b[0m\u001b[0;34m\u001b[0m\u001b[0;34m\u001b[0m\u001b[0m\n\u001b[1;32m    507\u001b[0m             \u001b[0mtf_array\u001b[0m\u001b[0;34m.\u001b[0m\u001b[0mappend\u001b[0m\u001b[0;34m(\u001b[0m\u001b[0mtf\u001b[0m\u001b[0;34m)\u001b[0m\u001b[0;34m\u001b[0m\u001b[0;34m\u001b[0m\u001b[0m\n",
      "\u001b[0;31mTypeError\u001b[0m: 'int' object is not iterable"
     ]
    }
   ],
   "source": [
    "from gensim import models\n",
    "\n",
    "tfidf = models.TfidfModel(corpus)"
   ]
  },
  {
   "cell_type": "code",
   "execution_count": 8,
   "id": "enclosed-hayes",
   "metadata": {},
   "outputs": [
    {
     "name": "stdout",
     "output_type": "stream",
     "text": [
      "[(0, 0.7071067811865476), (1, 0.7071067811865476)]\n"
     ]
    }
   ],
   "source": [
    "doc_bow = [(0,1), (1,1)]\n",
    "print(tfidf[doc_bow])"
   ]
  },
  {
   "cell_type": "code",
   "execution_count": 21,
   "id": "british-focus",
   "metadata": {},
   "outputs": [
    {
     "name": "stdout",
     "output_type": "stream",
     "text": [
      "9\n",
      "[(0, 0.5773502691896257), (1, 0.5773502691896257), (2, 0.5773502691896257)]\n",
      "[(0, 0.44424552527467476), (3, 0.44424552527467476), (4, 0.44424552527467476), (5, 0.3244870206138555), (6, 0.44424552527467476), (7, 0.3244870206138555)]\n",
      "[(2, 0.5710059809418182), (5, 0.4170757362022777), (7, 0.4170757362022777), (8, 0.5710059809418182)]\n",
      "[(1, 0.49182558987264147), (5, 0.7184811607083769), (8, 0.49182558987264147)]\n",
      "[(3, 0.6282580468670046), (6, 0.6282580468670046), (7, 0.45889394536615247)]\n",
      "[(9, 1.0)]\n",
      "[(9, 0.7071067811865475), (10, 0.7071067811865475)]\n",
      "[(9, 0.5080429008916749), (10, 0.5080429008916749), (11, 0.695546419520037)]\n",
      "[(4, 0.6282580468670046), (10, 0.45889394536615247), (11, 0.6282580468670046)]\n"
     ]
    }
   ],
   "source": [
    "corpus_tfidf = tfidf[corpus]\n",
    "print(len(corpus_tfidf))\n",
    "for doc in corpus_tfidf:\n",
    "    print(doc)"
   ]
  },
  {
   "cell_type": "code",
   "execution_count": 10,
   "id": "offensive-juice",
   "metadata": {},
   "outputs": [
    {
     "name": "stderr",
     "output_type": "stream",
     "text": [
      "2021-03-22 13:33:06,391 : INFO : using serial LSI version on this node\n",
      "2021-03-22 13:33:06,397 : INFO : updating model with new documents\n",
      "2021-03-22 13:33:06,399 : INFO : preparing a new chunk of documents\n",
      "2021-03-22 13:33:06,406 : INFO : using 100 extra samples and 2 power iterations\n",
      "2021-03-22 13:33:06,407 : INFO : 1st phase: constructing (12, 102) action matrix\n",
      "2021-03-22 13:33:06,417 : INFO : orthonormalizing (12, 102) action matrix\n",
      "2021-03-22 13:33:06,424 : INFO : 2nd phase: running dense svd on (12, 9) matrix\n",
      "2021-03-22 13:33:06,428 : INFO : computing the final decomposition\n",
      "2021-03-22 13:33:06,441 : INFO : keeping 2 factors (discarding 47.565% of energy spectrum)\n",
      "2021-03-22 13:33:06,458 : INFO : processed documents up to #9\n",
      "2021-03-22 13:33:06,461 : INFO : topic #0(1.594): 0.703*\"trees\" + 0.538*\"graph\" + 0.402*\"minors\" + 0.187*\"survey\" + 0.061*\"system\" + 0.060*\"time\" + 0.060*\"response\" + 0.058*\"user\" + 0.049*\"computer\" + 0.035*\"interface\"\n",
      "2021-03-22 13:33:06,462 : INFO : topic #1(1.476): -0.460*\"system\" + -0.373*\"user\" + -0.332*\"eps\" + -0.328*\"interface\" + -0.320*\"time\" + -0.320*\"response\" + -0.293*\"computer\" + -0.280*\"human\" + -0.171*\"survey\" + 0.161*\"trees\"\n"
     ]
    }
   ],
   "source": [
    "lsi_model = models.LsiModel(corpus_tfidf, id2word=dictionary, num_topics=2)\n",
    "corpus_lsi = lsi_model[corpus_tfidf]"
   ]
  },
  {
   "cell_type": "code",
   "execution_count": 20,
   "id": "another-bunny",
   "metadata": {},
   "outputs": [
    {
     "name": "stderr",
     "output_type": "stream",
     "text": [
      "2021-03-22 13:46:18,576 : INFO : topic #0(1.594): 0.703*\"trees\" + 0.538*\"graph\" + 0.402*\"minors\" + 0.187*\"survey\" + 0.061*\"system\" + 0.060*\"time\" + 0.060*\"response\" + 0.058*\"user\" + 0.049*\"computer\" + 0.035*\"interface\"\n",
      "2021-03-22 13:46:18,578 : INFO : topic #1(1.476): -0.460*\"system\" + -0.373*\"user\" + -0.332*\"eps\" + -0.328*\"interface\" + -0.320*\"time\" + -0.320*\"response\" + -0.293*\"computer\" + -0.280*\"human\" + -0.171*\"survey\" + 0.161*\"trees\"\n"
     ]
    },
    {
     "name": "stdout",
     "output_type": "stream",
     "text": [
      "9\n"
     ]
    }
   ],
   "source": [
    "lsi_model.print_topics(2)\n",
    "print(len(corpus_lsi))  # components of the docs in the subspace"
   ]
  },
  {
   "cell_type": "code",
   "execution_count": 19,
   "id": "signed-reggae",
   "metadata": {},
   "outputs": [
    {
     "name": "stdout",
     "output_type": "stream",
     "text": [
      "[(0, 0.06600783396090293), (1, -0.5200703306361854)] Human machine interface for lab abc computer applications\n",
      "[(0, 0.1966759285914238), (1, -0.760956316770006)] A survey of user opinion of computer system response time\n",
      "[(0, 0.08992639972446402), (1, -0.7241860626752513)] The EPS user interface management system\n",
      "[(0, 0.07585847652178154), (1, -0.632055158600343)] System and human system engineering testing of EPS\n",
      "[(0, 0.1015029918498003), (1, -0.5737308483002965)] Relation of user perceived response time to error measurement\n",
      "[(0, 0.7032108939378318), (1, 0.16115180214025693)] The generation of random binary unordered trees\n",
      "[(0, 0.8774787673119836), (1, 0.1675890686465928)] The intersection graph of paths in trees\n",
      "[(0, 0.9098624686818578), (1, 0.14086553628718884)] Graph minors IV Widths of trees and well quasi ordering\n",
      "[(0, 0.6165825350569275), (1, -0.053929075663894696)] Graph minors A survey\n"
     ]
    }
   ],
   "source": [
    "# both bow->tfidf and tfidf->lsi transformations are actually executed here, on the fly\n",
    "for doc, as_text in zip(corpus_lsi, documents):\n",
    "    print(doc, as_text)"
   ]
  },
  {
   "cell_type": "code",
   "execution_count": 22,
   "id": "brief-original",
   "metadata": {},
   "outputs": [
    {
     "name": "stderr",
     "output_type": "stream",
     "text": [
      "2021-03-22 13:52:49,796 : INFO : saving Projection object under /var/folders/sc/2_7p0t5d1j98c77km1h428nw0000gq/T/model-zjewsdd3.lsi.projection, separately None\n",
      "2021-03-22 13:52:49,809 : INFO : saved /var/folders/sc/2_7p0t5d1j98c77km1h428nw0000gq/T/model-zjewsdd3.lsi.projection\n",
      "2021-03-22 13:52:49,810 : INFO : saving LsiModel object under /var/folders/sc/2_7p0t5d1j98c77km1h428nw0000gq/T/model-zjewsdd3.lsi, separately None\n",
      "2021-03-22 13:52:49,810 : INFO : not storing attribute projection\n",
      "2021-03-22 13:52:49,811 : INFO : not storing attribute dispatcher\n",
      "2021-03-22 13:52:49,812 : INFO : saved /var/folders/sc/2_7p0t5d1j98c77km1h428nw0000gq/T/model-zjewsdd3.lsi\n",
      "2021-03-22 13:52:49,813 : INFO : loading LsiModel object from /var/folders/sc/2_7p0t5d1j98c77km1h428nw0000gq/T/model-zjewsdd3.lsi\n",
      "2021-03-22 13:52:49,816 : INFO : loading id2word recursively from /var/folders/sc/2_7p0t5d1j98c77km1h428nw0000gq/T/model-zjewsdd3.lsi.id2word.* with mmap=None\n",
      "2021-03-22 13:52:49,816 : INFO : setting ignored attribute projection to None\n",
      "2021-03-22 13:52:49,817 : INFO : setting ignored attribute dispatcher to None\n",
      "2021-03-22 13:52:49,817 : INFO : loaded /var/folders/sc/2_7p0t5d1j98c77km1h428nw0000gq/T/model-zjewsdd3.lsi\n",
      "2021-03-22 13:52:49,818 : INFO : loading LsiModel object from /var/folders/sc/2_7p0t5d1j98c77km1h428nw0000gq/T/model-zjewsdd3.lsi.projection\n",
      "2021-03-22 13:52:49,819 : INFO : loaded /var/folders/sc/2_7p0t5d1j98c77km1h428nw0000gq/T/model-zjewsdd3.lsi.projection\n"
     ]
    }
   ],
   "source": [
    "import os\n",
    "import tempfile\n",
    "\n",
    "with tempfile.NamedTemporaryFile(prefix='model-', suffix='.lsi', delete=False) as tmp:\n",
    "    lsi_model.save(tmp.name) # same for other models\n",
    "\n",
    "loaded_lsi_model = models.LsiModel.load(tmp.name)\n",
    "os.unlink(tmp.name)"
   ]
  }
 ],
 "metadata": {
  "kernelspec": {
   "display_name": "Python 3",
   "language": "python",
   "name": "python3"
  },
  "language_info": {
   "codemirror_mode": {
    "name": "ipython",
    "version": 3
   },
   "file_extension": ".py",
   "mimetype": "text/x-python",
   "name": "python",
   "nbconvert_exporter": "python",
   "pygments_lexer": "ipython3",
   "version": "3.8.3"
  }
 },
 "nbformat": 4,
 "nbformat_minor": 5
}
