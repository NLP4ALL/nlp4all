{
 "cells": [
  {
   "cell_type": "code",
   "execution_count": null,
   "metadata": {
    "ExecuteTime": {
     "start_time": "2019-04-12T11:00:17.098Z"
    }
   },
   "outputs": [
    {
     "ename": "",
     "evalue": "",
     "output_type": "error",
     "traceback": [
      "\u001b[1;31mCanceled future for execute_request message before replies were done"
     ]
    },
    {
     "ename": "",
     "evalue": "",
     "output_type": "error",
     "traceback": [
      "\u001b[1;31mThe Kernel crashed while executing code in the the current cell or a previous cell. Please review the code in the cell(s) to identify a possible cause of the failure. Click <a href='https://aka.ms/vscodeJupyterKernelCrash'>here</a> for more info. View Jupyter <a href='command:jupyter.viewOutput'>log</a> for further details."
     ]
    }
   ],
   "source": [
    "\n",
    "import os\n",
    "os._exit(00)\n"
   ]
  },
  {
   "cell_type": "code",
   "execution_count": 4,
   "metadata": {
    "ExecuteTime": {
     "end_time": "2019-04-12T11:00:20.556215Z",
     "start_time": "2019-04-12T11:00:20.135951Z"
    }
   },
   "outputs": [
    {
     "ename": "ModuleNotFoundError",
     "evalue": "No module named 'nlp4all'",
     "output_type": "error",
     "traceback": [
      "\u001b[1;31m---------------------------------------------------------------------------\u001b[0m",
      "\u001b[1;31mModuleNotFoundError\u001b[0m                       Traceback (most recent call last)",
      "Cell \u001b[1;32mIn [4], line 2\u001b[0m\n\u001b[0;32m      1\u001b[0m \u001b[39mimport\u001b[39;00m \u001b[39mos\u001b[39;00m\n\u001b[1;32m----> 2\u001b[0m \u001b[39mfrom\u001b[39;00m \u001b[39mnlp4all\u001b[39;00m\u001b[39m.\u001b[39;00m\u001b[39mmodels\u001b[39;00m \u001b[39mimport\u001b[39;00m TweetTagDescription, Tweet, User, Organization, TwitterProject, BayesianAnalysis\n\u001b[0;32m      3\u001b[0m \u001b[39mfrom\u001b[39;00m \u001b[39mnlp4all\u001b[39;00m \u001b[39mimport\u001b[39;00m db, bcrypt\n\u001b[0;32m      4\u001b[0m \u001b[39mimport\u001b[39;00m \u001b[39mjson\u001b[39;00m\n",
      "\u001b[1;31mModuleNotFoundError\u001b[0m: No module named 'nlp4all'"
     ]
    }
   ],
   "source": [
    "\n",
    "import os\n",
    "from nlp4all.models import TweetTagDescription, Tweet, User, Organization, TwitterProject, BayesianAnalysis\n",
    "from nlp4all import db, bcrypt\n",
    "import json\n",
    "from datetime import datetime\n",
    "import time\n",
    "import json"
   ]
  },
  {
   "cell_type": "code",
   "execution_count": null,
   "metadata": {
    "ExecuteTime": {
     "end_time": "2019-04-12T11:00:21.662915Z",
     "start_time": "2019-04-12T11:00:21.610881Z"
    }
   },
   "outputs": [],
   "source": [
    "db.drop_all()\n",
    "db.create_all()\n",
    "# user = User(name=\"ahjorth\", password=bcrypt.generate_password_hash(\"Hermes_2014\"), email=\"arthur@cs.au.dk\")\n",
    "# db.session.add(user)"
   ]
  },
  {
   "cell_type": "code",
   "execution_count": null,
   "metadata": {
    "ExecuteTime": {
     "end_time": "2019-04-12T11:00:37.668426Z",
     "start_time": "2019-04-12T11:00:37.556793Z"
    }
   },
   "outputs": [],
   "source": [
    "\n",
    "org = Organization(name='CCTD/UBI')\n",
    "# db.session.add(org)\n",
    "# db.session.commit()\n",
    "# user = User(username=\"ahjorth\", organization=1, password=bcrypt.generate_password_hash(\"Hermes_2014\"), email=\"arthur@cs.au.dk\")\n",
    "# db.session.add(user)\n",
    "# db.session.commit()\n",
    "\n",
    "# user = User(username=\"ahjorth2\", organization=1, password=bcrypt.generate_password_hash(\"Hermes_2014\"), email=\"arthur.hjorth@u.northwestern.edu\")\n",
    "# db.session.add(user)\n",
    "# db.session.commit()\n"
   ]
  },
  {
   "cell_type": "code",
   "execution_count": null,
   "metadata": {},
   "outputs": [],
   "source": []
  },
  {
   "cell_type": "code",
   "execution_count": null,
   "metadata": {},
   "outputs": [],
   "source": []
  },
  {
   "cell_type": "code",
   "execution_count": null,
   "metadata": {},
   "outputs": [],
   "source": []
  },
  {
   "cell_type": "code",
   "execution_count": null,
   "metadata": {
    "ExecuteTime": {
     "end_time": "2019-04-09T10:35:30.438529Z",
     "start_time": "2019-04-09T10:35:30.427577Z"
    }
   },
   "outputs": [],
   "source": [
    "Tweet.query.all()"
   ]
  },
  {
   "cell_type": "code",
   "execution_count": null,
   "metadata": {
    "ExecuteTime": {
     "end_time": "2019-04-09T10:26:16.495823Z",
     "start_time": "2019-04-09T10:26:16.493483Z"
    }
   },
   "outputs": [],
   "source": [
    "# d ={'a' : 3, 'b' : 2}\n",
    "# json.dumps(d)\n",
    "# bm = BayesianAnalysis(data=json.dumps(d))\n",
    "# db.session.add(bm)\n",
    "# db.session.commit()\n",
    "# for b in BayesianModel.query.all():\n",
    "#     print(b.data)\n"
   ]
  },
  {
   "cell_type": "code",
   "execution_count": null,
   "metadata": {
    "ExecuteTime": {
     "end_time": "2019-04-09T10:37:35.780660Z",
     "start_time": "2019-04-09T10:37:10.879073Z"
    }
   },
   "outputs": [],
   "source": [
    "# this script will import tweets. it takes a list of dictionaries, and puts them\n",
    "# in the database with the following mappings:\n",
    "## TweetTagDescription\n",
    "## name = input.twitter_handle\n",
    "## text = input.full_text\n",
    "\n",
    "## Tweet\n",
    "## content = input.full_text\n",
    "## twitter_handle = input.handle\n",
    "## url = input.id  (look below for processing)\n",
    "## date_posted = input.created_at (look below for processing)\n",
    "## true_tag = TweetTagDescription(input.twitter_handle)\n",
    "\n",
    "files = [] # set files to whatever you want here\n",
    "\n",
    "data_dir = 'tweet_data/'\n",
    "\n",
    "files = [f for f in os.listdir(data_dir) if '_out.json' in f]\n",
    "\n",
    "# create a list here to keep track of the tags we have added, so w edon't need to query\n",
    "# the db every time\n",
    "existing_tag_names = []\n",
    "for f in files:\n",
    "    with open(data_dir+f) as inf:\n",
    "        counter = 0\n",
    "        for line in inf.readlines():\n",
    "            indict = json.loads(line)\n",
    "#             add cateogyr if it does not already exist\n",
    "            if indict['twitter_handle'] not in existing_tag_names:\n",
    "                category = TweetCategory.query.filter_by(name = indict['twitter_handle']).first()\n",
    "                if not category:\n",
    "                    category = TweetCategory(name = indict['twitter_handle'], text = \"Tweet from \" + indict['twitter_handle'])\n",
    "                    db.session.add(category)\n",
    "                    db.session.commit()\n",
    "                existing_tag_names.append(indict['twitter_handle'])\n",
    "            category = TweetCategory.query.filter_by(name = indict['twitter_handle']).first()\n",
    "            date_str = indict['time']\n",
    "            date_rep = '%a %b %d %H:%M:%S %z %Y'\n",
    "            unix_time = time.mktime(datetime.strptime(date_str, date_rep).timetuple())\n",
    "            timestamp = datetime.fromtimestamp(unix_time)\n",
    "            a_tweet = Tweet(\n",
    "                content = indict['full_text'],\n",
    "                handle = indict['twitter_handle'],\n",
    "                url = indict['id'],\n",
    "                date_posted = timestamp,\n",
    "                category = category.id)\n",
    "            \n",
    "            db.session.add(a_tweet)\n",
    "\n",
    "\n",
    "db.session.commit()\n",
    "db.session.close()"
   ]
  },
  {
   "cell_type": "code",
   "execution_count": null,
   "metadata": {
    "ExecuteTime": {
     "end_time": "2019-04-09T10:35:16.224203Z",
     "start_time": "2019-04-09T10:35:16.220817Z"
    }
   },
   "outputs": [],
   "source": [
    "Tweet.query.first()"
   ]
  },
  {
   "cell_type": "code",
   "execution_count": null,
   "metadata": {
    "ExecuteTime": {
     "end_time": "2019-04-09T10:35:09.895362Z",
     "start_time": "2019-04-09T10:35:09.892761Z"
    }
   },
   "outputs": [],
   "source": [
    "t"
   ]
  },
  {
   "cell_type": "code",
   "execution_count": null,
   "metadata": {},
   "outputs": [],
   "source": []
  },
  {
   "cell_type": "code",
   "execution_count": null,
   "metadata": {},
   "outputs": [],
   "source": []
  },
  {
   "cell_type": "code",
   "execution_count": null,
   "metadata": {},
   "outputs": [],
   "source": []
  },
  {
   "cell_type": "code",
   "execution_count": null,
   "metadata": {},
   "outputs": [],
   "source": []
  },
  {
   "cell_type": "code",
   "execution_count": null,
   "metadata": {},
   "outputs": [],
   "source": [
    " d = datetime('')"
   ]
  },
  {
   "cell_type": "code",
   "execution_count": null,
   "metadata": {},
   "outputs": [],
   "source": [
    "db.session.close()"
   ]
  },
  {
   "cell_type": "code",
   "execution_count": null,
   "metadata": {},
   "outputs": [],
   "source": [
    "dt = datetime.now()\n",
    "tweet.date_posted = dt\n",
    "\n",
    "db.session.add(tweet)"
   ]
  },
  {
   "cell_type": "code",
   "execution_count": null,
   "metadata": {},
   "outputs": [],
   "source": [
    "db.session.commit()"
   ]
  },
  {
   "cell_type": "code",
   "execution_count": null,
   "metadata": {},
   "outputs": [],
   "source": [
    "db.session.close()"
   ]
  },
  {
   "cell_type": "code",
   "execution_count": null,
   "metadata": {},
   "outputs": [],
   "source": [
    "db.drop_all()"
   ]
  },
  {
   "cell_type": "code",
   "execution_count": null,
   "metadata": {},
   "outputs": [],
   "source": [
    "TweetTagDescription.query.all()"
   ]
  },
  {
   "cell_type": "code",
   "execution_count": null,
   "metadata": {},
   "outputs": [],
   "source": [
    "db.session.rollback()"
   ]
  },
  {
   "cell_type": "code",
   "execution_count": null,
   "metadata": {},
   "outputs": [],
   "source": [
    "ttd = TweetTagDescription(name=\"test1\", text=\"lololol\")\n",
    "db.session.add(ttd)\n"
   ]
  },
  {
   "cell_type": "code",
   "execution_count": null,
   "metadata": {},
   "outputs": [],
   "source": [
    "db.session.commit()"
   ]
  },
  {
   "cell_type": "code",
   "execution_count": null,
   "metadata": {},
   "outputs": [],
   "source": [
    "db.create_all()"
   ]
  },
  {
   "cell_type": "code",
   "execution_count": null,
   "metadata": {},
   "outputs": [],
   "source": []
  },
  {
   "cell_type": "code",
   "execution_count": null,
   "metadata": {},
   "outputs": [],
   "source": [
    "for tweet in Tweet.query.all():\n",
    "    print(tweet.content)"
   ]
  },
  {
   "cell_type": "code",
   "execution_count": null,
   "metadata": {},
   "outputs": [],
   "source": []
  }
 ],
 "metadata": {
  "kernelspec": {
   "display_name": "Python 3.9.13 ('nlp4all')",
   "language": "python",
   "name": "python3"
  },
  "language_info": {
   "codemirror_mode": {
    "name": "ipython",
    "version": 3
   },
   "file_extension": ".py",
   "mimetype": "text/x-python",
   "name": "python",
   "nbconvert_exporter": "python",
   "pygments_lexer": "ipython3",
   "version": "3.9.13"
  },
  "varInspector": {
   "cols": {
    "lenName": 16,
    "lenType": 16,
    "lenVar": 40
   },
   "kernels_config": {
    "python": {
     "delete_cmd_postfix": "",
     "delete_cmd_prefix": "del ",
     "library": "var_list.py",
     "varRefreshCmd": "print(var_dic_list())"
    },
    "r": {
     "delete_cmd_postfix": ") ",
     "delete_cmd_prefix": "rm(",
     "library": "var_list.r",
     "varRefreshCmd": "cat(var_dic_list()) "
    }
   },
   "types_to_exclude": [
    "module",
    "function",
    "builtin_function_or_method",
    "instance",
    "_Feature"
   ],
   "window_display": false
  },
  "vscode": {
   "interpreter": {
    "hash": "5bc204062c8416550f02c564658ef9dbcf7dcf3abeb5c90408331785db11dc7d"
   }
  }
 },
 "nbformat": 4,
 "nbformat_minor": 2
}
