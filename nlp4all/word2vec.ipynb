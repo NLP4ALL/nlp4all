{
 "cells": [
  {
   "cell_type": "code",
   "execution_count": 16,
   "id": "posted-poultry",
   "metadata": {
    "scrolled": true
   },
   "outputs": [
    {
     "name": "stderr",
     "output_type": "stream",
     "text": [
      "INFO - 10:02:54: collecting all words and their counts\n",
      "INFO - 10:02:54: PROGRESS: at sentence #0, processed 0 words, keeping 0 word types\n",
      "INFO - 10:02:54: collected 12 word types from a corpus of 29 raw words and 9 sentences\n",
      "INFO - 10:02:54: Loading a fresh vocabulary\n",
      "INFO - 10:02:54: effective_min_count=1 retains 12 unique words (100% of original 12, drops 0)\n",
      "INFO - 10:02:54: effective_min_count=1 leaves 29 word corpus (100% of original 29, drops 0)\n",
      "INFO - 10:02:54: deleting the raw counts dictionary of 12 items\n",
      "INFO - 10:02:54: sample=0.001 downsamples 12 most-common words\n",
      "INFO - 10:02:54: downsampling leaves estimated 3 word corpus (12.1% of prior 29)\n",
      "INFO - 10:02:54: estimated required memory for 12 words and 100 dimensions: 15600 bytes\n",
      "INFO - 10:02:54: resetting layer weights\n",
      "INFO - 10:02:54: training model with 4 workers on 12 vocabulary and 100 features, using sg=0 hs=0 sample=0.001 negative=5 window=5\n",
      "INFO - 10:02:54: worker thread finished; awaiting finish of 3 more threads\n",
      "INFO - 10:02:54: worker thread finished; awaiting finish of 2 more threads\n",
      "INFO - 10:02:54: worker thread finished; awaiting finish of 1 more threads\n",
      "INFO - 10:02:54: worker thread finished; awaiting finish of 0 more threads\n",
      "INFO - 10:02:54: EPOCH - 1 : training on 29 raw words (3 effective words) took 0.0s, 1298 effective words/s\n",
      "INFO - 10:02:54: worker thread finished; awaiting finish of 3 more threads\n",
      "INFO - 10:02:54: worker thread finished; awaiting finish of 2 more threads\n",
      "INFO - 10:02:54: worker thread finished; awaiting finish of 1 more threads\n",
      "INFO - 10:02:54: worker thread finished; awaiting finish of 0 more threads\n",
      "INFO - 10:02:54: EPOCH - 2 : training on 29 raw words (3 effective words) took 0.0s, 2383 effective words/s\n",
      "INFO - 10:02:54: worker thread finished; awaiting finish of 3 more threads\n",
      "INFO - 10:02:54: worker thread finished; awaiting finish of 2 more threads\n",
      "INFO - 10:02:54: worker thread finished; awaiting finish of 1 more threads\n",
      "INFO - 10:02:54: worker thread finished; awaiting finish of 0 more threads\n",
      "INFO - 10:02:54: EPOCH - 3 : training on 29 raw words (1 effective words) took 0.0s, 852 effective words/s\n",
      "INFO - 10:02:54: worker thread finished; awaiting finish of 3 more threads\n",
      "INFO - 10:02:54: worker thread finished; awaiting finish of 2 more threads\n",
      "INFO - 10:02:54: worker thread finished; awaiting finish of 1 more threads\n",
      "INFO - 10:02:54: worker thread finished; awaiting finish of 0 more threads\n",
      "INFO - 10:02:54: EPOCH - 4 : training on 29 raw words (4 effective words) took 0.0s, 1985 effective words/s\n",
      "INFO - 10:02:54: worker thread finished; awaiting finish of 3 more threads\n",
      "INFO - 10:02:54: worker thread finished; awaiting finish of 2 more threads\n",
      "INFO - 10:02:54: worker thread finished; awaiting finish of 1 more threads\n",
      "INFO - 10:02:54: worker thread finished; awaiting finish of 0 more threads\n",
      "INFO - 10:02:54: EPOCH - 5 : training on 29 raw words (6 effective words) took 0.0s, 3452 effective words/s\n",
      "INFO - 10:02:54: training on a 145 raw words (17 effective words) took 0.0s, 478 effective words/s\n",
      "WARNING - 10:02:54: under 10 jobs per worker: consider setting a smaller `batch_words' for smoother alpha decay\n",
      "INFO - 10:02:54: saving Word2Vec object under word2vec.model, separately None\n",
      "INFO - 10:02:54: not storing attribute vectors_norm\n",
      "INFO - 10:02:54: not storing attribute cum_table\n",
      "INFO - 10:02:54: saved word2vec.model\n"
     ]
    },
    {
     "data": {
      "text/plain": [
       "100"
      ]
     },
     "execution_count": 16,
     "metadata": {},
     "output_type": "execute_result"
    }
   ],
   "source": [
    "### Word2Vec\n",
    "\"\"\"\n",
    "https://radimrehurek.com/gensim/models/word2vec.html\n",
    "\"\"\"\n",
    "\n",
    "from gensim.test.utils import common_texts\n",
    "from gensim.models import Word2Vec\n",
    "\n",
    "#print(common_texts)\n",
    "\n",
    "model = Word2Vec(sentences=common_texts, window=5,\n",
    "                min_count=1, workers=4)\n",
    "model.save(\"word2vec.model\")\n",
    "model.vector_size"
   ]
  },
  {
   "cell_type": "code",
   "execution_count": 2,
   "id": "suffering-pattern",
   "metadata": {},
   "outputs": [
    {
     "data": {
      "text/plain": [
       "(0, 2)"
      ]
     },
     "execution_count": 2,
     "metadata": {},
     "output_type": "execute_result"
    }
   ],
   "source": [
    "model.train([[\"hello\", \"world\"]], total_examples=1, epochs=1)"
   ]
  },
  {
   "cell_type": "code",
   "execution_count": 3,
   "id": "residential-engine",
   "metadata": {
    "scrolled": true
   },
   "outputs": [
    {
     "name": "stdout",
     "output_type": "stream",
     "text": [
      "[ 4.0328880e-03 -4.7643200e-04 -2.9330843e-03  1.2155942e-03\n",
      "  2.7958915e-04  4.9020788e-03  4.2135976e-03  1.5155092e-04\n",
      " -7.4922643e-04  2.9222181e-03 -4.8488709e-03 -4.5449035e-03\n",
      " -9.6133468e-04  3.7523687e-03  2.3289085e-03  1.8588760e-03\n",
      " -3.7622431e-03  2.9579760e-03 -3.3678685e-03  6.9760811e-04\n",
      " -1.4749439e-03  4.8693470e-03  4.9983710e-03 -3.2651962e-03\n",
      "  4.8790728e-03 -4.5331242e-03  1.3714916e-03  8.2827755e-04\n",
      " -1.5991740e-03 -4.0893643e-03  6.7457859e-04 -8.0832740e-04\n",
      " -2.6329504e-03 -1.9538649e-03 -8.8238492e-05  3.9008639e-03\n",
      "  1.4373786e-03 -3.6960421e-03  4.8825187e-03 -3.9614015e-03\n",
      "  7.0623832e-04  2.9878010e-04 -1.6018143e-03  2.2958296e-03\n",
      " -2.3164814e-03  1.9264754e-03 -1.9841662e-03 -2.7257558e-03\n",
      " -2.3720532e-03  1.8911383e-03 -1.1588129e-03 -2.8298574e-03\n",
      "  4.8438255e-03 -4.4083018e-03 -2.9227212e-03  1.4054575e-03\n",
      "  6.9359102e-04 -1.7572867e-03 -1.2093934e-04 -1.4922118e-03\n",
      " -3.8766384e-03 -3.8092108e-03  2.0385589e-03 -4.4817147e-03\n",
      " -4.1268705e-03 -2.1307743e-03 -2.8730175e-04 -1.1813174e-03\n",
      " -4.6215309e-03  1.2366333e-03 -2.9207827e-03  5.0172204e-04\n",
      " -7.1454863e-04 -3.7983770e-03 -2.6135978e-03  2.7202137e-03\n",
      " -1.2419952e-04  4.5049801e-03 -1.4789174e-03 -4.4092597e-03\n",
      " -4.8117060e-03 -2.9057509e-03 -4.5059109e-03  2.9021213e-03\n",
      " -1.4069653e-04  3.8552184e-03  1.8110739e-03  1.4891403e-03\n",
      "  1.3646424e-03 -1.9411545e-03  4.2639510e-03 -2.2307704e-03\n",
      " -1.3453146e-03  2.4741020e-03 -2.5981704e-03  3.6560094e-03\n",
      "  2.5653234e-04  4.0919390e-03 -2.7306846e-03  4.1020866e-03]\n",
      "[ 4.46869479e-03 -4.70353523e-03 -1.12273476e-04 -3.25827999e-03\n",
      "  8.51982448e-04  2.22663861e-04  4.60917084e-03 -1.23956543e-03\n",
      " -3.58120684e-04 -1.55578821e-03  2.11368804e-03  2.16191635e-03\n",
      "  2.69598700e-03 -4.48515592e-03 -4.57903463e-03 -3.47551494e-03\n",
      " -3.40367714e-03  2.67831655e-03 -2.65026302e-03  8.83067318e-04\n",
      " -4.90576122e-03  4.98194946e-04 -1.89179089e-03 -2.88374955e-03\n",
      "  3.69133102e-03  1.79592182e-03 -3.45174759e-03 -1.16374425e-03\n",
      " -4.16383939e-03 -2.09271722e-03  2.03076680e-03 -2.44759922e-05\n",
      "  2.46995827e-03  2.48359842e-03 -1.06433290e-03 -3.46305617e-03\n",
      " -3.91254155e-03 -4.52064723e-03 -4.56404779e-03  3.81370448e-03\n",
      " -5.22401067e-04 -6.48820889e-04  4.80736280e-03 -9.60888108e-04\n",
      " -2.87449826e-03 -3.70585686e-03  2.20472552e-03 -1.83010835e-03\n",
      " -1.50637457e-03  2.87641911e-03  1.46357401e-04  3.00087547e-03\n",
      " -2.32374601e-04  4.54983348e-03 -2.52979109e-03  3.19466181e-03\n",
      "  4.42950940e-03  1.20474526e-03  3.71623388e-03  3.08366492e-03\n",
      "  1.81656436e-03 -1.35250724e-04  2.39525409e-03 -1.33134236e-04\n",
      " -8.66677554e-04 -1.54241268e-03 -7.43958954e-05 -3.21056624e-03\n",
      " -7.52671258e-05  4.98460187e-03  2.07818975e-03 -4.72041633e-04\n",
      " -3.19260871e-03  3.29766516e-03 -1.22257054e-03 -4.63013025e-03\n",
      "  3.10268602e-03  8.92984041e-04  4.73173475e-03  3.57311056e-03\n",
      "  3.17550800e-03 -3.65107297e-03 -1.23754435e-03 -1.35858101e-03\n",
      " -2.88300915e-03  4.99432615e-04 -8.04196519e-04 -1.31510850e-03\n",
      " -3.54827940e-03  2.23115785e-03 -2.56842654e-03  3.75523901e-04\n",
      "  3.98779288e-03  1.67316676e-03 -1.94023165e-03  8.13957362e-04\n",
      " -4.71672043e-04  1.84876146e-03  4.07290040e-03 -1.03744504e-03]\n"
     ]
    },
    {
     "data": {
      "text/plain": [
       "[('system', 0.20733454823493958),\n",
       " ('minors', 0.13676667213439941),\n",
       " ('trees', 0.07508991658687592),\n",
       " ('eps', 0.06454212963581085),\n",
       " ('user', 0.025251179933547974),\n",
       " ('interface', 0.017709560692310333),\n",
       " ('graph', -0.010241875424981117),\n",
       " ('time', -0.03116779774427414),\n",
       " ('survey', -0.03778702765703201),\n",
       " ('human', -0.11431632936000824)]"
      ]
     },
     "execution_count": 3,
     "metadata": {},
     "output_type": "execute_result"
    }
   ],
   "source": [
    "vector = model.wv['computer']\n",
    "print(vector)\n",
    "\n",
    "human = model.wv['human'] # human is in common_texts\n",
    "print(human)\n",
    "\n",
    "sims = model.wv.most_similar('computer', topn=10)\n",
    "sims"
   ]
  },
  {
   "cell_type": "code",
   "execution_count": 4,
   "id": "human-version",
   "metadata": {
    "scrolled": true
   },
   "outputs": [
    {
     "name": "stdout",
     "output_type": "stream",
     "text": [
      "[ 4.0328880e-03 -4.7643200e-04 -2.9330843e-03  1.2155942e-03\n",
      "  2.7958915e-04  4.9020788e-03  4.2135976e-03  1.5155092e-04\n",
      " -7.4922643e-04  2.9222181e-03 -4.8488709e-03 -4.5449035e-03\n",
      " -9.6133468e-04  3.7523687e-03  2.3289085e-03  1.8588760e-03\n",
      " -3.7622431e-03  2.9579760e-03 -3.3678685e-03  6.9760811e-04\n",
      " -1.4749439e-03  4.8693470e-03  4.9983710e-03 -3.2651962e-03\n",
      "  4.8790728e-03 -4.5331242e-03  1.3714916e-03  8.2827755e-04\n",
      " -1.5991740e-03 -4.0893643e-03  6.7457859e-04 -8.0832740e-04\n",
      " -2.6329504e-03 -1.9538649e-03 -8.8238492e-05  3.9008639e-03\n",
      "  1.4373786e-03 -3.6960421e-03  4.8825187e-03 -3.9614015e-03\n",
      "  7.0623832e-04  2.9878010e-04 -1.6018143e-03  2.2958296e-03\n",
      " -2.3164814e-03  1.9264754e-03 -1.9841662e-03 -2.7257558e-03\n",
      " -2.3720532e-03  1.8911383e-03 -1.1588129e-03 -2.8298574e-03\n",
      "  4.8438255e-03 -4.4083018e-03 -2.9227212e-03  1.4054575e-03\n",
      "  6.9359102e-04 -1.7572867e-03 -1.2093934e-04 -1.4922118e-03\n",
      " -3.8766384e-03 -3.8092108e-03  2.0385589e-03 -4.4817147e-03\n",
      " -4.1268705e-03 -2.1307743e-03 -2.8730175e-04 -1.1813174e-03\n",
      " -4.6215309e-03  1.2366333e-03 -2.9207827e-03  5.0172204e-04\n",
      " -7.1454863e-04 -3.7983770e-03 -2.6135978e-03  2.7202137e-03\n",
      " -1.2419952e-04  4.5049801e-03 -1.4789174e-03 -4.4092597e-03\n",
      " -4.8117060e-03 -2.9057509e-03 -4.5059109e-03  2.9021213e-03\n",
      " -1.4069653e-04  3.8552184e-03  1.8110739e-03  1.4891403e-03\n",
      "  1.3646424e-03 -1.9411545e-03  4.2639510e-03 -2.2307704e-03\n",
      " -1.3453146e-03  2.4741020e-03 -2.5981704e-03  3.6560094e-03\n",
      "  2.5653234e-04  4.0919390e-03 -2.7306846e-03  4.1020866e-03]\n",
      "human\n",
      "interface\n",
      "computer\n",
      "survey\n",
      "user\n",
      "system\n",
      "response\n",
      "time\n",
      "eps\n",
      "trees\n",
      "graph\n",
      "minors\n"
     ]
    }
   ],
   "source": [
    "from gensim.models import KeyedVectors\n",
    "\n",
    "# Store just the words + their trained embeddings\n",
    "word_vectors = model.wv\n",
    "word_vectors.save(\"word2vec.wordvectors\")\n",
    "\n",
    "# Load back with memory-mapping = read-only, shared across processes.\n",
    "wv = KeyedVectors.load('word2vec.wordvectors', mmap='r')\n",
    "\n",
    "print(wv['computer'])\n",
    "\n",
    "for word in model.wv.vocab:\n",
    "    print(word)"
   ]
  },
  {
   "cell_type": "code",
   "execution_count": 9,
   "id": "usual-undergraduate",
   "metadata": {},
   "outputs": [],
   "source": [
    "### Kaggle tutorial\n",
    "\"\"\"https://www.kaggle.com/pierremegret/gensim-word2vec-tutorial\"\"\""
   ]
  },
  {
   "cell_type": "code",
   "execution_count": 18,
   "id": "equal-maker",
   "metadata": {},
   "outputs": [],
   "source": [
    "import re  # preprocessing\n",
    "import pandas as pd  # data handling\n",
    "from time import time  # mesure time\n",
    "from collections import defaultdict  # for word frequencies\n",
    "\n",
    "import spacy  # preprocessing\n",
    "\n",
    "import logging  # Setting up the loggings to monitor gensim\n",
    "logging.basicConfig(format=\"%(levelname)s - %(asctime)s: %(message)s\", datefmt= '%H:%M:%S', level=logging.INFO)"
   ]
  },
  {
   "cell_type": "code",
   "execution_count": 19,
   "id": "institutional-stand",
   "metadata": {},
   "outputs": [
    {
     "name": "stdout",
     "output_type": "stream",
     "text": [
      "(158314, 2)\n"
     ]
    },
    {
     "data": {
      "text/html": [
       "<div>\n",
       "<style scoped>\n",
       "    .dataframe tbody tr th:only-of-type {\n",
       "        vertical-align: middle;\n",
       "    }\n",
       "\n",
       "    .dataframe tbody tr th {\n",
       "        vertical-align: top;\n",
       "    }\n",
       "\n",
       "    .dataframe thead th {\n",
       "        text-align: right;\n",
       "    }\n",
       "</style>\n",
       "<table border=\"1\" class=\"dataframe\">\n",
       "  <thead>\n",
       "    <tr style=\"text-align: right;\">\n",
       "      <th></th>\n",
       "      <th>raw_character_text</th>\n",
       "      <th>spoken_words</th>\n",
       "    </tr>\n",
       "  </thead>\n",
       "  <tbody>\n",
       "    <tr>\n",
       "      <th>0</th>\n",
       "      <td>Miss Hoover</td>\n",
       "      <td>No, actually, it was a little of both. Sometim...</td>\n",
       "    </tr>\n",
       "    <tr>\n",
       "      <th>1</th>\n",
       "      <td>Lisa Simpson</td>\n",
       "      <td>Where's Mr. Bergstrom?</td>\n",
       "    </tr>\n",
       "    <tr>\n",
       "      <th>2</th>\n",
       "      <td>Miss Hoover</td>\n",
       "      <td>I don't know. Although I'd sure like to talk t...</td>\n",
       "    </tr>\n",
       "    <tr>\n",
       "      <th>3</th>\n",
       "      <td>Lisa Simpson</td>\n",
       "      <td>That life is worth living.</td>\n",
       "    </tr>\n",
       "    <tr>\n",
       "      <th>4</th>\n",
       "      <td>Edna Krabappel-Flanders</td>\n",
       "      <td>The polls will be open from now until the end ...</td>\n",
       "    </tr>\n",
       "  </tbody>\n",
       "</table>\n",
       "</div>"
      ],
      "text/plain": [
       "        raw_character_text                                       spoken_words\n",
       "0              Miss Hoover  No, actually, it was a little of both. Sometim...\n",
       "1             Lisa Simpson                             Where's Mr. Bergstrom?\n",
       "2              Miss Hoover  I don't know. Although I'd sure like to talk t...\n",
       "3             Lisa Simpson                         That life is worth living.\n",
       "4  Edna Krabappel-Flanders  The polls will be open from now until the end ..."
      ]
     },
     "execution_count": 19,
     "metadata": {},
     "output_type": "execute_result"
    }
   ],
   "source": [
    "df = pd.read_csv('/Users/Boulot/Documents/ScienceAtHome/Datasets/simpsons_dataset.csv')\n",
    "print(df.shape)\n",
    "df.head()"
   ]
  },
  {
   "cell_type": "code",
   "execution_count": 20,
   "id": "biblical-theory",
   "metadata": {},
   "outputs": [
    {
     "data": {
      "text/plain": [
       "raw_character_text    17814\n",
       "spoken_words          26459\n",
       "dtype: int64"
      ]
     },
     "execution_count": 20,
     "metadata": {},
     "output_type": "execute_result"
    }
   ],
   "source": [
    "df.isnull().sum()  # number of empty values for each column"
   ]
  },
  {
   "cell_type": "code",
   "execution_count": 21,
   "id": "killing-myrtle",
   "metadata": {},
   "outputs": [
    {
     "name": "stdout",
     "output_type": "stream",
     "text": [
      "(131853, 2)\n"
     ]
    },
    {
     "data": {
      "text/plain": [
       "raw_character_text    0\n",
       "spoken_words          0\n",
       "dtype: int64"
      ]
     },
     "execution_count": 21,
     "metadata": {},
     "output_type": "execute_result"
    }
   ],
   "source": [
    "df = df.dropna().reset_index(drop=True)  # remove these missing values\n",
    "print(df.shape)\n",
    "df.isnull().sum()"
   ]
  },
  {
   "cell_type": "code",
   "execution_count": 22,
   "id": "popular-financing",
   "metadata": {
    "scrolled": true
   },
   "outputs": [],
   "source": [
    "## Cleaning\n",
    "\n",
    "nlp = spacy.load('en_core_web_sm', disable=['ner', 'parser'])\n",
    "\n",
    "def cleaning(doc):\n",
    "    # Lemmatizes and removes stopwords\n",
    "    # doc needs to be a spacy Doc object\n",
    "    txt = [token.lemma_ for token in doc if not token.is_stop]\n",
    "    # Word2Vec uses context words to learn the vector representation of a target word,\n",
    "    # if a sentence is only one or two words long,\n",
    "    # the benefit for the training is very small\n",
    "    if len(txt) > 2:\n",
    "        return ' '.join(txt)"
   ]
  },
  {
   "cell_type": "code",
   "execution_count": 23,
   "id": "combined-discipline",
   "metadata": {},
   "outputs": [
    {
     "name": "stdout",
     "output_type": "stream",
     "text": [
      "Time to clean up everything: 0.77 mins\n"
     ]
    }
   ],
   "source": [
    "# remove non alphabetic characters\n",
    "\n",
    "brief_cleaning = (re.sub(\"[^A-Za-z]+\", ' ', str(row)).lower() for row in df['spoken_words'])\n",
    "\n",
    "t = time()\n",
    "\n",
    "txt = [cleaning(doc) for doc in nlp.pipe(brief_cleaning, batch_size=5000, n_threads=-1)]\n",
    "\n",
    "print('Time to clean up everything: {} mins'.format(round((time() - t) / 60, 2)))"
   ]
  },
  {
   "cell_type": "code",
   "execution_count": 24,
   "id": "blessed-apple",
   "metadata": {},
   "outputs": [
    {
     "name": "stdout",
     "output_type": "stream",
     "text": [
      "(92163, 1)\n"
     ]
    },
    {
     "data": {
      "text/html": [
       "<div>\n",
       "<style scoped>\n",
       "    .dataframe tbody tr th:only-of-type {\n",
       "        vertical-align: middle;\n",
       "    }\n",
       "\n",
       "    .dataframe tbody tr th {\n",
       "        vertical-align: top;\n",
       "    }\n",
       "\n",
       "    .dataframe thead th {\n",
       "        text-align: right;\n",
       "    }\n",
       "</style>\n",
       "<table border=\"1\" class=\"dataframe\">\n",
       "  <thead>\n",
       "    <tr style=\"text-align: right;\">\n",
       "      <th></th>\n",
       "      <th>clean</th>\n",
       "    </tr>\n",
       "  </thead>\n",
       "  <tbody>\n",
       "    <tr>\n",
       "      <th>0</th>\n",
       "      <td>actually little disease magazine news show s n...</td>\n",
       "    </tr>\n",
       "    <tr>\n",
       "      <th>1</th>\n",
       "      <td>s mr bergstrom</td>\n",
       "    </tr>\n",
       "    <tr>\n",
       "      <th>2</th>\n",
       "      <td>don t know d sure like talk didn t touch lesso...</td>\n",
       "    </tr>\n",
       "    <tr>\n",
       "      <th>3</th>\n",
       "      <td>life worth live</td>\n",
       "    </tr>\n",
       "    <tr>\n",
       "      <th>4</th>\n",
       "      <td>poll open end recess case decide thought will ...</td>\n",
       "    </tr>\n",
       "  </tbody>\n",
       "</table>\n",
       "</div>"
      ],
      "text/plain": [
       "                                               clean\n",
       "0  actually little disease magazine news show s n...\n",
       "1                                     s mr bergstrom\n",
       "2  don t know d sure like talk didn t touch lesso...\n",
       "3                                    life worth live\n",
       "4  poll open end recess case decide thought will ..."
      ]
     },
     "execution_count": 24,
     "metadata": {},
     "output_type": "execute_result"
    }
   ],
   "source": [
    "df_clean = pd.DataFrame({'clean': txt})\n",
    "df_clean = df_clean.dropna().drop_duplicates()\n",
    "print(df_clean.shape)\n",
    "df_clean.head()"
   ]
  },
  {
   "cell_type": "code",
   "execution_count": 25,
   "id": "extended-stevens",
   "metadata": {
    "scrolled": false
   },
   "outputs": [
    {
     "name": "stderr",
     "output_type": "stream",
     "text": [
      "INFO - 10:09:29: collecting all words and their counts\n",
      "INFO - 10:09:29: PROGRESS: at sentence #0, processed 0 words and 0 word types\n",
      "INFO - 10:09:29: PROGRESS: at sentence #10000, processed 67820 words and 50878 word types\n",
      "INFO - 10:09:29: PROGRESS: at sentence #20000, processed 141208 words and 96422 word types\n",
      "INFO - 10:09:29: PROGRESS: at sentence #30000, processed 208934 words and 133149 word types\n",
      "INFO - 10:09:29: PROGRESS: at sentence #40000, processed 271339 words and 165836 word types\n",
      "INFO - 10:09:29: PROGRESS: at sentence #50000, processed 335288 words and 198114 word types\n",
      "INFO - 10:09:30: PROGRESS: at sentence #60000, processed 402279 words and 231079 word types\n",
      "INFO - 10:09:30: PROGRESS: at sentence #70000, processed 469474 words and 263582 word types\n",
      "INFO - 10:09:30: PROGRESS: at sentence #80000, processed 536222 words and 295293 word types\n",
      "INFO - 10:09:30: PROGRESS: at sentence #90000, processed 604320 words and 325523 word types\n",
      "INFO - 10:09:30: collected 331706 word types from a corpus of 619633 words (unigram + bigrams) and 92163 sentences\n",
      "INFO - 10:09:30: using 331706 counts as vocab in Phrases<0 vocab, min_count=30, threshold=10.0, max_vocab_size=40000000>\n"
     ]
    }
   ],
   "source": [
    "## Bigrams\n",
    "\n",
    "from gensim.models.phrases import Phrases, Phraser\n",
    "\n",
    "sent = [row.split() for row in df_clean['clean']]\n",
    "phrases = Phrases(sent, min_count=30, progress_per=10000)"
   ]
  },
  {
   "cell_type": "code",
   "execution_count": 26,
   "id": "removable-relief",
   "metadata": {},
   "outputs": [
    {
     "name": "stderr",
     "output_type": "stream",
     "text": [
      "INFO - 10:09:36: source_vocab length 331706\n",
      "INFO - 10:09:37: Phraser built with 132 phrasegrams\n"
     ]
    }
   ],
   "source": [
    "bigram = Phraser(phrases)\n",
    "sentences = bigram[sent]"
   ]
  },
  {
   "cell_type": "code",
   "execution_count": 27,
   "id": "comprehensive-knock",
   "metadata": {},
   "outputs": [
    {
     "name": "stdout",
     "output_type": "stream",
     "text": [
      "29444\n"
     ]
    },
    {
     "data": {
      "text/plain": [
       "['s', 'm', 'oh', 'don_t', 'will', 'like', 'know', 'think', 'hey', 'good']"
      ]
     },
     "execution_count": 27,
     "metadata": {},
     "output_type": "execute_result"
    }
   ],
   "source": [
    "## Frequencies\n",
    "\n",
    "word_freq = defaultdict(int)\n",
    "for sent in sentences:\n",
    "    for i in sent:\n",
    "        word_freq[i] += 1\n",
    "print(len(word_freq))\n",
    "sorted(word_freq, key=word_freq.get, reverse=True)[:10]\n",
    "# verbes conjugués tjs présents :\\"
   ]
  },
  {
   "cell_type": "code",
   "execution_count": 28,
   "id": "corporate-tracy",
   "metadata": {},
   "outputs": [
    {
     "name": "stdout",
     "output_type": "stream",
     "text": [
      "8\n"
     ]
    }
   ],
   "source": [
    "## Training the model\n",
    "\n",
    "import multiprocessing\n",
    "from gensim.models import Word2Vec\n",
    "\n",
    "cores = multiprocessing.cpu_count() # Count the number of cores in a computer\n",
    "print(cores)"
   ]
  },
  {
   "cell_type": "code",
   "execution_count": 29,
   "id": "equivalent-diary",
   "metadata": {},
   "outputs": [],
   "source": [
    "# initialize the model\n",
    "w2v_model = Word2Vec(min_count=20,\n",
    "                     window=2,\n",
    "                     size=300,\n",
    "                     sample=6e-5, \n",
    "                     alpha=0.03, \n",
    "                     min_alpha=0.0007, \n",
    "                     negative=20,\n",
    "                     workers=cores-1)\n",
    "\n",
    "# http://mccormickml.com/2017/01/11/word2vec-tutorial-part-2-negative-sampling/"
   ]
  },
  {
   "cell_type": "code",
   "execution_count": 30,
   "id": "czech-giant",
   "metadata": {
    "scrolled": true
   },
   "outputs": [
    {
     "name": "stderr",
     "output_type": "stream",
     "text": [
      "INFO - 10:09:53: collecting all words and their counts\n",
      "INFO - 10:09:53: PROGRESS: at sentence #0, processed 0 words, keeping 0 word types\n",
      "INFO - 10:09:53: PROGRESS: at sentence #10000, processed 64391 words, keeping 9073 word types\n",
      "INFO - 10:09:53: PROGRESS: at sentence #20000, processed 134230 words, keeping 13856 word types\n",
      "INFO - 10:09:53: PROGRESS: at sentence #30000, processed 198748 words, keeping 16785 word types\n",
      "INFO - 10:09:53: PROGRESS: at sentence #40000, processed 258358 words, keeping 19389 word types\n",
      "INFO - 10:09:53: PROGRESS: at sentence #50000, processed 319432 words, keeping 21632 word types\n",
      "INFO - 10:09:54: PROGRESS: at sentence #60000, processed 383355 words, keeping 23764 word types\n",
      "INFO - 10:09:54: PROGRESS: at sentence #70000, processed 447670 words, keeping 25715 word types\n",
      "INFO - 10:09:54: PROGRESS: at sentence #80000, processed 511503 words, keeping 27588 word types\n",
      "INFO - 10:09:54: PROGRESS: at sentence #90000, processed 576457 words, keeping 29154 word types\n",
      "INFO - 10:09:54: collected 29444 word types from a corpus of 590986 raw words and 92163 sentences\n",
      "INFO - 10:09:54: Loading a fresh vocabulary\n",
      "INFO - 10:09:54: effective_min_count=20 retains 3377 unique words (11% of original 29444, drops 26067)\n",
      "INFO - 10:09:54: effective_min_count=20 leaves 505373 word corpus (85% of original 590986, drops 85613)\n",
      "INFO - 10:09:54: deleting the raw counts dictionary of 29444 items\n",
      "INFO - 10:09:54: sample=6e-05 downsamples 1096 most-common words\n",
      "INFO - 10:09:54: downsampling leaves estimated 218446 word corpus (43.2% of prior 505373)\n",
      "INFO - 10:09:54: estimated required memory for 3377 words and 300 dimensions: 9793300 bytes\n",
      "INFO - 10:09:54: resetting layer weights\n"
     ]
    },
    {
     "name": "stdout",
     "output_type": "stream",
     "text": [
      "Time to build vocab: 0.03 mins\n"
     ]
    }
   ],
   "source": [
    "t = time()\n",
    "\n",
    "w2v_model.build_vocab(sentences, progress_per=10000)\n",
    "\n",
    "print('Time to build vocab: {} mins'.format(round((time() - t) / 60, 2)))"
   ]
  },
  {
   "cell_type": "code",
   "execution_count": 31,
   "id": "interesting-transport",
   "metadata": {
    "scrolled": true
   },
   "outputs": [
    {
     "name": "stderr",
     "output_type": "stream",
     "text": [
      "INFO - 10:09:58: training model with 7 workers on 3377 vocabulary and 300 features, using sg=0 hs=0 sample=6e-05 negative=20 window=2\n",
      "INFO - 10:09:59: EPOCH 1 - PROGRESS: at 78.05% examples, 168408 words/s, in_qsize 0, out_qsize 0\n",
      "INFO - 10:09:59: worker thread finished; awaiting finish of 6 more threads\n",
      "INFO - 10:09:59: worker thread finished; awaiting finish of 5 more threads\n",
      "INFO - 10:09:59: worker thread finished; awaiting finish of 4 more threads\n",
      "INFO - 10:09:59: worker thread finished; awaiting finish of 3 more threads\n",
      "INFO - 10:09:59: worker thread finished; awaiting finish of 2 more threads\n",
      "INFO - 10:09:59: worker thread finished; awaiting finish of 1 more threads\n",
      "INFO - 10:09:59: worker thread finished; awaiting finish of 0 more threads\n",
      "INFO - 10:09:59: EPOCH - 1 : training on 590986 raw words (218125 effective words) took 1.3s, 163444 effective words/s\n",
      "INFO - 10:10:00: EPOCH 2 - PROGRESS: at 81.36% examples, 175436 words/s, in_qsize 0, out_qsize 0\n",
      "INFO - 10:10:01: worker thread finished; awaiting finish of 6 more threads\n",
      "INFO - 10:10:01: worker thread finished; awaiting finish of 5 more threads\n",
      "INFO - 10:10:01: worker thread finished; awaiting finish of 4 more threads\n",
      "INFO - 10:10:01: worker thread finished; awaiting finish of 3 more threads\n",
      "INFO - 10:10:01: worker thread finished; awaiting finish of 2 more threads\n",
      "INFO - 10:10:01: worker thread finished; awaiting finish of 1 more threads\n",
      "INFO - 10:10:01: worker thread finished; awaiting finish of 0 more threads\n",
      "INFO - 10:10:01: EPOCH - 2 : training on 590986 raw words (218466 effective words) took 1.2s, 178851 effective words/s\n",
      "INFO - 10:10:02: EPOCH 3 - PROGRESS: at 74.64% examples, 159708 words/s, in_qsize 0, out_qsize 0\n",
      "INFO - 10:10:02: worker thread finished; awaiting finish of 6 more threads\n",
      "INFO - 10:10:02: worker thread finished; awaiting finish of 5 more threads\n",
      "INFO - 10:10:02: worker thread finished; awaiting finish of 4 more threads\n",
      "INFO - 10:10:02: worker thread finished; awaiting finish of 3 more threads\n",
      "INFO - 10:10:02: worker thread finished; awaiting finish of 2 more threads\n",
      "INFO - 10:10:02: worker thread finished; awaiting finish of 1 more threads\n",
      "INFO - 10:10:02: worker thread finished; awaiting finish of 0 more threads\n",
      "INFO - 10:10:02: EPOCH - 3 : training on 590986 raw words (218128 effective words) took 1.3s, 165964 effective words/s\n",
      "INFO - 10:10:03: EPOCH 4 - PROGRESS: at 71.29% examples, 154837 words/s, in_qsize 0, out_qsize 0\n",
      "INFO - 10:10:03: worker thread finished; awaiting finish of 6 more threads\n",
      "INFO - 10:10:03: worker thread finished; awaiting finish of 5 more threads\n",
      "INFO - 10:10:03: worker thread finished; awaiting finish of 4 more threads\n",
      "INFO - 10:10:03: worker thread finished; awaiting finish of 3 more threads\n",
      "INFO - 10:10:03: worker thread finished; awaiting finish of 2 more threads\n",
      "INFO - 10:10:03: worker thread finished; awaiting finish of 1 more threads\n",
      "INFO - 10:10:03: worker thread finished; awaiting finish of 0 more threads\n",
      "INFO - 10:10:03: EPOCH - 4 : training on 590986 raw words (218587 effective words) took 1.3s, 162043 effective words/s\n",
      "INFO - 10:10:04: EPOCH 5 - PROGRESS: at 79.68% examples, 170811 words/s, in_qsize 0, out_qsize 0\n",
      "INFO - 10:10:04: worker thread finished; awaiting finish of 6 more threads\n",
      "INFO - 10:10:04: worker thread finished; awaiting finish of 5 more threads\n",
      "INFO - 10:10:04: worker thread finished; awaiting finish of 4 more threads\n",
      "INFO - 10:10:04: worker thread finished; awaiting finish of 3 more threads\n",
      "INFO - 10:10:04: worker thread finished; awaiting finish of 2 more threads\n",
      "INFO - 10:10:04: worker thread finished; awaiting finish of 1 more threads\n",
      "INFO - 10:10:04: worker thread finished; awaiting finish of 0 more threads\n",
      "INFO - 10:10:04: EPOCH - 5 : training on 590986 raw words (218666 effective words) took 1.2s, 177061 effective words/s\n",
      "INFO - 10:10:05: EPOCH 6 - PROGRESS: at 74.64% examples, 162531 words/s, in_qsize 0, out_qsize 0\n",
      "INFO - 10:10:06: worker thread finished; awaiting finish of 6 more threads\n",
      "INFO - 10:10:06: worker thread finished; awaiting finish of 5 more threads\n",
      "INFO - 10:10:06: worker thread finished; awaiting finish of 4 more threads\n",
      "INFO - 10:10:06: worker thread finished; awaiting finish of 3 more threads\n",
      "INFO - 10:10:06: worker thread finished; awaiting finish of 2 more threads\n",
      "INFO - 10:10:06: worker thread finished; awaiting finish of 1 more threads\n",
      "INFO - 10:10:06: worker thread finished; awaiting finish of 0 more threads\n",
      "INFO - 10:10:06: EPOCH - 6 : training on 590986 raw words (218776 effective words) took 1.3s, 169785 effective words/s\n",
      "INFO - 10:10:07: EPOCH 7 - PROGRESS: at 74.64% examples, 160834 words/s, in_qsize 0, out_qsize 0\n",
      "INFO - 10:10:07: worker thread finished; awaiting finish of 6 more threads\n",
      "INFO - 10:10:07: worker thread finished; awaiting finish of 5 more threads\n",
      "INFO - 10:10:07: worker thread finished; awaiting finish of 4 more threads\n",
      "INFO - 10:10:07: worker thread finished; awaiting finish of 3 more threads\n",
      "INFO - 10:10:07: worker thread finished; awaiting finish of 2 more threads\n",
      "INFO - 10:10:07: worker thread finished; awaiting finish of 1 more threads\n",
      "INFO - 10:10:07: worker thread finished; awaiting finish of 0 more threads\n",
      "INFO - 10:10:07: EPOCH - 7 : training on 590986 raw words (218043 effective words) took 1.3s, 168407 effective words/s\n",
      "INFO - 10:10:08: EPOCH 8 - PROGRESS: at 74.64% examples, 160745 words/s, in_qsize 0, out_qsize 0\n",
      "INFO - 10:10:08: worker thread finished; awaiting finish of 6 more threads\n",
      "INFO - 10:10:08: worker thread finished; awaiting finish of 5 more threads\n",
      "INFO - 10:10:08: worker thread finished; awaiting finish of 4 more threads\n",
      "INFO - 10:10:08: worker thread finished; awaiting finish of 3 more threads\n",
      "INFO - 10:10:08: worker thread finished; awaiting finish of 2 more threads\n",
      "INFO - 10:10:08: worker thread finished; awaiting finish of 1 more threads\n",
      "INFO - 10:10:08: worker thread finished; awaiting finish of 0 more threads\n",
      "INFO - 10:10:08: EPOCH - 8 : training on 590986 raw words (217897 effective words) took 1.3s, 168261 effective words/s\n",
      "INFO - 10:10:09: EPOCH 9 - PROGRESS: at 79.73% examples, 163878 words/s, in_qsize 0, out_qsize 0\n",
      "INFO - 10:10:10: worker thread finished; awaiting finish of 6 more threads\n",
      "INFO - 10:10:10: worker thread finished; awaiting finish of 5 more threads\n",
      "INFO - 10:10:10: worker thread finished; awaiting finish of 4 more threads\n",
      "INFO - 10:10:10: worker thread finished; awaiting finish of 3 more threads\n",
      "INFO - 10:10:10: worker thread finished; awaiting finish of 2 more threads\n",
      "INFO - 10:10:10: worker thread finished; awaiting finish of 1 more threads\n",
      "INFO - 10:10:10: worker thread finished; awaiting finish of 0 more threads\n",
      "INFO - 10:10:10: EPOCH - 9 : training on 590986 raw words (218764 effective words) took 1.3s, 169112 effective words/s\n",
      "INFO - 10:10:11: EPOCH 10 - PROGRESS: at 81.36% examples, 175782 words/s, in_qsize 0, out_qsize 0\n",
      "INFO - 10:10:11: worker thread finished; awaiting finish of 6 more threads\n",
      "INFO - 10:10:11: worker thread finished; awaiting finish of 5 more threads\n",
      "INFO - 10:10:11: worker thread finished; awaiting finish of 4 more threads\n",
      "INFO - 10:10:11: worker thread finished; awaiting finish of 3 more threads\n",
      "INFO - 10:10:11: worker thread finished; awaiting finish of 2 more threads\n",
      "INFO - 10:10:11: worker thread finished; awaiting finish of 1 more threads\n",
      "INFO - 10:10:11: worker thread finished; awaiting finish of 0 more threads\n",
      "INFO - 10:10:11: EPOCH - 10 : training on 590986 raw words (218496 effective words) took 1.2s, 179777 effective words/s\n",
      "INFO - 10:10:12: EPOCH 11 - PROGRESS: at 74.64% examples, 160343 words/s, in_qsize 0, out_qsize 0\n",
      "INFO - 10:10:12: worker thread finished; awaiting finish of 6 more threads\n",
      "INFO - 10:10:12: worker thread finished; awaiting finish of 5 more threads\n",
      "INFO - 10:10:12: worker thread finished; awaiting finish of 4 more threads\n",
      "INFO - 10:10:12: worker thread finished; awaiting finish of 3 more threads\n",
      "INFO - 10:10:12: worker thread finished; awaiting finish of 2 more threads\n",
      "INFO - 10:10:12: worker thread finished; awaiting finish of 1 more threads\n",
      "INFO - 10:10:12: worker thread finished; awaiting finish of 0 more threads\n",
      "INFO - 10:10:12: EPOCH - 11 : training on 590986 raw words (218664 effective words) took 1.3s, 167960 effective words/s\n"
     ]
    },
    {
     "name": "stderr",
     "output_type": "stream",
     "text": [
      "INFO - 10:10:13: EPOCH 12 - PROGRESS: at 74.64% examples, 160964 words/s, in_qsize 0, out_qsize 0\n",
      "INFO - 10:10:13: worker thread finished; awaiting finish of 6 more threads\n",
      "INFO - 10:10:13: worker thread finished; awaiting finish of 5 more threads\n",
      "INFO - 10:10:13: worker thread finished; awaiting finish of 4 more threads\n",
      "INFO - 10:10:13: worker thread finished; awaiting finish of 3 more threads\n",
      "INFO - 10:10:13: worker thread finished; awaiting finish of 2 more threads\n",
      "INFO - 10:10:13: worker thread finished; awaiting finish of 1 more threads\n",
      "INFO - 10:10:13: worker thread finished; awaiting finish of 0 more threads\n",
      "INFO - 10:10:13: EPOCH - 12 : training on 590986 raw words (218611 effective words) took 1.3s, 168765 effective words/s\n",
      "INFO - 10:10:14: EPOCH 13 - PROGRESS: at 72.97% examples, 158348 words/s, in_qsize 0, out_qsize 0\n",
      "INFO - 10:10:15: worker thread finished; awaiting finish of 6 more threads\n",
      "INFO - 10:10:15: worker thread finished; awaiting finish of 5 more threads\n",
      "INFO - 10:10:15: worker thread finished; awaiting finish of 4 more threads\n",
      "INFO - 10:10:15: worker thread finished; awaiting finish of 3 more threads\n",
      "INFO - 10:10:15: worker thread finished; awaiting finish of 2 more threads\n",
      "INFO - 10:10:15: worker thread finished; awaiting finish of 1 more threads\n",
      "INFO - 10:10:15: worker thread finished; awaiting finish of 0 more threads\n",
      "INFO - 10:10:15: EPOCH - 13 : training on 590986 raw words (218540 effective words) took 1.3s, 168910 effective words/s\n",
      "INFO - 10:10:16: EPOCH 14 - PROGRESS: at 81.36% examples, 175384 words/s, in_qsize 0, out_qsize 0\n",
      "INFO - 10:10:16: worker thread finished; awaiting finish of 6 more threads\n",
      "INFO - 10:10:16: worker thread finished; awaiting finish of 5 more threads\n",
      "INFO - 10:10:16: worker thread finished; awaiting finish of 4 more threads\n",
      "INFO - 10:10:16: worker thread finished; awaiting finish of 3 more threads\n",
      "INFO - 10:10:16: worker thread finished; awaiting finish of 2 more threads\n",
      "INFO - 10:10:16: worker thread finished; awaiting finish of 1 more threads\n",
      "INFO - 10:10:16: worker thread finished; awaiting finish of 0 more threads\n",
      "INFO - 10:10:16: EPOCH - 14 : training on 590986 raw words (218300 effective words) took 1.3s, 169091 effective words/s\n",
      "INFO - 10:10:17: EPOCH 15 - PROGRESS: at 81.36% examples, 176443 words/s, in_qsize 0, out_qsize 0\n",
      "INFO - 10:10:17: worker thread finished; awaiting finish of 6 more threads\n",
      "INFO - 10:10:17: worker thread finished; awaiting finish of 5 more threads\n",
      "INFO - 10:10:17: worker thread finished; awaiting finish of 4 more threads\n",
      "INFO - 10:10:17: worker thread finished; awaiting finish of 3 more threads\n",
      "INFO - 10:10:17: worker thread finished; awaiting finish of 2 more threads\n",
      "INFO - 10:10:17: worker thread finished; awaiting finish of 1 more threads\n",
      "INFO - 10:10:17: worker thread finished; awaiting finish of 0 more threads\n",
      "INFO - 10:10:17: EPOCH - 15 : training on 590986 raw words (218460 effective words) took 1.2s, 180031 effective words/s\n",
      "INFO - 10:10:18: EPOCH 16 - PROGRESS: at 74.64% examples, 161984 words/s, in_qsize 0, out_qsize 0\n",
      "INFO - 10:10:19: worker thread finished; awaiting finish of 6 more threads\n",
      "INFO - 10:10:19: worker thread finished; awaiting finish of 5 more threads\n",
      "INFO - 10:10:19: worker thread finished; awaiting finish of 4 more threads\n",
      "INFO - 10:10:19: worker thread finished; awaiting finish of 3 more threads\n",
      "INFO - 10:10:19: worker thread finished; awaiting finish of 2 more threads\n",
      "INFO - 10:10:19: worker thread finished; awaiting finish of 1 more threads\n",
      "INFO - 10:10:19: worker thread finished; awaiting finish of 0 more threads\n",
      "INFO - 10:10:19: EPOCH - 16 : training on 590986 raw words (218773 effective words) took 1.3s, 168938 effective words/s\n",
      "INFO - 10:10:20: EPOCH 17 - PROGRESS: at 74.64% examples, 161458 words/s, in_qsize 0, out_qsize 0\n",
      "INFO - 10:10:20: worker thread finished; awaiting finish of 6 more threads\n",
      "INFO - 10:10:20: worker thread finished; awaiting finish of 5 more threads\n",
      "INFO - 10:10:20: worker thread finished; awaiting finish of 4 more threads\n",
      "INFO - 10:10:20: worker thread finished; awaiting finish of 3 more threads\n",
      "INFO - 10:10:20: worker thread finished; awaiting finish of 2 more threads\n",
      "INFO - 10:10:20: worker thread finished; awaiting finish of 1 more threads\n",
      "INFO - 10:10:20: worker thread finished; awaiting finish of 0 more threads\n",
      "INFO - 10:10:20: EPOCH - 17 : training on 590986 raw words (218246 effective words) took 1.3s, 168906 effective words/s\n",
      "INFO - 10:10:21: EPOCH 18 - PROGRESS: at 74.64% examples, 161274 words/s, in_qsize 0, out_qsize 0\n",
      "INFO - 10:10:21: worker thread finished; awaiting finish of 6 more threads\n",
      "INFO - 10:10:21: worker thread finished; awaiting finish of 5 more threads\n",
      "INFO - 10:10:21: worker thread finished; awaiting finish of 4 more threads\n",
      "INFO - 10:10:21: worker thread finished; awaiting finish of 3 more threads\n",
      "INFO - 10:10:21: worker thread finished; awaiting finish of 2 more threads\n",
      "INFO - 10:10:21: worker thread finished; awaiting finish of 1 more threads\n",
      "INFO - 10:10:21: worker thread finished; awaiting finish of 0 more threads\n",
      "INFO - 10:10:21: EPOCH - 18 : training on 590986 raw words (218849 effective words) took 1.3s, 168759 effective words/s\n",
      "INFO - 10:10:22: EPOCH 19 - PROGRESS: at 76.33% examples, 161399 words/s, in_qsize 0, out_qsize 0\n",
      "INFO - 10:10:23: worker thread finished; awaiting finish of 6 more threads\n",
      "INFO - 10:10:23: worker thread finished; awaiting finish of 5 more threads\n",
      "INFO - 10:10:23: worker thread finished; awaiting finish of 4 more threads\n",
      "INFO - 10:10:23: worker thread finished; awaiting finish of 3 more threads\n",
      "INFO - 10:10:23: worker thread finished; awaiting finish of 2 more threads\n",
      "INFO - 10:10:23: worker thread finished; awaiting finish of 1 more threads\n",
      "INFO - 10:10:23: worker thread finished; awaiting finish of 0 more threads\n",
      "INFO - 10:10:23: EPOCH - 19 : training on 590986 raw words (218141 effective words) took 1.3s, 168528 effective words/s\n",
      "INFO - 10:10:24: EPOCH 20 - PROGRESS: at 81.36% examples, 175459 words/s, in_qsize 0, out_qsize 0\n",
      "INFO - 10:10:24: worker thread finished; awaiting finish of 6 more threads\n",
      "INFO - 10:10:24: worker thread finished; awaiting finish of 5 more threads\n",
      "INFO - 10:10:24: worker thread finished; awaiting finish of 4 more threads\n",
      "INFO - 10:10:24: worker thread finished; awaiting finish of 3 more threads\n",
      "INFO - 10:10:24: worker thread finished; awaiting finish of 2 more threads\n",
      "INFO - 10:10:24: worker thread finished; awaiting finish of 1 more threads\n",
      "INFO - 10:10:24: worker thread finished; awaiting finish of 0 more threads\n",
      "INFO - 10:10:24: EPOCH - 20 : training on 590986 raw words (218683 effective words) took 1.2s, 180519 effective words/s\n",
      "INFO - 10:10:25: EPOCH 21 - PROGRESS: at 76.33% examples, 163185 words/s, in_qsize 0, out_qsize 0\n",
      "INFO - 10:10:25: worker thread finished; awaiting finish of 6 more threads\n",
      "INFO - 10:10:25: worker thread finished; awaiting finish of 5 more threads\n",
      "INFO - 10:10:25: worker thread finished; awaiting finish of 4 more threads\n",
      "INFO - 10:10:25: worker thread finished; awaiting finish of 3 more threads\n",
      "INFO - 10:10:25: worker thread finished; awaiting finish of 2 more threads\n",
      "INFO - 10:10:25: worker thread finished; awaiting finish of 1 more threads\n",
      "INFO - 10:10:25: worker thread finished; awaiting finish of 0 more threads\n",
      "INFO - 10:10:25: EPOCH - 21 : training on 590986 raw words (218218 effective words) took 1.3s, 169700 effective words/s\n",
      "INFO - 10:10:26: EPOCH 22 - PROGRESS: at 74.64% examples, 161658 words/s, in_qsize 0, out_qsize 0\n",
      "INFO - 10:10:26: worker thread finished; awaiting finish of 6 more threads\n",
      "INFO - 10:10:26: worker thread finished; awaiting finish of 5 more threads\n",
      "INFO - 10:10:26: worker thread finished; awaiting finish of 4 more threads\n",
      "INFO - 10:10:26: worker thread finished; awaiting finish of 3 more threads\n",
      "INFO - 10:10:26: worker thread finished; awaiting finish of 2 more threads\n",
      "INFO - 10:10:26: worker thread finished; awaiting finish of 1 more threads\n",
      "INFO - 10:10:26: worker thread finished; awaiting finish of 0 more threads\n",
      "INFO - 10:10:26: EPOCH - 22 : training on 590986 raw words (218445 effective words) took 1.3s, 169333 effective words/s\n",
      "INFO - 10:10:27: EPOCH 23 - PROGRESS: at 74.64% examples, 160819 words/s, in_qsize 0, out_qsize 0\n"
     ]
    },
    {
     "name": "stderr",
     "output_type": "stream",
     "text": [
      "INFO - 10:10:28: worker thread finished; awaiting finish of 6 more threads\n",
      "INFO - 10:10:28: worker thread finished; awaiting finish of 5 more threads\n",
      "INFO - 10:10:28: worker thread finished; awaiting finish of 4 more threads\n",
      "INFO - 10:10:28: worker thread finished; awaiting finish of 3 more threads\n",
      "INFO - 10:10:28: worker thread finished; awaiting finish of 2 more threads\n",
      "INFO - 10:10:28: worker thread finished; awaiting finish of 1 more threads\n",
      "INFO - 10:10:28: worker thread finished; awaiting finish of 0 more threads\n",
      "INFO - 10:10:28: EPOCH - 23 : training on 590986 raw words (218710 effective words) took 1.3s, 168694 effective words/s\n",
      "INFO - 10:10:29: EPOCH 24 - PROGRESS: at 81.36% examples, 176330 words/s, in_qsize 0, out_qsize 0\n",
      "INFO - 10:10:29: worker thread finished; awaiting finish of 6 more threads\n",
      "INFO - 10:10:29: worker thread finished; awaiting finish of 5 more threads\n",
      "INFO - 10:10:29: worker thread finished; awaiting finish of 4 more threads\n",
      "INFO - 10:10:29: worker thread finished; awaiting finish of 3 more threads\n",
      "INFO - 10:10:29: worker thread finished; awaiting finish of 2 more threads\n",
      "INFO - 10:10:29: worker thread finished; awaiting finish of 1 more threads\n",
      "INFO - 10:10:29: worker thread finished; awaiting finish of 0 more threads\n",
      "INFO - 10:10:29: EPOCH - 24 : training on 590986 raw words (218675 effective words) took 1.3s, 168705 effective words/s\n",
      "INFO - 10:10:30: EPOCH 25 - PROGRESS: at 83.06% examples, 180163 words/s, in_qsize 0, out_qsize 0\n",
      "INFO - 10:10:30: worker thread finished; awaiting finish of 6 more threads\n",
      "INFO - 10:10:30: worker thread finished; awaiting finish of 5 more threads\n",
      "INFO - 10:10:30: worker thread finished; awaiting finish of 4 more threads\n",
      "INFO - 10:10:30: worker thread finished; awaiting finish of 3 more threads\n",
      "INFO - 10:10:30: worker thread finished; awaiting finish of 2 more threads\n",
      "INFO - 10:10:30: worker thread finished; awaiting finish of 1 more threads\n",
      "INFO - 10:10:30: worker thread finished; awaiting finish of 0 more threads\n",
      "INFO - 10:10:30: EPOCH - 25 : training on 590986 raw words (218452 effective words) took 1.2s, 183628 effective words/s\n",
      "INFO - 10:10:31: EPOCH 26 - PROGRESS: at 74.64% examples, 161440 words/s, in_qsize 0, out_qsize 0\n",
      "INFO - 10:10:31: worker thread finished; awaiting finish of 6 more threads\n",
      "INFO - 10:10:31: worker thread finished; awaiting finish of 5 more threads\n",
      "INFO - 10:10:31: worker thread finished; awaiting finish of 4 more threads\n",
      "INFO - 10:10:31: worker thread finished; awaiting finish of 3 more threads\n",
      "INFO - 10:10:31: worker thread finished; awaiting finish of 2 more threads\n",
      "INFO - 10:10:31: worker thread finished; awaiting finish of 1 more threads\n",
      "INFO - 10:10:31: worker thread finished; awaiting finish of 0 more threads\n",
      "INFO - 10:10:31: EPOCH - 26 : training on 590986 raw words (218855 effective words) took 1.3s, 168991 effective words/s\n",
      "INFO - 10:10:32: EPOCH 27 - PROGRESS: at 74.64% examples, 161103 words/s, in_qsize 0, out_qsize 0\n",
      "INFO - 10:10:33: worker thread finished; awaiting finish of 6 more threads\n",
      "INFO - 10:10:33: worker thread finished; awaiting finish of 5 more threads\n",
      "INFO - 10:10:33: worker thread finished; awaiting finish of 4 more threads\n",
      "INFO - 10:10:33: worker thread finished; awaiting finish of 3 more threads\n",
      "INFO - 10:10:33: worker thread finished; awaiting finish of 2 more threads\n",
      "INFO - 10:10:33: worker thread finished; awaiting finish of 1 more threads\n",
      "INFO - 10:10:33: worker thread finished; awaiting finish of 0 more threads\n",
      "INFO - 10:10:33: EPOCH - 27 : training on 590986 raw words (218261 effective words) took 1.3s, 168249 effective words/s\n",
      "INFO - 10:10:34: EPOCH 28 - PROGRESS: at 78.05% examples, 161907 words/s, in_qsize 0, out_qsize 0\n",
      "INFO - 10:10:34: worker thread finished; awaiting finish of 6 more threads\n",
      "INFO - 10:10:34: worker thread finished; awaiting finish of 5 more threads\n",
      "INFO - 10:10:34: worker thread finished; awaiting finish of 4 more threads\n",
      "INFO - 10:10:34: worker thread finished; awaiting finish of 3 more threads\n",
      "INFO - 10:10:34: worker thread finished; awaiting finish of 2 more threads\n",
      "INFO - 10:10:34: worker thread finished; awaiting finish of 1 more threads\n",
      "INFO - 10:10:34: worker thread finished; awaiting finish of 0 more threads\n",
      "INFO - 10:10:34: EPOCH - 28 : training on 590986 raw words (218303 effective words) took 1.3s, 168700 effective words/s\n",
      "INFO - 10:10:35: EPOCH 29 - PROGRESS: at 81.36% examples, 175125 words/s, in_qsize 0, out_qsize 0\n",
      "INFO - 10:10:35: worker thread finished; awaiting finish of 6 more threads\n",
      "INFO - 10:10:35: worker thread finished; awaiting finish of 5 more threads\n",
      "INFO - 10:10:35: worker thread finished; awaiting finish of 4 more threads\n",
      "INFO - 10:10:35: worker thread finished; awaiting finish of 3 more threads\n",
      "INFO - 10:10:35: worker thread finished; awaiting finish of 2 more threads\n",
      "INFO - 10:10:35: worker thread finished; awaiting finish of 1 more threads\n",
      "INFO - 10:10:35: worker thread finished; awaiting finish of 0 more threads\n",
      "INFO - 10:10:35: EPOCH - 29 : training on 590986 raw words (218197 effective words) took 1.2s, 179131 effective words/s\n",
      "INFO - 10:10:36: EPOCH 30 - PROGRESS: at 74.64% examples, 161358 words/s, in_qsize 0, out_qsize 0\n",
      "INFO - 10:10:37: worker thread finished; awaiting finish of 6 more threads\n",
      "INFO - 10:10:37: worker thread finished; awaiting finish of 5 more threads\n",
      "INFO - 10:10:37: worker thread finished; awaiting finish of 4 more threads\n",
      "INFO - 10:10:37: worker thread finished; awaiting finish of 3 more threads\n",
      "INFO - 10:10:37: worker thread finished; awaiting finish of 2 more threads\n",
      "INFO - 10:10:37: worker thread finished; awaiting finish of 1 more threads\n",
      "INFO - 10:10:37: worker thread finished; awaiting finish of 0 more threads\n",
      "INFO - 10:10:37: EPOCH - 30 : training on 590986 raw words (218867 effective words) took 1.3s, 168998 effective words/s\n",
      "INFO - 10:10:37: training on a 17729580 raw words (6554198 effective words) took 38.7s, 169522 effective words/s\n"
     ]
    },
    {
     "name": "stdout",
     "output_type": "stream",
     "text": [
      "Time to train the model: 0.64 mins\n"
     ]
    }
   ],
   "source": [
    "# train the model\n",
    "\n",
    "t = time()\n",
    "\n",
    "w2v_model.train(sentences, total_examples=w2v_model.corpus_count, epochs=30, report_delay=1)\n",
    "\n",
    "print('Time to train the model: {} mins'.format(round((time() - t) / 60, 2)))"
   ]
  },
  {
   "cell_type": "code",
   "execution_count": 32,
   "id": "transsexual-alert",
   "metadata": {},
   "outputs": [
    {
     "name": "stderr",
     "output_type": "stream",
     "text": [
      "INFO - 10:11:05: precomputing L2-norms of word weight vectors\n"
     ]
    }
   ],
   "source": [
    "\"\"\"As we do not plan to train the model any further, we are calling init_sims(),\n",
    "which will make the model much more memory-efficient\"\"\"\n",
    "\n",
    "w2v_model.init_sims(replace=True)"
   ]
  },
  {
   "cell_type": "code",
   "execution_count": 34,
   "id": "gross-connecticut",
   "metadata": {},
   "outputs": [
    {
     "name": "stdout",
     "output_type": "stream",
     "text": [
      "homer\n",
      "[('depressed', 0.7674498558044434), ('thinking', 0.7189080715179443), ('marge', 0.7133601903915405)]\n",
      "\n",
      "homer_simpson\n",
      "[('congratulation', 0.7400599718093872), ('select', 0.7390156984329224), ('governor', 0.7345747351646423), ('council', 0.7275370359420776), ('pleased', 0.7248613238334656), ('appearance', 0.7191231846809387), ('recent', 0.7188793420791626), ('robert', 0.714475154876709), ('easily', 0.6989107131958008), ('sir', 0.6988564729690552)]\n"
     ]
    }
   ],
   "source": [
    "## Exploring the model\n",
    "\n",
    "# most similar\n",
    "\n",
    "wv = w2v_model.wv\n",
    "\n",
    "print('homer')\n",
    "print(wv.most_similar(positive=['homer'], topn=3))\n",
    "\n",
    "print(\"\")\n",
    "print('homer_simpson')\n",
    "print(wv.most_similar(positive=['homer_simpson']))"
   ]
  },
  {
   "cell_type": "code",
   "execution_count": 17,
   "id": "western-gross",
   "metadata": {},
   "outputs": [
    {
     "name": "stdout",
     "output_type": "stream",
     "text": [
      "0.7227211\n",
      "milhouse\n",
      "[('lisa', 0.6899698376655579), ('parent', 0.6541465520858765), ('assignment', 0.6504457592964172)]\n"
     ]
    },
    {
     "name": "stderr",
     "output_type": "stream",
     "text": [
      "/Users/Boulot/tuto_gensim/venv/lib/python3.8/site-packages/gensim/models/keyedvectors.py:877: FutureWarning: arrays to stack must be passed as a \"sequence\" type such as list or tuple. Support for non-sequence iterables such as generators is deprecated as of NumPy 1.16 and will raise an error in the future.\n",
      "  vectors = vstack(self.word_vec(word, use_norm=True) for word in used_words).astype(REAL)\n"
     ]
    }
   ],
   "source": [
    "# similarity\n",
    "\n",
    "print(wv.similarity(\"maggie\", 'baby'))\n",
    "\n",
    "# doesn't match\n",
    "\n",
    "print(wv.doesnt_match(['jimbo', 'milhouse', 'kearney']))\n",
    "\n",
    "# king -man + woman\n",
    "print(wv.most_similar(positive=[\"woman\", \"bart\"], negative=[\"man\"], topn=3))"
   ]
  },
  {
   "cell_type": "code",
   "execution_count": 30,
   "id": "beautiful-dining",
   "metadata": {},
   "outputs": [],
   "source": [
    "## Visualization\n",
    "\n",
    "import numpy as np\n",
    "import matplotlib.pyplot as plt\n",
    "%matplotlib inline\n",
    "import seaborn as sns\n",
    "sns.set_style('darkgrid')\n",
    "from sklearn.decomposition import PCA\n",
    "from sklearn.manifold import TSNE"
   ]
  },
  {
   "cell_type": "code",
   "execution_count": 28,
   "id": "downtown-cisco",
   "metadata": {},
   "outputs": [],
   "source": [
    "def tsnescatterplot(model, word, list_names):\n",
    "    \"\"\" Plot in seaborn the results from the t-SNE dimensionality reduction algorithm of the vectors of a query word,\n",
    "    its list of most similar words, and a list of words.\n",
    "    \"\"\"\n",
    "    arrays = np.empty((0, 300), dtype='f')\n",
    "    word_labels = [word]\n",
    "    color_list  = ['red']\n",
    "\n",
    "    # adds the vector of the query word\n",
    "    arrays = np.append(arrays, model.wv.__getitem__([word]), axis=0)\n",
    "    \n",
    "    # gets list of most similar words\n",
    "    close_words = model.wv.most_similar([word])\n",
    "    \n",
    "    # adds the vector for each of the closest words to the array\n",
    "    for wrd_score in close_words:\n",
    "        wrd_vector = model.wv.__getitem__([wrd_score[0]])\n",
    "        word_labels.append(wrd_score[0])\n",
    "        color_list.append('blue')\n",
    "        arrays = np.append(arrays, wrd_vector, axis=0)\n",
    "    \n",
    "    # adds the vector for each of the words from list_names to the array\n",
    "    for wrd in list_names:\n",
    "        wrd_vector = model.wv.__getitem__([wrd])\n",
    "        word_labels.append(wrd)\n",
    "        color_list.append('green')\n",
    "        arrays = np.append(arrays, wrd_vector, axis=0)\n",
    "        \n",
    "    # Reduces the dimensionality from 300 to 50 dimensions with PCA\n",
    "    reduc = PCA().fit_transform(arrays)\n",
    "    \n",
    "    # Finds t-SNE coordinates for 2 dimensions\n",
    "    np.set_printoptions(suppress=True)\n",
    "    \n",
    "    Y = TSNE(n_components=2, random_state=0, perplexity=15).fit_transform(reduc)\n",
    "    \n",
    "    # Sets everything up to plot\n",
    "    df = pd.DataFrame({'x': [x for x in Y[:, 0]],\n",
    "                       'y': [y for y in Y[:, 1]],\n",
    "                       'words': word_labels,\n",
    "                       'color': color_list})\n",
    "    \n",
    "    fig, _ = plt.subplots()\n",
    "    fig.set_size_inches(9, 9)\n",
    "    \n",
    "    # Basic plot\n",
    "    p1 = sns.regplot(data=df,\n",
    "                     x=\"x\",\n",
    "                     y=\"y\",\n",
    "                     fit_reg=False,\n",
    "                     marker=\"o\",\n",
    "                     scatter_kws={'s': 40,\n",
    "                                  'facecolors': df['color']\n",
    "                                 }\n",
    "                    )\n",
    "    \n",
    "    # Adds annotations one by one with a loop\n",
    "    for line in range(0, df.shape[0]):\n",
    "         p1.text(df[\"x\"][line],\n",
    "                 df['y'][line],\n",
    "                 '  ' + df[\"words\"][line].title(),\n",
    "                 horizontalalignment='left',\n",
    "                 verticalalignment='bottom', size='medium',\n",
    "                 color=df['color'][line],\n",
    "                 weight='normal'\n",
    "                ).set_size(15)\n",
    "\n",
    "    \n",
    "    plt.xlim(Y[:, 0].min()-50, Y[:, 0].max()+50)\n",
    "    plt.ylim(Y[:, 1].min()-50, Y[:, 1].max()+50)\n",
    "            \n",
    "    plt.title('t-SNE visualization for {}'.format(word.title()))"
   ]
  },
  {
   "cell_type": "code",
   "execution_count": 31,
   "id": "oriented-chest",
   "metadata": {
    "scrolled": true
   },
   "outputs": [
    {
     "name": "stderr",
     "output_type": "stream",
     "text": [
      "INFO - 14:17:23: findfont: Found a missing font file.  Rebuilding cache.\n",
      "INFO - 14:17:23: Generating new fontManager, this may take some time...\n",
      "INFO - 14:17:23: Failed to extract font properties from /System/Library/Fonts/Supplemental/NISC18030.ttf: In FT2Font: Could not set the fontsize (error code 0x17)\n",
      "INFO - 14:17:23: Failed to extract font properties from /System/Library/Fonts/LastResort.otf: tuple indices must be integers or slices, not str\n",
      "INFO - 14:17:23: Failed to extract font properties from /System/Library/Fonts/Apple Color Emoji.ttc: In FT2Font: Could not set the fontsize (error code 0x17)\n",
      "INFO - 14:17:23: findfont: Found a missing font file.  Rebuilding cache.\n",
      "INFO - 14:17:23: Generating new fontManager, this may take some time...\n",
      "INFO - 14:17:24: Failed to extract font properties from /System/Library/Fonts/Supplemental/NISC18030.ttf: In FT2Font: Could not set the fontsize (error code 0x17)\n",
      "INFO - 14:17:24: Failed to extract font properties from /System/Library/Fonts/LastResort.otf: tuple indices must be integers or slices, not str\n",
      "INFO - 14:17:24: Failed to extract font properties from /System/Library/Fonts/Apple Color Emoji.ttc: In FT2Font: Could not set the fontsize (error code 0x17)\n",
      "INFO - 14:17:24: findfont: Found a missing font file.  Rebuilding cache.\n",
      "INFO - 14:17:24: Generating new fontManager, this may take some time...\n",
      "INFO - 14:17:24: Failed to extract font properties from /System/Library/Fonts/Supplemental/NISC18030.ttf: In FT2Font: Could not set the fontsize (error code 0x17)\n",
      "INFO - 14:17:24: Failed to extract font properties from /System/Library/Fonts/LastResort.otf: tuple indices must be integers or slices, not str\n",
      "INFO - 14:17:24: Failed to extract font properties from /System/Library/Fonts/Apple Color Emoji.ttc: In FT2Font: Could not set the fontsize (error code 0x17)\n"
     ]
    },
    {
     "data": {
      "image/png": "[encoded data removed]",
      "text/plain": [
       "<Figure size 648x648 with 1 Axes>"
      ]
     },
     "metadata": {},
     "output_type": "display_data"
    }
   ],
   "source": [
    "tsnescatterplot(w2v_model, 'homer', ['dog', 'bird', 'ah', 'maude', 'bob', 'mel', 'apu', 'duff'])"
   ]
  },
  {
   "cell_type": "code",
   "execution_count": 32,
   "id": "forty-trout",
   "metadata": {},
   "outputs": [
    {
     "data": {
      "image/png": "[encoded data removed]",
      "text/plain": [
       "<Figure size 648x648 with 1 Axes>"
      ]
     },
     "metadata": {},
     "output_type": "display_data"
    }
   ],
   "source": [
    "# most dissimilar\n",
    "tsnescatterplot(w2v_model, 'maggie', [i[0] for i in w2v_model.wv.most_similar(negative=[\"maggie\"])])"
   ]
  },
  {
   "cell_type": "code",
   "execution_count": 33,
   "id": "placed-walnut",
   "metadata": {
    "scrolled": false
   },
   "outputs": [
    {
     "data": {
      "image/png": "[encoded data removed]",
      "text/plain": [
       "<Figure size 648x648 with 1 Axes>"
      ]
     },
     "metadata": {},
     "output_type": "display_data"
    }
   ],
   "source": [
    "# 11th to 20th most similar\n",
    "tsnescatterplot(w2v_model, \"mr_burn\", [t[0] for t in w2v_model.wv.most_similar(positive=[\"mr_burn\"], topn=20)][10:])"
   ]
  }
 ],
 "metadata": {
  "kernelspec": {
   "display_name": "Python 3",
   "language": "python",
   "name": "python3"
  },
  "language_info": {
   "codemirror_mode": {
    "name": "ipython",
    "version": 3
   },
   "file_extension": ".py",
   "mimetype": "text/x-python",
   "name": "python",
   "nbconvert_exporter": "python",
   "pygments_lexer": "ipython3",
   "version": "3.8.3"
  }
 },
 "nbformat": 4,
 "nbformat_minor": 5
}
