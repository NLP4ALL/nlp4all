{
 "cells": [
  {
   "cell_type": "code",
   "execution_count": null,
   "id": "neutral-allocation",
   "metadata": {},
   "outputs": [],
   "source": [
    "'''Not a tutorial.'''"
   ]
  },
  {
   "cell_type": "code",
   "execution_count": 1,
   "id": "western-blast",
   "metadata": {},
   "outputs": [
    {
     "data": {
      "text/plain": [
       "['austen-emma.txt',\n",
       " 'austen-persuasion.txt',\n",
       " 'austen-sense.txt',\n",
       " 'bible-kjv.txt',\n",
       " 'blake-poems.txt',\n",
       " 'bryant-stories.txt',\n",
       " 'burgess-busterbrown.txt',\n",
       " 'carroll-alice.txt',\n",
       " 'chesterton-ball.txt',\n",
       " 'chesterton-brown.txt',\n",
       " 'chesterton-thursday.txt',\n",
       " 'edgeworth-parents.txt',\n",
       " 'melville-moby_dick.txt',\n",
       " 'milton-paradise.txt',\n",
       " 'shakespeare-caesar.txt',\n",
       " 'shakespeare-hamlet.txt',\n",
       " 'shakespeare-macbeth.txt',\n",
       " 'whitman-leaves.txt']"
      ]
     },
     "execution_count": 1,
     "metadata": {},
     "output_type": "execute_result"
    }
   ],
   "source": [
    "# import corpus\n",
    "from nltk.corpus import gutenberg\n",
    "gutenberg.fileids()"
   ]
  },
  {
   "cell_type": "code",
   "execution_count": 10,
   "id": "prompt-pierce",
   "metadata": {},
   "outputs": [],
   "source": [
    "# preprocessing corpus -> getting rid of punctuation\n",
    "import os\n",
    "import string\n",
    "from collections import defaultdict\n",
    "\n",
    "def depunctuationize(path, new_path, unwanted_char=string.punctuation):\n",
    "    file = open(path, 'r')\n",
    "    new_file = open(new_path, 'w')\n",
    "    for line in file:\n",
    "        new_line = []\n",
    "        for char in line:\n",
    "            if char not in unwanted_char:\n",
    "                new_line.append(char)\n",
    "        new_file.write(''.join(new_line))\n",
    "    file.close()\n",
    "    new_file.close()\n",
    "\n",
    "    \n",
    "def get_frequencies(path):\n",
    "    frequencies = defaultdict(int)\n",
    "    file = open(path, 'r')\n",
    "    for line in file:\n",
    "        line = line.lower().split()\n",
    "        for token in line:\n",
    "            frequencies[token] += 1\n",
    "    file.close()\n",
    "    return frequencies\n",
    "    \n",
    "\n",
    "def merge_frequencies(list_dicts):\n",
    "    # get the global frequency based on frequencies on parts of the corpus\n",
    "    global_dict = {}\n",
    "    for d in list_dicts:\n",
    "        for key in d:\n",
    "            if key in global_dict:\n",
    "                global_dict[key] += d[key]\n",
    "            else:\n",
    "                global_dict[key] = d[key]\n",
    "    return global_dict\n",
    "    \n",
    "    \n",
    "def keep_non_unique_tokens(path, new_path, frequency):\n",
    "    file = open(path, 'r')\n",
    "    new_file = open(new_path, 'w')\n",
    "    for line in file:\n",
    "        new_line = []\n",
    "        line = line.lower().split()\n",
    "        for token in line:\n",
    "            if frequency[token] > 1:\n",
    "                new_line.append(token)\n",
    "        new_file.write(' '.join(new_line)+'\\n')\n",
    "    file.close()\n",
    "    new_file.close()\n",
    "\n",
    "    \n",
    "def preprocessing_txt(path, unwanted_char=string.punctuation, keep_unique=False):\n",
    "    # get rid of the punctuation and the once used words for a single .txt file\n",
    "    interm_path = path + '_no_punct.txt'\n",
    "    final_path = path + '_preprocessed.txt'\n",
    "    depunctuationize(path+'.txt', interm_path, unwanted_char)\n",
    "    if not keep_unique:\n",
    "        if freq == None:\n",
    "            freq = get_frequencies(interm_path)\n",
    "        keep_non_unique_tokens(interm_path, final_path, freq)\n",
    "        os.remove(interm_path)\n",
    "\n",
    "def preprocessing_directory(dir_path, unwanted_char=string.punctuation):\n",
    "    # same thing than above, but for an entire file of .txt\n",
    "    # different function than above to have a common frequencies dictionary\n",
    "    global_freq = {}\n",
    "    for filename in os.listdir(dir_path):\n",
    "        if '.txt' in filename:\n",
    "            print(filename)\n",
    "            interm_path = dir_path + filename[:-4] + '_no_punct.txt'\n",
    "            depunctuationize(dir_path+filename, interm_path, unwanted_char)\n",
    "            global_freq = merge_frequencies([global_freq, get_frequencies(interm_path)])\n",
    "    # remove words such that global freq = 1\n",
    "    for filename in os.listdir(dir_path):\n",
    "        if '.txt' in filename:\n",
    "            if '_no_punct' in filename:\n",
    "                final_path = dir_path + filename[:-13] + '_preprocessed.txt'\n",
    "                keep_non_unique_tokens(dir_path+filename, final_path, global_freq)\n",
    "    # remove intermediate files\n",
    "    for filename in os.listdir(dir_path):\n",
    "        if '_no_punct' in filename:\n",
    "            os.remove(dir_path+filename)"
   ]
  },
  {
   "cell_type": "code",
   "execution_count": 13,
   "id": "altered-environment",
   "metadata": {
    "scrolled": true
   },
   "outputs": [
    {
     "name": "stdout",
     "output_type": "stream",
     "text": [
      "blake-poems.txt\n",
      "chesterton-thursday_no_punct.txt\n",
      "carroll-alice.txt\n",
      "carroll-alice_no_punct.txt\n",
      "whitman-leaves.txt\n",
      "melville-moby_dick_no_punct.txt\n",
      "milton-paradise_no_punct.txt\n",
      "milton-paradise.txt\n",
      "bible-kjv.txt\n",
      "whitman-leaves_no_punct.txt\n",
      "bible-kjv_no_punct.txt\n",
      "austen-persuasion_no_punct.txt\n",
      "edgeworth-parents_no_punct.txt\n",
      "chesterton-ball_no_punct.txt\n",
      "austen-persuasion.txt\n",
      "melville-moby_dick.txt\n",
      "edgeworth-parents.txt\n",
      "chesterton-thursday.txt\n",
      "burgess-busterbrown.txt\n",
      "burgess-busterbrown_no_punct.txt\n",
      "blake-poems_no_punct.txt\n",
      "austen-emma.txt\n",
      "chesterton-brown.txt\n",
      "shakespeare-hamlet.txt\n",
      "austen-sense.txt\n",
      "shakespeare-macbeth.txt\n",
      "bryant-stories.txt\n"
     ]
    }
   ],
   "source": [
    "# preprocessing the 'gutenberg' texts\n",
    "\n",
    "dir_path = \"/Users/Boulot/nltk_data/corpora/gutenberg/\"\n",
    "unwanted_char = string.punctuation\n",
    "\n",
    "preprocessing_directory(dir_path)"
   ]
  },
  {
   "cell_type": "code",
   "execution_count": 255,
   "id": "authorized-springer",
   "metadata": {
    "scrolled": true
   },
   "outputs": [],
   "source": [
    "## tokenize\n",
    "from smart_open import open  # for transparently opening remote files\n",
    "\n",
    "\n",
    "class TokenizedCorpus:\n",
    "    # set of tokenized documents\n",
    "    def __init__(self, path, stoplist):\n",
    "        self.path = path\n",
    "        self.stoplist = stoplist\n",
    "        \n",
    "    def __iter__(self):\n",
    "        # assume docs separated by two empty lines, tokens separated by whitespace\n",
    "        doc = []\n",
    "        line_empty = False\n",
    "        prev_line_empty = False\n",
    "        for line in open(self.path, 'r'):\n",
    "            prev_line_empty = line_empty\n",
    "            line_empty = (line == '\\n' or line == ' \\n')\n",
    "            if line_empty and prev_line_empty: # end of document\n",
    "                yield doc\n",
    "                doc = []\n",
    "                line_empty = False\n",
    "                prev_line_empty = False\n",
    "            else:\n",
    "                doc.extend([word for word in line.lower().split() if word not in self.stoplist])\n",
    "    \n",
    "    def get(self, i):\n",
    "        # get the ith document\n",
    "        j = 0\n",
    "        for doc in self:\n",
    "            if j == i:\n",
    "                return doc\n",
    "            j += 1\n",
    "        raise IndexError(\"Index out of range\")\n",
    "    \n",
    "    def display(self, i, cap = 10):\n",
    "        # display the doc i, if i == None, displays every doc (caped by cap)\n",
    "        if i != None:\n",
    "            doc = self.get(i)\n",
    "            print(doc)\n",
    "        else:\n",
    "            j = 0\n",
    "            for doc in self:\n",
    "                if j >= cap:\n",
    "                    break\n",
    "                print(doc)\n",
    "                print(\"\")\n",
    "                j += 1"
   ]
  },
  {
   "cell_type": "code",
   "execution_count": 268,
   "id": "specific-stanford",
   "metadata": {
    "scrolled": true
   },
   "outputs": [
    {
     "name": "stdout",
     "output_type": "stream",
     "text": [
      "['by', 'william', 'blake']\n",
      "\n",
      "['songs', 'innocence', 'experience', 'book', 'thel']\n",
      "\n",
      "['songs', 'innocence']\n",
      "\n",
      "['introduction', 'piping', 'down', 'valleys', 'wild', 'piping', 'songs', 'pleasant', 'on', 'cloud', 'i', 'saw', 'child', 'he', 'laughing', 'said', 'me', 'pipe', 'song', 'lamb', 'so', 'i', 'piped', 'with', 'merry', 'cheer', 'piper', 'pipe', 'that', 'song', 'again', 'so', 'i', 'piped', 'he', 'wept', 'hear', 'thy', 'pipe', 'thy', 'happy', 'pipe', 'sing', 'thy', 'songs', 'happy', 'cheer', 'so', 'i', 'sang', 'again', 'while', 'he', 'wept', 'with', 'joy', 'hear', 'piper', 'sit', 'thee', 'down', 'book', 'that', 'all', 'may', 'read', 'so', 'he', 'from', 'my', 'sight', 'i', 'hollow', 'i', 'made', 'i', 'water', 'i', 'my', 'happy', 'songs', 'every', 'child', 'may', 'joy', 'hear']\n",
      "\n",
      "['shepherd', 'how', 'sweet', 'is', 'sweet', 'lot', 'from', 'morn', 'evening', 'he', 'he', 'shall', 'follow', 'his', 'sheep', 'all', 'day', 'his', 'tongue', 'shall', 'be', 'filled', 'with', 'praise', 'he', 'hears', 'lambs', 'innocent', 'call', 'he', 'hears', 'tender', 'he', 'is', 'while', 'they', 'are', 'peace', 'they', 'know', 'when', 'their', 'shepherd', 'is', 'nigh']\n",
      "\n",
      "['echoing', 'green', 'sun', 'does', 'arise', 'make', 'happy', 'skies', 'merry', 'bells', 'welcome', 'spring', 'skylark', 'birds', 'sing', 'around', 'bells', 'sound', 'while', 'our', 'sports', 'shall', 'be', 'seen', 'on', 'echoing', 'green', 'old', 'with', 'white', 'hair', 'does', 'laugh', 'away', 'care', 'sitting', 'under', 'among', 'old', 'they', 'laugh', 'at', 'our', 'play', 'soon', 'they', 'all', 'say', 'such', 'such', 'were', 'joys', 'when', 'we', 'all', 'girls', 'boys', 'our', 'were', 'seen', 'on', 'echoing', 'green', 'till', 'little', 'ones', 'weary', 'no', 'more', 'can', 'be', 'merry', 'sun', 'does', 'descend', 'our', 'sports', 'have', 'an', 'end', 'round', 'their', 'mothers', 'many', 'brothers', 'like', 'birds', 'their', 'nest', 'are', 'ready', 'rest', 'sport', 'no', 'more', 'seen', 'on', 'green']\n",
      "\n",
      "['lamb', 'little', 'lamb', 'who', 'make', 'thee', 'dost', 'thou', 'know', 'who', 'made', 'thee', 'gave', 'thee', 'life', 'thee', 'feed', 'by', 'stream', 'oer', 'gave', 'thee', 'clothing', 'delight', 'softest', 'clothing', 'bright', 'gave', 'thee', 'such', 'tender', 'voice', 'making', 'all', 'vales', 'rejoice', 'little', 'lamb', 'who', 'made', 'thee', 'dost', 'thou', 'know', 'who', 'made', 'thee', 'little', 'lamb', 'ill', 'tell', 'thee', 'little', 'lamb', 'ill', 'tell', 'thee', 'he', 'is', 'called', 'by', 'thy', 'name', 'he', 'calls', 'lamb', 'he', 'is', 'meek', 'he', 'is', 'mild', 'he', 'became', 'little', 'child', 'i', 'child', 'thou', 'lamb', 'we', 'are', 'called', 'by', 'his', 'name', 'little', 'lamb', 'god', 'bless', 'thee', 'little', 'lamb', 'god', 'bless', 'thee']\n",
      "\n",
      "['little', 'black', 'boy', 'my', 'mother', 'bore', 'me', 'southern', 'wild', 'i', 'am', 'black', 'but', 'oh', 'my', 'soul', 'is', 'white', 'white', 'as', 'an', 'angel', 'is', 'english', 'child', 'but', 'i', 'am', 'black', 'as', 'if', 'light', 'my', 'mother', 'taught', 'me', 'underneath', 'tree', 'sitting', 'down', 'before', 'heat', 'day', 'she', 'took', 'me', 'on', 'her', 'kissed', 'me', 'began', 'say', 'look', 'on', 'rising', 'sun', 'there', 'god', 'does', 'live', 'gives', 'his', 'light', 'gives', 'his', 'heat', 'away', 'flowers', 'beasts', 'men', 'receive', 'morning', 'joy', 'we', 'are', 'put', 'on', 'earth', 'little', 'that', 'we', 'may', 'bear', 'beams', 'love', 'these', 'black', 'this', 'face', 'is', 'but', 'cloud', 'like', 'grove', 'when', 'our', 'souls', 'have', 'heat', 'bear', 'cloud', 'will', 'vanish', 'we', 'shall', 'hear', 'his', 'voice', 'saying', 'come', 'out', 'from', 'grove', 'my', 'love', 'care', 'round', 'my', 'golden', 'tent', 'like', 'lambs', 'rejoice', 'thus', 'did', 'my', 'mother', 'say', 'kissed', 'me', 'thus', 'i', 'say', 'little', 'english', 'boy', 'when', 'i', 'from', 'black', 'he', 'from', 'white', 'cloud', 'free', 'round', 'tent', 'god', 'like', 'lambs', 'we', 'joy', 'ill', 'shade', 'him', 'from', 'heat', 'till', 'he', 'can', 'bear', 'joy', 'upon', 'our', 'fathers', 'then', 'ill', 'stand', 'his', 'silver', 'hair', 'be', 'like', 'him', 'he', 'will', 'then', 'love', 'me']\n",
      "\n",
      "['blossom', 'merry', 'merry', 'under', 'leaves', 'so', 'green', 'happy', 'blossom', 'sees', 'you', 'as', 'seek', 'your', 'cradle', 'near', 'my', 'bosom', 'pretty', 'pretty', 'robin', 'under', 'leaves', 'so', 'green', 'happy', 'blossom', 'hears', 'you', 'sobbing', 'sobbing', 'pretty', 'pretty', 'robin', 'near', 'my', 'bosom']\n",
      "\n",
      "['when', 'my', 'mother', 'died', 'i', 'was', 'very', 'my', 'father', 'me', 'while', 'yet', 'my', 'tongue', 'could', 'cry', 'weep', 'weep', 'weep', 'weep', 'so', 'your', 'i', 'soot', 'i', 'sleep', 'little', 'tom', 'who', 'when', 'his', 'head', 'that', 'like', 'lambs', 'back', 'was', 'so', 'i', 'said', 'tom', 'never', 'mind', 'it', 'when', 'your', 'bare', 'you', 'know', 'that', 'soot', 'cannot', 'your', 'white', 'hair', 'so', 'he', 'was', 'that', 'very', 'night', 'as', 'tom', 'was', 'he', 'had', 'such', 'sight', 'that', 'thousands', 'were', 'all', 'them', 'up', 'coffins', 'black', 'by', 'came', 'an', 'angel', 'who', 'had', 'bright', 'he', 'coffins', 'let', 'them', 'all', 'free', 'then', 'down', 'green', 'laughing', 'they', 'river', 'shine', 'sun', 'then', 'naked', 'white', 'all', 'their', 'bags', 'they', 'rise', 'upon', 'clouds', 'sport', 'wind', 'angel', 'told', 'tom', 'if', 'hed', 'be', 'boy', 'hed', 'have', 'god', 'his', 'father', 'never', 'want', 'joy', 'so', 'tom', 'we', 'rose', 'dark', 'with', 'our', 'bags', 'our', 'work', 'though', 'morning', 'was', 'cold', 'tom', 'was', 'happy', 'warm', 'so', 'if', 'all', 'do', 'their', 'they', 'not', 'fear', 'harm']\n",
      "\n",
      "['shepherd', 'how', 'sweet', 'is', 'sweet', 'lot', 'from', 'morn', 'evening', 'he', 'he', 'shall', 'follow', 'his', 'sheep', 'all', 'day', 'his', 'tongue', 'shall', 'be', 'filled', 'with', 'praise', 'he', 'hears', 'lambs', 'innocent', 'call', 'he', 'hears', 'tender', 'he', 'is', 'while', 'they', 'are', 'peace', 'they', 'know', 'when', 'their', 'shepherd', 'is', 'nigh']\n",
      "697 64\n",
      "Dictionary(697 unique tokens: ['blake', 'by', 'william', 'book', 'experience']...)\n",
      "[(1, 1), (7, 6), (9, 3), (12, 5), (13, 3), (14, 1), (15, 4), (17, 3), (18, 1), (20, 6), (23, 1), (26, 1), (27, 2), (29, 4), (30, 3), (37, 1), (43, 1), (45, 4), (46, 2), (47, 3), (48, 1), (49, 2), (51, 1), (53, 1), (55, 1), (57, 2), (58, 1), (62, 3), (64, 1), (65, 3), (69, 1), (73, 3), (77, 1), (78, 1), (79, 1), (82, 1), (83, 1), (86, 1), (87, 1), (94, 1), (104, 12), (105, 3), (114, 1), (117, 1), (118, 1), (128, 2), (130, 1), (131, 1), (140, 1), (145, 1), (150, 1), (153, 1), (155, 1), (156, 1), (159, 1), (160, 7), (161, 4), (162, 3), (163, 1), (164, 3), (170, 1), (175, 3), (180, 2), (182, 1), (185, 1), (187, 1), (188, 6), (189, 1), (192, 1), (195, 1), (197, 4), (203, 1), (204, 1), (206, 2), (207, 1), (214, 1), (216, 1), (217, 1), (218, 1), (222, 1), (223, 1), (241, 1), (254, 3), (256, 3), (258, 1), (264, 1), (267, 2), (275, 1), (282, 1), (284, 1), (295, 1), (296, 1), (300, 1), (303, 3), (312, 2), (314, 1), (315, 1), (317, 1), (319, 1), (322, 2), (323, 1), (325, 1), (330, 1), (334, 1), (335, 1), (336, 2), (338, 1), (339, 1), (347, 1), (361, 1), (390, 1), (393, 1), (394, 1), (405, 2), (414, 1), (423, 1), (428, 1), (433, 1), (438, 1), (442, 1), (453, 4), (456, 1), (470, 1), (481, 3), (488, 6), (505, 1), (522, 1), (523, 1), (537, 1), (541, 2), (544, 1), (546, 1), (552, 1), (554, 1), (555, 1), (558, 1), (560, 1), (567, 1), (570, 1), (578, 1), (580, 1), (596, 1), (597, 2), (601, 2), (604, 2), (605, 3), (606, 2), (619, 1), (624, 1), (629, 1), (639, 1), (641, 1), (645, 1), (648, 1), (656, 1), (661, 1), (663, 2), (664, 1), (665, 1), (666, 1), (667, 1), (668, 2), (669, 5), (670, 1), (671, 1), (672, 1), (673, 1), (674, 2), (675, 1), (676, 1), (677, 3), (678, 2)]\n",
      "dwell\n",
      "3\n"
     ]
    }
   ],
   "source": [
    "from gensim import corpora\n",
    "\n",
    "\n",
    "# defining the corpus\n",
    "path = \"/Users/Boulot/nltk_data/corpora/gutenberg/blake-poems_preprocessed.txt\"\n",
    "stoplist = set('for a of the and to in'.split())\n",
    "blek = TokenizedCorpus(path, stoplist)\n",
    "\n",
    "blek.display(None) # the ten first as cap=10 by default\n",
    "blek.display(4) # the fourth element\n",
    "\n",
    "# create frequency dictionary\n",
    "frequency = defaultdict(int)\n",
    "for poem in blek:\n",
    "    for token in poem:\n",
    "        frequency[token] += 1\n",
    "\n",
    "# getting rid of words with frequency = 1\n",
    "# not done yet => do it during the preprocessing\n",
    "\n",
    "\n",
    "\n",
    "dictionary = corpora.Dictionary(blek)\n",
    "bow_corpus = [dictionary.doc2bow(poem) for poem in blek]\n",
    "\n",
    "\n",
    "n_words = len(dictionary)\n",
    "n_docs = len(bow_corpus)\n",
    "\n",
    "print(n_words, n_docs)\n",
    "print(dictionary)\n",
    "print(bow_corpus[57])\n",
    "i = 347\n",
    "print(dictionary[i])\n",
    "print(frequency[dictionary[i]])"
   ]
  },
  {
   "cell_type": "code",
   "execution_count": 269,
   "id": "hollow-hopkins",
   "metadata": {
    "scrolled": true
   },
   "outputs": [
    {
     "name": "stdout",
     "output_type": "stream",
     "text": [
      "[(1, 0.020937002648871654), (7, 0.2097039050393787), (9, 0.050594913882529374), (12, 0.20132367328859715), (13, 0.06568343800198712), (14, 0.03284171900099356), (15, 0.07672142969714377), (17, 0.05754107227285782), (18, 0.030981509284789606), (20, 0.07501173450362913), (23, 0.037385233976390514), (26, 0.04026473465771943), (27, 0.04006853923558352), (29, 0.047866122528491296), (30, 0.046472263927184405), (37, 0.03284171900099356), (43, 0.02643799430939266), (45, 0.06465168448206954), (46, 0.050347675068437195), (47, 0.07201023351869577), (48, 0.043788958667991415), (49, 0.10947239666997853), (51, 0.027812210961174307), (53, 0.010947239666997854), (55, 0.02003426961779176), (57, 0.043788958667991415), (58, 0.04026473465771943), (62, 0.046472263927184405), (64, 0.048332473643388364), (65, 0.046472263927184405), (69, 0.03495065083989645), (73, 0.07931398292817798), (77, 0.03284171900099356), (78, 0.02003426961779176), (79, 0.020937002648871654), (82, 0.03495065083989645), (83, 0.02291377029912068), (86, 0.037385233976390514), (87, 0.020937002648871654), (94, 0.054736198334989265), (104, 0.26273375200794846), (105, 0.04848876336155216), (114, 0.025173837534218597), (117, 0.048332473643388364), (118, 0.03495065083989645), (128, 0.0699013016797929), (130, 0.02931749499072158), (131, 0.025173837534218597), (140, 0.027812210961174307), (145, 0.043788958667991415), (150, 0.03495065083989645), (153, 0.03495065083989645), (155, 0.030981509284789606), (156, 0.048332473643388364), (159, 0.043788958667991415), (160, 0.1762168627395302), (161, 0.16105893863087772), (162, 0.07931398292817798), (163, 0.024003411172898594), (164, 0.08795248497216474), (170, 0.037385233976390514), (175, 0.05754107227285782), (180, 0.06196301856957921), (182, 0.04026473465771943), (185, 0.037385233976390514), (187, 0.054736198334989265), (188, 0.1510430252053116), (189, 0.037385233976390514), (192, 0.030981509284789606), (195, 0.024003411172898594), (197, 0.14954093590556206), (203, 0.043788958667991415), (204, 0.048332473643388364), (206, 0.0699013016797929), (207, 0.048332473643388364), (214, 0.018370255323723727), (216, 0.037385233976390514), (217, 0.02643799430939266), (218, 0.048332473643388364), (222, 0.027812210961174307), (223, 0.048332473643388364), (241, 0.04026473465771943), (254, 0.08795248497216474), (256, 0.06874131089736203), (258, 0.043788958667991415), (264, 0.048332473643388364), (267, 0.05863498998144316), (275, 0.054736198334989265), (282, 0.04026473465771943), (284, 0.043788958667991415), (295, 0.04026473465771943), (296, 0.04026473465771943), (300, 0.048332473643388364), (303, 0.13136687600397423), (312, 0.08757791733598283), (314, 0.054736198334989265), (315, 0.03284171900099356), (317, 0.037385233976390514), (319, 0.054736198334989265), (322, 0.08757791733598283), (323, 0.03495065083989645), (325, 0.048332473643388364), (330, 0.03284171900099356), (334, 0.037385233976390514), (335, 0.043788958667991415), (336, 0.08052946931543886), (338, 0.037385233976390514), (339, 0.043788958667991415), (347, 0.048332473643388364), (361, 0.030981509284789606), (390, 0.048332473643388364), (393, 0.054736198334989265), (394, 0.048332473643388364), (405, 0.08052946931543886), (414, 0.043788958667991415), (423, 0.027812210961174307), (428, 0.027812210961174307), (433, 0.048332473643388364), (438, 0.048332473643388364), (442, 0.030981509284789606), (453, 0.17515583467196566), (456, 0.043788958667991415), (470, 0.054736198334989265), (481, 0.12079420397315829), (488, 0.26273375200794846), (505, 0.043788958667991415), (522, 0.054736198334989265), (523, 0.054736198334989265), (537, 0.04026473465771943), (541, 0.08052946931543886), (544, 0.048332473643388364), (546, 0.037385233976390514), (552, 0.054736198334989265), (554, 0.048332473643388364), (555, 0.043788958667991415), (558, 0.054736198334989265), (560, 0.04026473465771943), (567, 0.054736198334989265), (570, 0.054736198334989265), (578, 0.043788958667991415), (580, 0.043788958667991415), (596, 0.048332473643388364), (597, 0.08052946931543886), (601, 0.09666494728677673), (604, 0.09666494728677673), (605, 0.1642085950049678), (606, 0.09666494728677673), (619, 0.048332473643388364), (624, 0.048332473643388364), (629, 0.054736198334989265), (639, 0.054736198334989265), (641, 0.043788958667991415), (645, 0.054736198334989265), (648, 0.048332473643388364), (656, 0.054736198334989265), (661, 0.054736198334989265), (663, 0.10947239666997853), (664, 0.054736198334989265), (665, 0.054736198334989265), (666, 0.054736198334989265), (667, 0.054736198334989265), (668, 0.09666494728677673), (669, 0.3284171900099356), (670, 0.043788958667991415), (671, 0.054736198334989265), (672, 0.048332473643388364), (673, 0.054736198334989265), (674, 0.10947239666997853), (675, 0.054736198334989265), (676, 0.054736198334989265), (677, 0.1642085950049678), (678, 0.13136687600397423)]\n"
     ]
    }
   ],
   "source": [
    "## tf-idf\n",
    "from gensim import models\n",
    "\n",
    "tfidf = models.TfidfModel(bow_corpus)\n",
    "\n",
    "tfidf_corpus = tfidf[bow_corpus]\n",
    "print(tfidf_corpus[57])"
   ]
  },
  {
   "cell_type": "code",
   "execution_count": 270,
   "id": "brazilian-hostel",
   "metadata": {
    "scrolled": true
   },
   "outputs": [
    {
     "name": "stdout",
     "output_type": "stream",
     "text": [
      "shepherd\n",
      "humble\n",
      "0.37367126\n",
      "['shepherd', 'how', 'sweet', 'is', 'sweet', 'lot', 'from', 'morn', 'evening', 'he', 'he', 'shall', 'follow', 'his', 'sheep', 'all', 'day', 'his', 'tongue', 'shall', 'be', 'filled', 'with', 'praise', 'he', 'hears', 'lambs', 'innocent', 'call', 'he', 'hears', 'tender', 'he', 'is', 'while', 'they', 'are', 'peace', 'they', 'know', 'when', 'their', 'shepherd', 'is', 'nigh']\n",
      "0.12251365\n",
      "['lily', 'modest', 'rose', 'forth', 'thorn', 'humble', 'sheep', 'horn', 'while', 'lily', 'white', 'shall', 'love', 'delight', 'nor', 'thorn', 'nor', 'her', 'beauty', 'bright']\n",
      "0.057290953\n",
      "['thel', 'i', 'led', 'round', 'their', 'sunny', 'flocks', 'all', 'but', 'she', 'sought', 'secret', 'air', 'fade', 'away', 'like', 'morning', 'beauty', 'from', 'her', 'mortal', 'day', 'down', 'by', 'river', 'her', 'soft', 'voice', 'is', 'heard', 'thus', 'her', 'gentle', 'like', 'morning', 'dew', 'o', 'life', 'this', 'our', 'spring', 'why', 'fades', 'water', 'why', 'fade', 'these', 'children', 'spring', 'born', 'but', 'smile', 'fall', 'ah', 'thel', 'is', 'like', 'watry', 'like', 'cloud', 'like', 'like', 'shadows', 'water', 'like', 'dreams', 'infants', 'like', 'smile', 'upon', 'an', 'infants', 'face', 'like', 'voice', 'like', 'day', 'like', 'air', 'ah', 'gentle', 'may', 'i', 'lay', 'me', 'down', 'gentle', 'rest', 'my', 'head', 'gentle', 'sleep', 'sleep', 'death', 'hear', 'voice', 'him', 'that', 'garden', 'evening', 'time', 'valley', 'humble', 'grass', 'answerd', 'lovely', 'maid', 'said', 'i', 'am', 'watry', 'i', 'am', 'very', 'small', 'love', 'dwell', 'lowly', 'vales', 'so', 'weak', 'on', 'my', 'head', 'yet', 'i', 'am', 'from', 'heaven', 'he', 'that', 'smiles', 'on', 'all', 'valley', 'each', 'morn', 'over', 'me', 'spreads', 'his', 'hand', 'saying', 'rejoice', 'thou', 'humble', 'grass', 'thou', 'newborn', 'lily', 'flower', 'thou', 'gentle', 'maid', 'silent', 'valleys', 'modest', 'thou', 'shall', 'be', 'clothed', 'light', 'fed', 'with', 'morning', 'till', 'summers', 'heat', 'thee', 'beside', 'springs', 'eternal', 'vales', 'they', 'why', 'should', 'thel', 'complain', 'why', 'should', 'vales', 'har', 'sigh', 'she', 'tears', 'then', 'sat', 'down', 'her', 'silver', 'thel', 'answerd', 'o', 'thou', 'little', 'virgin', 'valley', 'that', 'cannot', 'oer', 'tired', 'breath', 'doth', 'innocent', 'lamb', 'he', 'milky', 'he', 'thy', 'flowers', 'while', 'thou', 'his', 'face', 'wiping', 'his', 'mild', 'from', 'all', 'thy', 'doth', 'golden', 'honey', 'thy', 'thou', 'dost', 'on', 'every', 'little', 'grass', 'that', 'springs', 'but', 'thel', 'is', 'like', 'cloud', 'at', 'rising', 'sun', 'i', 'vanish', 'from', 'my', 'throne', 'who', 'shall', 'find', 'my', 'place', 'queen', 'vales', 'lily', 'answered', 'ask', 'tender', 'cloud', 'it', 'shall', 'tell', 'thee', 'why', 'it', 'morning', 'sky', 'why', 'it', 'its', 'bright', 'beauty', 'thro', 'air', 'descend', 'o', 'little', 'cloud', 'hover', 'before', 'eyes', 'thel', 'cloud', 'lily', 'bowd', 'her', 'modest', 'head', 'went', 'mind', 'her', 'charge', 'among', 'grass']\n",
      "0.03359889\n",
      "['then', 'thel', 'worm', 'upon', 'its', 'dewy', 'bed', 'art', 'thou', 'worm', 'image', 'weakness', 'art', 'thou', 'but', 'worm', 'i', 'see', 'thee', 'like', 'an', 'infant', 'lillys', 'leaf', 'ah', 'weep', 'not', 'little', 'voice', 'thou', 'canst', 'not', 'speak', 'but', 'thou', 'canst', 'weep', 'is', 'this', 'worm', 'i', 'see', 'they', 'lay', 'helpless', 'naked', 'weeping', 'none', 'answer', 'none', 'cherish', 'thee', 'with', 'mothers', 'smiles', 'clod', 'clay', 'heard', 'worms', 'voice', 'her', 'pitying', 'head', 'she', 'bowd', 'over', 'weeping', 'infant', 'her', 'life', 'milky', 'then', 'on', 'thel', 'she', 'her', 'humble', 'eyes', 'o', 'beauty', 'vales', 'har', 'we', 'live', 'not', 'thou', 'me', 'thing', 'so', 'i', 'am', 'my', 'bosom', 'itself', 'is', 'cold', 'itself', 'is', 'dark', 'but', 'he', 'that', 'loves', 'lowly', 'his', 'oil', 'upon', 'my', 'head', 'kisses', 'me', 'his', 'around', 'my', 'breast', 'thou', 'mother', 'my', 'children', 'i', 'have', 'thee', 'i', 'have', 'given', 'thee', 'crown', 'that', 'none', 'can', 'take', 'away', 'but', 'how', 'this', 'is', 'sweet', 'maid', 'i', 'know', 'not', 'i', 'cannot', 'know', 'i', 'ponder', 'i', 'cannot', 'ponder', 'yet', 'i', 'live', 'love', 'beauty', 'her', 'pitying', 'tears', 'with', 'her', 'white', 'said', 'i', 'knew', 'not', 'this', 'therefore', 'did', 'i', 'weep', 'that', 'god', 'would', 'love', 'worm', 'i', 'knew', 'foot', 'that', 'its', 'helpless', 'form', 'but', 'that', 'he', 'it', 'with', 'oil', 'i', 'never', 'knew', 'therefore', 'did', 'i', 'weep', 'i', 'mild', 'air', 'because', 'i', 'fade', 'away', 'lay', 'me', 'down', 'thy', 'cold', 'bed', 'leave', 'my', 'shining', 'lot', 'queen', 'vales', 'clay', 'answered', 'i', 'heard', 'thy', 'sighs', 'all', 'thy', 'moans', 'flew', 'oer', 'my', 'but', 'i', 'have', 'them', 'down', 'wilt', 'thou', 'o', 'queen', 'enter', 'my', 'given', 'thee', 'enter', 'return', 'fear', 'nothing', 'enter', 'with', 'thy', 'virgin', 'feet']\n"
     ]
    }
   ],
   "source": [
    "# similarity\n",
    "from gensim import similarities\n",
    "\n",
    "index = similarities.Similarity(None, tfidf_corpus, n_words)\n",
    "\n",
    "sentence = \"The shepherd stays humble\".lower().split()\n",
    "bow_sentence = dictionary.doc2bow(sentence)\n",
    "tfidf_sentence = tfidf[bow_sentence]\n",
    "\n",
    "for (word_id, count) in bow_sentence:\n",
    "    print(dictionary[word_id])\n",
    "\n",
    "sims = index[tfidf_sentence]\n",
    "for ind, sim in enumerate(sims):\n",
    "    if sim > 0:\n",
    "        print(sim)\n",
    "        blek.display(ind)"
   ]
  },
  {
   "cell_type": "code",
   "execution_count": 271,
   "id": "living-virus",
   "metadata": {
    "scrolled": true
   },
   "outputs": [
    {
     "name": "stdout",
     "output_type": "stream",
     "text": [
      "0 0.0\n",
      "1 0.0\n",
      "2 0.0\n",
      "3 0.0606424\n",
      "4 1.0000001\n",
      "5 0.049167022\n",
      "6 0.0848001\n",
      "7 0.09171728\n",
      "8 0.039344303\n",
      "9 0.09509425\n",
      "10 0.031718038\n",
      "11 0.078221545\n",
      "12 0.081221506\n",
      "13 0.110544555\n",
      "14 0.067438565\n",
      "15 0.10054423\n",
      "16 0.101588465\n",
      "17 0.07076665\n",
      "18 0.010695553\n",
      "19 0.06708874\n",
      "20 0.116916604\n",
      "21 0.074503176\n",
      "22 0.10441844\n",
      "23 0.0\n",
      "24 0.05040294\n",
      "25 0.005715925\n",
      "26 0.009046076\n",
      "27 0.0010536622\n",
      "28 0.063303195\n",
      "29 0.065771334\n",
      "30 0.15659653\n",
      "31 0.07951826\n",
      "32 0.042688463\n",
      "33 0.007608851\n",
      "34 0.030463643\n",
      "35 0.08499956\n",
      "36 0.03633574\n",
      "37 0.019500798\n",
      "38 0.03433485\n",
      "39 0.061760068\n",
      "40 0.05546757\n",
      "41 0.047544166\n",
      "42 0.017341038\n",
      "43 0.082638755\n",
      "44 0.0\n",
      "45 0.026236866\n",
      "46 0.0926003\n",
      "47 0.08034138\n",
      "48 0.12031346\n",
      "49 0.0610744\n",
      "50 0.11965755\n",
      "51 0.0\n",
      "52 0.0052366997\n",
      "53 0.0\n",
      "54 0.0\n",
      "55 0.049948364\n",
      "56 0.0\n",
      "57 0.0897918\n",
      "58 0.0\n",
      "59 0.08574817\n",
      "60 0.0\n",
      "61 0.068510294\n",
      "62 0.0\n",
      "63 0.030239183\n"
     ]
    }
   ],
   "source": [
    "# similarity between texts\n",
    "from gensim import similarities\n",
    "\n",
    "index = similarities.Similarity(None, tfidf_corpus, n_words)\n",
    "\n",
    "doc = blek.get(4)\n",
    "bow_doc = dictionary.doc2bow(doc)\n",
    "tfidf_doc = tfidf[bow_doc]\n",
    "\n",
    "sims = index[tfidf_doc]\n",
    "for ind, sim in enumerate(sims):\n",
    "    print(ind, sim)"
   ]
  },
  {
   "cell_type": "code",
   "execution_count": 260,
   "id": "interracial-valentine",
   "metadata": {},
   "outputs": [],
   "source": [
    "def get_component(tfidf_doc, i):\n",
    "    # sparse representation supposed for tfidf_doc\n",
    "    for (j, score) in tfidf_doc:\n",
    "        if j == i:\n",
    "            return score\n",
    "    return 0"
   ]
  },
  {
   "cell_type": "code",
   "execution_count": 262,
   "id": "electronic-yield",
   "metadata": {
    "scrolled": true
   },
   "outputs": [
    {
     "name": "stdout",
     "output_type": "stream",
     "text": [
      "379 flew\n",
      "131 little\n",
      "23\n"
     ]
    },
    {
     "data": {
      "image/png": "[encoded data removed]",
      "text/plain": [
       "<Figure size 432x288 with 1 Axes>"
      ]
     },
     "metadata": {
      "needs_background": "light"
     },
     "output_type": "display_data"
    },
    {
     "data": {
      "image/png": "[encoded data removed]",
      "text/plain": [
       "<Figure size 432x288 with 1 Axes>"
      ]
     },
     "metadata": {
      "needs_background": "light"
     },
     "output_type": "display_data"
    }
   ],
   "source": [
    "# ploting docs in a subspace of the wordspace\n",
    "from numpy import random as rd\n",
    "import matplotlib.pyplot as plt\n",
    "\n",
    "\n",
    "# subspace generated by two random words\n",
    "#w1, w2 = rd.randint(0, n_words, 2)\n",
    "print(w1, dictionary[w1])\n",
    "print(w2, dictionary[w2])\n",
    "\n",
    "x1 = []\n",
    "x2 = []\n",
    "for doc in tfidf_corpus:\n",
    "    c1 = get_component(doc, w1)\n",
    "    c2 = get_component(doc, w2)\n",
    "    if (c1, c2) != (0,0):\n",
    "        x1.append(c1)\n",
    "        x2.append(c2)\n",
    "\n",
    "print(len(x1))\n",
    "\n",
    "plt.plot(x1, x2, 'b+')\n",
    "plt.show()\n",
    "\n",
    "\n",
    "# using LSI\n",
    "\n",
    "lsi_model = models.LsiModel(tfidf_corpus, id2word=dictionary, num_topics=2)\n",
    "lsi_corpus = lsi_model[tfidf_corpus]\n",
    "\n",
    "X = [(doc[0][1], doc[1][1]) for doc in lsi_corpus]\n",
    "plt.plot(X, 'r+')\n",
    "plt.show()"
   ]
  },
  {
   "cell_type": "code",
   "execution_count": 18,
   "id": "earned-assembly",
   "metadata": {},
   "outputs": [
    {
     "data": {
      "text/plain": [
       "100"
      ]
     },
     "execution_count": 18,
     "metadata": {},
     "output_type": "execute_result"
    }
   ],
   "source": [
    "### Word2Vec\n",
    "\n",
    "from gensim.test.utils import common_texts\n",
    "from gensim.models import Word2Vec\n",
    "\n",
    "#print(common_texts)\n",
    "\n",
    "model = Word2Vec(sentences=common_texts, window=5,\n",
    "                min_count=1, workers=4)\n",
    "model.save(\"word2vec.model\")\n",
    "model.vector_size # mais quel fdp"
   ]
  },
  {
   "cell_type": "code",
   "execution_count": 21,
   "id": "transsexual-phrase",
   "metadata": {},
   "outputs": [
    {
     "data": {
      "text/plain": [
       "(0, 3)"
      ]
     },
     "execution_count": 21,
     "metadata": {},
     "output_type": "execute_result"
    }
   ],
   "source": [
    "model.train([[\"hello\", \"world\"]], total_examples=1, epochs=1)"
   ]
  },
  {
   "cell_type": "code",
   "execution_count": 30,
   "id": "fiscal-trinidad",
   "metadata": {
    "scrolled": true
   },
   "outputs": [
    {
     "name": "stdout",
     "output_type": "stream",
     "text": [
      "[ 2.5743213e-03 -3.1757259e-03 -3.8374278e-03  1.5507556e-03\n",
      "  6.4108812e-04  1.7148728e-03 -1.9206967e-04 -3.2420915e-03\n",
      "  3.6351059e-03  1.5639565e-03  2.6636592e-03 -9.4849005e-04\n",
      "  4.0578973e-03  3.4028683e-03 -4.7345264e-03  7.8193651e-04\n",
      "  2.5676009e-03 -5.8642740e-04  3.8515439e-03 -2.7970613e-03\n",
      " -3.1271391e-03 -4.1154246e-03 -2.5386242e-03  4.0929983e-03\n",
      " -2.6059090e-03 -4.5898478e-03 -4.2183897e-03  4.3383581e-03\n",
      " -9.9987548e-04  3.9746449e-03 -1.8275446e-03 -4.9976218e-03\n",
      " -3.4079268e-03  3.1054837e-03  3.5185162e-03 -2.5241575e-03\n",
      "  1.5237235e-03 -3.9041613e-03 -4.2068758e-03 -4.0560979e-03\n",
      "  1.1805405e-03 -2.8751926e-03 -3.5831386e-03  1.3338398e-03\n",
      "  3.7080343e-03  4.5879721e-03  3.5969331e-03  2.3906520e-03\n",
      "  1.7619601e-03  6.6102674e-04 -3.4687323e-03 -4.3703690e-03\n",
      "  2.2459121e-03  4.3088277e-03 -2.9605956e-04 -3.6732343e-03\n",
      " -7.8329474e-05 -1.5894239e-03  1.7832357e-03 -1.1443011e-03\n",
      " -4.3626134e-03 -3.3613929e-04  1.3246055e-03  1.3056709e-03\n",
      " -9.1148767e-04 -1.1831829e-03 -4.3346612e-03 -1.5969413e-03\n",
      "  1.4838455e-03  3.6269375e-03 -4.0306305e-03 -3.0566500e-03\n",
      "  2.5144992e-03  4.3338551e-03  4.1294927e-03 -1.4362353e-04\n",
      " -2.4189746e-03  7.7012676e-04  2.5137316e-03  3.1283249e-03\n",
      " -4.9166176e-03  4.6657734e-03 -4.0976931e-03  3.0814670e-04\n",
      "  4.9009356e-03 -3.9510187e-03  2.5384135e-03 -6.2085234e-04\n",
      " -1.5903091e-03  4.7750231e-03  9.2746824e-04 -1.8748197e-04\n",
      "  1.6057893e-03  1.9291375e-03 -1.3190855e-03 -2.2806865e-03\n",
      " -4.8666764e-03 -1.1344426e-03  1.8314000e-03 -9.0898911e-04]\n",
      "[ 2.6790404e-03 -4.2252470e-04 -2.2790541e-03 -2.5259331e-03\n",
      " -1.5903281e-03  3.6905548e-03  4.7680354e-03 -2.1649653e-03\n",
      "  3.7604643e-03 -9.9700247e-04  1.1354326e-03 -4.5760474e-03\n",
      "  8.8307151e-04 -3.2005927e-03 -3.6253342e-03  1.6454898e-03\n",
      "  2.6503669e-03 -4.7554481e-03 -3.4742616e-03 -1.0329147e-03\n",
      " -1.3959502e-03  3.9595208e-04 -4.7089318e-03  1.3593064e-03\n",
      "  2.1188008e-03 -4.6940139e-03  6.2282517e-04 -1.6799693e-03\n",
      " -1.3359939e-03 -3.4343367e-04  2.5680412e-03  3.2882190e-03\n",
      "  4.0722331e-03  4.7949096e-04 -3.2667507e-04 -3.4660830e-03\n",
      "  8.9322706e-04 -2.4485418e-03  2.2753335e-03  2.3179161e-03\n",
      " -4.9014282e-03  3.7679132e-03 -2.1361776e-03  6.4179290e-04\n",
      " -2.9262668e-03  4.2805588e-03  2.2701984e-03 -3.7303101e-03\n",
      "  4.8147226e-03  9.3723682e-04 -2.1266737e-03 -3.5020299e-03\n",
      "  4.3587890e-03 -4.4890190e-03 -1.9635248e-04 -3.8755226e-03\n",
      "  7.5773445e-05  3.6069404e-03  6.8501174e-04  5.5903028e-04\n",
      "  2.9148848e-03  4.9224868e-03 -4.5389389e-03  2.6870342e-03\n",
      "  2.3344681e-03  3.3270337e-03  1.2482419e-03  3.2387124e-03\n",
      " -6.5517286e-04  9.9943997e-04  1.5772423e-03 -8.6984533e-04\n",
      "  4.3386342e-03  2.7916692e-03  6.5319566e-04 -4.7463127e-03\n",
      " -1.5394904e-03 -1.9081009e-03  3.8869902e-03 -4.2508561e-03\n",
      "  4.6818312e-03 -2.9796974e-03 -4.2701615e-03 -2.5575799e-03\n",
      " -4.2652017e-03  2.3271148e-03  3.4131187e-03 -2.5048407e-04\n",
      " -4.6426523e-03 -7.4856589e-04  4.6354355e-03  3.4130407e-03\n",
      "  4.6444223e-03 -7.8810658e-04 -2.8721115e-03 -3.8349077e-03\n",
      " -3.3071674e-03 -3.8058853e-03 -1.0678090e-04 -1.3346205e-03]\n"
     ]
    },
    {
     "data": {
      "text/plain": [
       "[('system', 0.22482100129127502),\n",
       " ('human', 0.08348163962364197),\n",
       " ('minors', 0.07421281933784485),\n",
       " ('graph', 0.06919119507074356),\n",
       " ('eps', -0.03306104242801666),\n",
       " ('trees', -0.03586779534816742),\n",
       " ('time', -0.039178527891635895),\n",
       " ('interface', -0.07458487153053284),\n",
       " ('survey', -0.09920290112495422),\n",
       " ('user', -0.11608728766441345)]"
      ]
     },
     "execution_count": 30,
     "metadata": {},
     "output_type": "execute_result"
    }
   ],
   "source": [
    "vector = model.wv['computer']\n",
    "print(vector)\n",
    "\n",
    "human = model.wv['human'] # human is in common_texts\n",
    "print(human)\n",
    "\n",
    "sims = model.wv.most_similar('computer', topn=10)\n",
    "sims"
   ]
  },
  {
   "cell_type": "code",
   "execution_count": 41,
   "id": "painted-stocks",
   "metadata": {
    "scrolled": true
   },
   "outputs": [
    {
     "data": {
      "text/plain": [
       "array([ 2.5743213e-03, -3.1757259e-03, -3.8374278e-03,  1.5507556e-03,\n",
       "        6.4108812e-04,  1.7148728e-03, -1.9206967e-04, -3.2420915e-03,\n",
       "        3.6351059e-03,  1.5639565e-03,  2.6636592e-03, -9.4849005e-04,\n",
       "        4.0578973e-03,  3.4028683e-03, -4.7345264e-03,  7.8193651e-04,\n",
       "        2.5676009e-03, -5.8642740e-04,  3.8515439e-03, -2.7970613e-03,\n",
       "       -3.1271391e-03, -4.1154246e-03, -2.5386242e-03,  4.0929983e-03,\n",
       "       -2.6059090e-03, -4.5898478e-03, -4.2183897e-03,  4.3383581e-03,\n",
       "       -9.9987548e-04,  3.9746449e-03, -1.8275446e-03, -4.9976218e-03,\n",
       "       -3.4079268e-03,  3.1054837e-03,  3.5185162e-03, -2.5241575e-03,\n",
       "        1.5237235e-03, -3.9041613e-03, -4.2068758e-03, -4.0560979e-03,\n",
       "        1.1805405e-03, -2.8751926e-03, -3.5831386e-03,  1.3338398e-03,\n",
       "        3.7080343e-03,  4.5879721e-03,  3.5969331e-03,  2.3906520e-03,\n",
       "        1.7619601e-03,  6.6102674e-04, -3.4687323e-03, -4.3703690e-03,\n",
       "        2.2459121e-03,  4.3088277e-03, -2.9605956e-04, -3.6732343e-03,\n",
       "       -7.8329474e-05, -1.5894239e-03,  1.7832357e-03, -1.1443011e-03,\n",
       "       -4.3626134e-03, -3.3613929e-04,  1.3246055e-03,  1.3056709e-03,\n",
       "       -9.1148767e-04, -1.1831829e-03, -4.3346612e-03, -1.5969413e-03,\n",
       "        1.4838455e-03,  3.6269375e-03, -4.0306305e-03, -3.0566500e-03,\n",
       "        2.5144992e-03,  4.3338551e-03,  4.1294927e-03, -1.4362353e-04,\n",
       "       -2.4189746e-03,  7.7012676e-04,  2.5137316e-03,  3.1283249e-03,\n",
       "       -4.9166176e-03,  4.6657734e-03, -4.0976931e-03,  3.0814670e-04,\n",
       "        4.9009356e-03, -3.9510187e-03,  2.5384135e-03, -6.2085234e-04,\n",
       "       -1.5903091e-03,  4.7750231e-03,  9.2746824e-04, -1.8748197e-04,\n",
       "        1.6057893e-03,  1.9291375e-03, -1.3190855e-03, -2.2806865e-03,\n",
       "       -4.8666764e-03, -1.1344426e-03,  1.8314000e-03, -9.0898911e-04],\n",
       "      dtype=float32)"
      ]
     },
     "execution_count": 41,
     "metadata": {},
     "output_type": "execute_result"
    }
   ],
   "source": [
    "from gensim.models import KeyedVectors\n",
    "\n",
    "# Store just the words + their trained embeddings\n",
    "word_vectors = model.wv\n",
    "word_vectors.save(\"word2vec.wordvectors\")\n",
    "\n",
    "# Load back with memory-mapping = read-only, shared across processes.\n",
    "wv = KeyedVectors.load('word2vec.wordvectors', mmap='r')\n",
    "\n",
    "wv['computer']"
   ]
  },
  {
   "cell_type": "code",
   "execution_count": 46,
   "id": "forward-buddy",
   "metadata": {},
   "outputs": [
    {
     "name": "stdout",
     "output_type": "stream",
     "text": [
      "human\n",
      "interface\n",
      "computer\n",
      "survey\n",
      "user\n",
      "system\n",
      "response\n",
      "time\n",
      "eps\n",
      "trees\n",
      "graph\n",
      "minors\n"
     ]
    }
   ],
   "source": [
    "for word in model.wv.vocab:\n",
    "    print(word)"
   ]
  }
 ],
 "metadata": {
  "kernelspec": {
   "display_name": "Python 3",
   "language": "python",
   "name": "python3"
  },
  "language_info": {
   "codemirror_mode": {
    "name": "ipython",
    "version": 3
   },
   "file_extension": ".py",
   "mimetype": "text/x-python",
   "name": "python",
   "nbconvert_exporter": "python",
   "pygments_lexer": "ipython3",
   "version": "3.8.3"
  }
 },
 "nbformat": 4,
 "nbformat_minor": 5
}
