{
 "cells": [
  {
   "cell_type": "code",
   "execution_count": null,
   "metadata": {
    "ExecuteTime": {
     "start_time": "2019-04-12T11:00:17.098Z"
    }
   },
   "outputs": [],
   "source": [
    "\n",
    "import os\n",
    "os._exit(00)\n"
   ]
  },
  {
   "cell_type": "code",
   "execution_count": 1,
   "metadata": {
    "ExecuteTime": {
     "end_time": "2019-04-25T05:32:36.368354Z",
     "start_time": "2019-04-25T05:32:36.083282Z"
    }
   },
   "outputs": [
    {
     "name": "stderr",
     "output_type": "stream",
     "text": [
      "/Users/au625741/Documents/git/nlp4all/nlp4all/lib/python3.7/site-packages/flask_sqlalchemy/__init__.py:794: FSADeprecationWarning: SQLALCHEMY_TRACK_MODIFICATIONS adds significant overhead and will be disabled by default in the future.  Set it to True or False to suppress this warning.\n",
      "  'SQLALCHEMY_TRACK_MODIFICATIONS adds significant overhead and '\n"
     ]
    }
   ],
   "source": [
    "from nlp4all.models import TweetTagCategory, Tweet, User, Organization, Project, BayesianAnalysis\n",
    "from nlp4all import db, bcrypt\n",
    "import json\n",
    "from datetime import datetime\n",
    "import time\n",
    "import json\n",
    "\n"
   ]
  },
  {
   "cell_type": "code",
   "execution_count": 26,
   "metadata": {
    "ExecuteTime": {
     "end_time": "2019-04-25T05:41:05.703851Z",
     "start_time": "2019-04-25T05:41:05.698459Z"
    }
   },
   "outputs": [
    {
     "data": {
      "text/plain": [
       "['danskdf1995',\n",
       " 'sfpolitik',\n",
       " 'enhedslisten',\n",
       " 'konservativedk',\n",
       " 'Spolitik',\n",
       " 'nyeborgerlige',\n",
       " 'liberalalliance',\n",
       " 'radikale',\n",
       " 'venstredk',\n",
       " 'alternativet']"
      ]
     },
     "execution_count": 26,
     "metadata": {},
     "output_type": "execute_result"
    }
   ],
   "source": [
    "[t.name for t  in TweetTagCategory.query.all()]"
   ]
  },
  {
   "cell_type": "code",
   "execution_count": 7,
   "metadata": {
    "ExecuteTime": {
     "end_time": "2019-04-25T05:33:51.689032Z",
     "start_time": "2019-04-25T05:33:51.684399Z"
    }
   },
   "outputs": [],
   "source": [
    "\n",
    "org = Organization.query.first()\n",
    "org.categories = TweetTagCategory.query.all()[:3]"
   ]
  },
  {
   "cell_type": "code",
   "execution_count": 21,
   "metadata": {
    "ExecuteTime": {
     "end_time": "2019-04-25T05:39:15.088786Z",
     "start_time": "2019-04-25T05:39:15.082111Z"
    }
   },
   "outputs": [],
   "source": [
    "project = Project.query.first()\n",
    "project.categories = TweetTagCategory.query.all()[:3]\n",
    "# user = User(name=\"ahjorth\", password=bcrypt.generate_password_hash(\"***REMOVED***\"), email=\"arthur@cs.au.dk\")\n",
    "# db.session.add(user)"
   ]
  },
  {
   "cell_type": "code",
   "execution_count": 23,
   "metadata": {
    "ExecuteTime": {
     "end_time": "2019-04-25T05:39:35.260559Z",
     "start_time": "2019-04-25T05:39:35.254421Z"
    }
   },
   "outputs": [],
   "source": [
    "db.session.add(project)\n",
    "db.session.commit()\n",
    "\n",
    "# db.session.add(org)\n",
    "# db.session.commit()\n",
    "# user = User(username=\"ahjorth\", organization=1, password=bcrypt.generate_password_hash(\"***REMOVED***\"), email=\"arthur@cs.au.dk\")\n",
    "# db.session.add(user)\n",
    "# db.session.commit()\n",
    "\n",
    "# user = User(username=\"ahjorth2\", organization=1, password=bcrypt.generate_password_hash(\"***REMOVED***\"), email=\"arthur.hjorth@u.northwestern.edu\")\n",
    "# db.session.add(user)\n",
    "# db.session.commit()\n"
   ]
  },
  {
   "cell_type": "code",
   "execution_count": 24,
   "metadata": {
    "ExecuteTime": {
     "end_time": "2019-04-25T05:39:52.047810Z",
     "start_time": "2019-04-25T05:39:52.041739Z"
    }
   },
   "outputs": [
    {
     "data": {
      "text/plain": [
       "[<TweetTagCategory 1>, <TweetTagCategory 2>, <TweetTagCategory 3>]"
      ]
     },
     "execution_count": 24,
     "metadata": {},
     "output_type": "execute_result"
    }
   ],
   "source": [
    "project2 = Project.query.first()\n",
    "project2.categories"
   ]
  },
  {
   "cell_type": "code",
   "execution_count": 12,
   "metadata": {
    "ExecuteTime": {
     "end_time": "2019-04-25T05:35:39.618328Z",
     "start_time": "2019-04-25T05:35:39.609724Z"
    }
   },
   "outputs": [
    {
     "ename": "AttributeError",
     "evalue": "'TweetTagCategory' object has no attribute 'categories'",
     "output_type": "error",
     "traceback": [
      "\u001b[0;31m---------------------------------------------------------------------------\u001b[0m",
      "\u001b[0;31mAttributeError\u001b[0m                            Traceback (most recent call last)",
      "\u001b[0;32m<ipython-input-12-32b443bced8a>\u001b[0m in \u001b[0;36m<module>\u001b[0;34m\u001b[0m\n\u001b[0;32m----> 1\u001b[0;31m \u001b[0mTweetTagCategory\u001b[0m\u001b[0;34m.\u001b[0m\u001b[0mquery\u001b[0m\u001b[0;34m.\u001b[0m\u001b[0mfirst\u001b[0m\u001b[0;34m(\u001b[0m\u001b[0;34m)\u001b[0m\u001b[0;34m.\u001b[0m\u001b[0mcategories\u001b[0m\u001b[0;34m\u001b[0m\u001b[0;34m\u001b[0m\u001b[0m\n\u001b[0m",
      "\u001b[0;31mAttributeError\u001b[0m: 'TweetTagCategory' object has no attribute 'categories'"
     ]
    }
   ],
   "source": [
    "TweetTagCategory.query.first().categories"
   ]
  },
  {
   "cell_type": "code",
   "execution_count": null,
   "metadata": {},
   "outputs": [],
   "source": []
  },
  {
   "cell_type": "code",
   "execution_count": 4,
   "metadata": {
    "ExecuteTime": {
     "end_time": "2019-04-09T10:35:30.438529Z",
     "start_time": "2019-04-09T10:35:30.427577Z"
    }
   },
   "outputs": [
    {
     "data": {
      "text/plain": [
       "[]"
      ]
     },
     "execution_count": 4,
     "metadata": {},
     "output_type": "execute_result"
    }
   ],
   "source": [
    "Tweet.query.all()"
   ]
  },
  {
   "cell_type": "code",
   "execution_count": 5,
   "metadata": {
    "ExecuteTime": {
     "end_time": "2019-04-09T10:26:16.495823Z",
     "start_time": "2019-04-09T10:26:16.493483Z"
    }
   },
   "outputs": [],
   "source": [
    "# d ={'a' : 3, 'b' : 2}\n",
    "# json.dumps(d)\n",
    "# bm = BayesianAnalysis(data=json.dumps(d))\n",
    "# db.session.add(bm)\n",
    "# db.session.commit()\n",
    "# for b in BayesianModel.query.all():\n",
    "#     print(b.data)\n"
   ]
  },
  {
   "cell_type": "code",
   "execution_count": 6,
   "metadata": {
    "ExecuteTime": {
     "end_time": "2019-04-09T10:37:35.780660Z",
     "start_time": "2019-04-09T10:37:10.879073Z"
    }
   },
   "outputs": [],
   "source": [
    "# this script will import tweets. it takes a list of dictionaries, and puts them\n",
    "# in the database with the following mappings:\n",
    "## TweetTagDescription\n",
    "## name = input.twitter_handle\n",
    "## text = input.full_text\n",
    "\n",
    "## Tweet\n",
    "## content = input.full_text\n",
    "## twitter_handle = input.handle\n",
    "## url = input.id  (look below for processing)\n",
    "## date_posted = input.created_at (look below for processing)\n",
    "## true_tag = TweetTagDescription(input.twitter_handle)\n",
    "from nlp4all.models import TweetTagCategory, Tweet, User, Organization, Project, BayesianAnalysis\n",
    "from nlp4all import db, bcrypt\n",
    "import json\n",
    "from datetime import datetime\n",
    "import time\n",
    "import json\n",
    "\n",
    "\n",
    "import os\n",
    "\n",
    "db.drop_all()\n",
    "db.create_all()\n",
    "\n",
    "\n",
    "data_dir = 'tweet_data/'\n",
    "files = [f for f in os.listdir(data_dir) if '_out.json' in f]\n",
    "\n",
    "existing_tag_names = []\n",
    "for f in files:\n",
    "    with open(data_dir+f) as inf:\n",
    "        counter = 0\n",
    "        for line in inf.readlines()[:25]:\n",
    "            indict = json.loads(line)\n",
    "#             add cateogyr if it does not already exist\n",
    "            if indict['twitter_handle'] not in existing_tag_names:\n",
    "                category = TweetTagCategory.query.filter_by(name = indict['twitter_handle']).first()\n",
    "                if not category:\n",
    "                    category = TweetTagCategory(name = indict['twitter_handle'], description = \"Tweet from \" + indict['twitter_handle'])\n",
    "                    db.session.add(category)\n",
    "                    db.session.commit()\n",
    "                existing_tag_names.append(indict['twitter_handle'])\n",
    "            category = TweetTagCategory.query.filter_by(name = indict['twitter_handle']).first()\n",
    "            date_str = indict['time']\n",
    "            date_rep = '%a %b %d %H:%M:%S %z %Y'\n",
    "            unix_time = time.mktime(datetime.strptime(date_str, date_rep).timetuple())\n",
    "            timestamp = datetime.fromtimestamp(unix_time)\n",
    "            a_tweet = Tweet(\n",
    "                time_posted = timestamp,\n",
    "                category = category.id,\n",
    "                handle = indict['twitter_handle'],\n",
    "                text= indict['full_text'],\n",
    "                words = [w for w in indict['full_text'].lower().split() if \"#\" not in w and \"http\" not in w],\n",
    "                links = [w for w in indict['full_text'].split() if \"http\" in w],\n",
    "                hashtags = [w for w in indict['full_text'].split() if \"#\" in w],\n",
    "                url = \"https://twitter.com/\"+indict['twitter_handle']+\"/\"+str(indict['id'])\n",
    "                )\n",
    "            \n",
    "            db.session.add(a_tweet)\n",
    "\n",
    "\n",
    "db.session.commit()\n",
    "db.session.close()"
   ]
  },
  {
   "cell_type": "code",
   "execution_count": 7,
   "metadata": {
    "ExecuteTime": {
     "end_time": "2019-04-09T10:35:16.224203Z",
     "start_time": "2019-04-09T10:35:16.220817Z"
    }
   },
   "outputs": [
    {
     "data": {
      "text/plain": [
       "['dejligt',\n",
       " 'med',\n",
       " 'ros',\n",
       " 'fra',\n",
       " 'min',\n",
       " 'borgmester',\n",
       " 'for',\n",
       " 'at',\n",
       " 'have',\n",
       " 'lyttet',\n",
       " 'og',\n",
       " 'ændret',\n",
       " 'i',\n",
       " 'sundhedsreformen']"
      ]
     },
     "execution_count": 7,
     "metadata": {},
     "output_type": "execute_result"
    }
   ],
   "source": [
    "Tweet.query.first().words"
   ]
  },
  {
   "cell_type": "code",
   "execution_count": 6,
   "metadata": {
    "ExecuteTime": {
     "end_time": "2019-04-09T10:35:09.895362Z",
     "start_time": "2019-04-09T10:35:09.892761Z"
    }
   },
   "outputs": [],
   "source": [
    "t"
   ]
  },
  {
   "cell_type": "code",
   "execution_count": 6,
   "metadata": {},
   "outputs": [],
   "source": []
  },
  {
   "cell_type": "code",
   "execution_count": 7,
   "metadata": {},
   "outputs": [],
   "source": []
  },
  {
   "cell_type": "code",
   "execution_count": null,
   "metadata": {},
   "outputs": [],
   "source": [
    "\n",
    "import os\n",
    "os._exit(00)\n"
   ]
  },
  {
   "cell_type": "code",
   "execution_count": 1,
   "metadata": {},
   "outputs": [
    {
     "name": "stderr",
     "output_type": "stream",
     "text": [
      "/home/arthur/Documents/GitHub/nlp4all/nlp4all/lib/python3.6/site-packages/flask_sqlalchemy/__init__.py:794: FSADeprecationWarning: SQLALCHEMY_TRACK_MODIFICATIONS adds significant overhead and will be disabled by default in the future.  Set it to True or False to suppress this warning.\n",
      "  'SQLALCHEMY_TRACK_MODIFICATIONS adds significant overhead and '\n"
     ]
    },
    {
     "name": "stdout",
     "output_type": "stream",
     "text": [
      "[<Tweet 1>, <Tweet 2>, <Tweet 3>, <Tweet 4>, <Tweet 5>, <Tweet 6>, <Tweet 7>, <Tweet 8>, <Tweet 9>, <Tweet 10>, <Tweet 11>, <Tweet 12>, <Tweet 13>, <Tweet 14>, <Tweet 15>, <Tweet 16>, <Tweet 17>, <Tweet 18>, <Tweet 19>, <Tweet 20>, <Tweet 21>, <Tweet 22>, <Tweet 23>, <Tweet 24>, <Tweet 25>, <Tweet 26>, <Tweet 27>, <Tweet 28>, <Tweet 29>, <Tweet 30>, <Tweet 31>, <Tweet 32>, <Tweet 33>, <Tweet 34>, <Tweet 35>, <Tweet 36>, <Tweet 37>, <Tweet 38>, <Tweet 39>, <Tweet 40>, <Tweet 41>, <Tweet 42>, <Tweet 43>, <Tweet 44>, <Tweet 45>, <Tweet 46>, <Tweet 47>, <Tweet 48>, <Tweet 49>, <Tweet 50>, <Tweet 51>, <Tweet 52>, <Tweet 53>, <Tweet 54>, <Tweet 55>, <Tweet 56>, <Tweet 57>, <Tweet 58>, <Tweet 59>, <Tweet 60>, <Tweet 61>, <Tweet 62>, <Tweet 63>, <Tweet 64>, <Tweet 65>, <Tweet 66>, <Tweet 67>, <Tweet 68>, <Tweet 69>, <Tweet 70>, <Tweet 71>, <Tweet 72>, <Tweet 73>, <Tweet 74>, <Tweet 75>, <Tweet 76>, <Tweet 77>, <Tweet 78>, <Tweet 79>, <Tweet 80>, <Tweet 81>, <Tweet 82>, <Tweet 83>, <Tweet 84>, <Tweet 85>, <Tweet 86>, <Tweet 87>, <Tweet 88>, <Tweet 89>, <Tweet 90>, <Tweet 91>, <Tweet 92>, <Tweet 93>, <Tweet 94>, <Tweet 95>, <Tweet 96>, <Tweet 97>, <Tweet 98>, <Tweet 99>, <Tweet 100>, <Tweet 101>, <Tweet 102>, <Tweet 103>, <Tweet 104>, <Tweet 105>, <Tweet 106>, <Tweet 107>, <Tweet 108>, <Tweet 109>, <Tweet 110>, <Tweet 111>, <Tweet 112>, <Tweet 113>, <Tweet 114>, <Tweet 115>, <Tweet 116>, <Tweet 117>, <Tweet 118>, <Tweet 119>, <Tweet 120>, <Tweet 121>, <Tweet 122>, <Tweet 123>, <Tweet 124>, <Tweet 125>, <Tweet 126>, <Tweet 127>, <Tweet 128>, <Tweet 129>, <Tweet 130>, <Tweet 131>, <Tweet 132>, <Tweet 133>, <Tweet 134>, <Tweet 135>, <Tweet 136>, <Tweet 137>, <Tweet 138>, <Tweet 139>, <Tweet 140>, <Tweet 141>, <Tweet 142>, <Tweet 143>, <Tweet 144>, <Tweet 145>, <Tweet 146>, <Tweet 147>, <Tweet 148>, <Tweet 149>, <Tweet 150>, <Tweet 151>, <Tweet 152>, <Tweet 153>, <Tweet 154>, <Tweet 155>, <Tweet 156>, <Tweet 157>, <Tweet 158>, <Tweet 159>, <Tweet 160>, <Tweet 161>, <Tweet 162>, <Tweet 163>, <Tweet 164>, <Tweet 165>, <Tweet 166>, <Tweet 167>, <Tweet 168>, <Tweet 169>, <Tweet 170>, <Tweet 171>, <Tweet 172>, <Tweet 173>, <Tweet 174>, <Tweet 175>, <Tweet 176>, <Tweet 177>, <Tweet 178>, <Tweet 179>, <Tweet 180>, <Tweet 181>, <Tweet 182>, <Tweet 183>, <Tweet 184>, <Tweet 185>, <Tweet 186>, <Tweet 187>, <Tweet 188>, <Tweet 189>, <Tweet 190>, <Tweet 191>, <Tweet 192>, <Tweet 193>, <Tweet 194>, <Tweet 195>, <Tweet 196>, <Tweet 197>, <Tweet 198>, <Tweet 199>, <Tweet 200>, <Tweet 201>, <Tweet 202>, <Tweet 203>, <Tweet 204>, <Tweet 205>, <Tweet 206>, <Tweet 207>, <Tweet 208>, <Tweet 209>, <Tweet 210>, <Tweet 211>, <Tweet 212>, <Tweet 213>, <Tweet 214>, <Tweet 215>, <Tweet 216>, <Tweet 217>, <Tweet 218>, <Tweet 219>, <Tweet 220>, <Tweet 221>, <Tweet 222>, <Tweet 223>, <Tweet 224>, <Tweet 225>, <Tweet 226>, <Tweet 227>, <Tweet 228>, <Tweet 229>, <Tweet 230>, <Tweet 231>, <Tweet 232>, <Tweet 233>, <Tweet 234>, <Tweet 235>, <Tweet 236>, <Tweet 237>, <Tweet 238>, <Tweet 239>, <Tweet 240>, <Tweet 241>, <Tweet 242>, <Tweet 243>, <Tweet 244>, <Tweet 245>, <Tweet 246>, <Tweet 247>, <Tweet 248>, <Tweet 249>, <Tweet 250>]\n",
      "<Tweet 1>\n",
      "<Tweet 2>\n",
      "<Tweet 3>\n",
      "<Tweet 4>\n",
      "<Tweet 5>\n",
      "<Tweet 6>\n",
      "<Tweet 7>\n",
      "<Tweet 8>\n",
      "<Tweet 9>\n",
      "<Tweet 10>\n",
      "<Tweet 11>\n",
      "<Tweet 12>\n",
      "<Tweet 13>\n",
      "<Tweet 14>\n",
      "<Tweet 15>\n",
      "<Tweet 16>\n",
      "<Tweet 17>\n",
      "<Tweet 18>\n",
      "<Tweet 19>\n",
      "<Tweet 20>\n",
      "<Tweet 21>\n",
      "<Tweet 22>\n",
      "<Tweet 23>\n",
      "<Tweet 24>\n",
      "<Tweet 25>\n",
      "<Tweet 26>\n",
      "<Tweet 27>\n",
      "<Tweet 28>\n",
      "<Tweet 29>\n",
      "<Tweet 30>\n",
      "<Tweet 31>\n",
      "<Tweet 32>\n",
      "<Tweet 33>\n",
      "<Tweet 34>\n",
      "<Tweet 35>\n",
      "<Tweet 36>\n",
      "<Tweet 37>\n",
      "<Tweet 38>\n",
      "<Tweet 39>\n",
      "<Tweet 40>\n",
      "<Tweet 41>\n",
      "<Tweet 42>\n",
      "<Tweet 43>\n",
      "<Tweet 44>\n",
      "<Tweet 45>\n",
      "<Tweet 46>\n",
      "<Tweet 47>\n",
      "<Tweet 48>\n",
      "<Tweet 49>\n",
      "<Tweet 50>\n",
      "<Tweet 51>\n",
      "<Tweet 52>\n",
      "<Tweet 53>\n",
      "<Tweet 54>\n",
      "<Tweet 55>\n",
      "<Tweet 56>\n",
      "<Tweet 57>\n",
      "<Tweet 58>\n",
      "<Tweet 59>\n",
      "<Tweet 60>\n",
      "<Tweet 61>\n",
      "<Tweet 62>\n",
      "<Tweet 63>\n",
      "<Tweet 64>\n",
      "<Tweet 65>\n",
      "<Tweet 66>\n",
      "<Tweet 67>\n",
      "<Tweet 68>\n",
      "<Tweet 69>\n",
      "<Tweet 70>\n",
      "<Tweet 71>\n",
      "<Tweet 72>\n",
      "<Tweet 73>\n",
      "<Tweet 74>\n",
      "<Tweet 75>\n",
      "<Tweet 76>\n",
      "<Tweet 77>\n",
      "<Tweet 78>\n",
      "<Tweet 79>\n",
      "<Tweet 80>\n",
      "<Tweet 81>\n",
      "<Tweet 82>\n",
      "<Tweet 83>\n",
      "<Tweet 84>\n",
      "<Tweet 85>\n",
      "<Tweet 86>\n",
      "<Tweet 87>\n",
      "<Tweet 88>\n",
      "<Tweet 89>\n",
      "<Tweet 90>\n",
      "<Tweet 91>\n",
      "<Tweet 92>\n",
      "<Tweet 93>\n",
      "<Tweet 94>\n",
      "<Tweet 95>\n",
      "<Tweet 96>\n",
      "<Tweet 97>\n",
      "<Tweet 98>\n",
      "<Tweet 99>\n",
      "<Tweet 100>\n",
      "<Tweet 101>\n",
      "<Tweet 102>\n",
      "<Tweet 103>\n",
      "<Tweet 104>\n",
      "<Tweet 105>\n",
      "<Tweet 106>\n",
      "<Tweet 107>\n",
      "<Tweet 108>\n",
      "<Tweet 109>\n",
      "<Tweet 110>\n",
      "<Tweet 111>\n",
      "<Tweet 112>\n",
      "<Tweet 113>\n",
      "<Tweet 114>\n",
      "<Tweet 115>\n",
      "<Tweet 116>\n",
      "<Tweet 117>\n",
      "<Tweet 118>\n",
      "<Tweet 119>\n",
      "<Tweet 120>\n",
      "<Tweet 121>\n",
      "<Tweet 122>\n",
      "<Tweet 123>\n",
      "<Tweet 124>\n",
      "<Tweet 125>\n",
      "<Tweet 126>\n",
      "<Tweet 127>\n",
      "<Tweet 128>\n",
      "<Tweet 129>\n",
      "<Tweet 130>\n",
      "<Tweet 131>\n",
      "<Tweet 132>\n",
      "<Tweet 133>\n",
      "<Tweet 134>\n",
      "<Tweet 135>\n",
      "<Tweet 136>\n",
      "<Tweet 137>\n",
      "<Tweet 138>\n",
      "<Tweet 139>\n",
      "<Tweet 140>\n",
      "<Tweet 141>\n",
      "<Tweet 142>\n",
      "<Tweet 143>\n",
      "<Tweet 144>\n",
      "<Tweet 145>\n",
      "<Tweet 146>\n",
      "<Tweet 147>\n",
      "<Tweet 148>\n",
      "<Tweet 149>\n",
      "<Tweet 150>\n",
      "<Tweet 151>\n",
      "<Tweet 152>\n",
      "<Tweet 153>\n",
      "<Tweet 154>\n",
      "<Tweet 155>\n",
      "<Tweet 156>\n",
      "<Tweet 157>\n",
      "<Tweet 158>\n",
      "<Tweet 159>\n",
      "<Tweet 160>\n",
      "<Tweet 161>\n",
      "<Tweet 162>\n",
      "<Tweet 163>\n",
      "<Tweet 164>\n",
      "<Tweet 165>\n",
      "<Tweet 166>\n",
      "<Tweet 167>\n",
      "<Tweet 168>\n",
      "<Tweet 169>\n",
      "<Tweet 170>\n",
      "<Tweet 171>\n",
      "<Tweet 172>\n",
      "<Tweet 173>\n",
      "<Tweet 174>\n",
      "<Tweet 175>\n",
      "<Tweet 176>\n",
      "<Tweet 177>\n",
      "<Tweet 178>\n",
      "<Tweet 179>\n",
      "<Tweet 180>\n",
      "<Tweet 181>\n",
      "<Tweet 182>\n",
      "<Tweet 183>\n",
      "<Tweet 184>\n",
      "<Tweet 185>\n",
      "<Tweet 186>\n",
      "<Tweet 187>\n",
      "<Tweet 188>\n",
      "<Tweet 189>\n",
      "<Tweet 190>\n",
      "<Tweet 191>\n",
      "<Tweet 192>\n",
      "<Tweet 193>\n",
      "<Tweet 194>\n",
      "<Tweet 195>\n",
      "<Tweet 196>\n",
      "<Tweet 197>\n",
      "<Tweet 198>\n",
      "<Tweet 199>\n",
      "<Tweet 200>\n",
      "<Tweet 201>\n",
      "<Tweet 202>\n",
      "<Tweet 203>\n",
      "<Tweet 204>\n",
      "<Tweet 205>\n",
      "<Tweet 206>\n",
      "<Tweet 207>\n",
      "<Tweet 208>\n",
      "<Tweet 209>\n",
      "<Tweet 210>\n",
      "<Tweet 211>\n",
      "<Tweet 212>\n",
      "<Tweet 213>\n",
      "<Tweet 214>\n",
      "<Tweet 215>\n",
      "<Tweet 216>\n",
      "<Tweet 217>\n",
      "<Tweet 218>\n",
      "<Tweet 219>\n",
      "<Tweet 220>\n",
      "<Tweet 221>\n",
      "<Tweet 222>\n",
      "<Tweet 223>\n",
      "<Tweet 224>\n",
      "<Tweet 225>\n",
      "<Tweet 226>\n",
      "<Tweet 227>\n",
      "<Tweet 228>\n",
      "<Tweet 229>\n",
      "<Tweet 230>\n",
      "<Tweet 231>\n",
      "<Tweet 232>\n",
      "<Tweet 233>\n",
      "<Tweet 234>\n",
      "<Tweet 235>\n",
      "<Tweet 236>\n",
      "<Tweet 237>\n",
      "<Tweet 238>\n",
      "<Tweet 239>\n",
      "<Tweet 240>\n",
      "<Tweet 241>\n",
      "<Tweet 242>\n",
      "<Tweet 243>\n",
      "<Tweet 244>\n",
      "<Tweet 245>\n",
      "<Tweet 246>\n",
      "<Tweet 247>\n",
      "<Tweet 248>\n",
      "<Tweet 249>\n",
      "<Tweet 250>\n"
     ]
    }
   ],
   "source": [
    "from nlp4all import db, bcrypt\n",
    "from nlp4all.models import User, Role, Organization, Project\n",
    "from nlp4all.models import TweetTagCategory, Tweet, User, Organization, Project, BayesianAnalysis\n",
    "from nlp4all import db, bcrypt\n",
    "import json, os\n",
    "from datetime import datetime\n",
    "import time\n",
    "import json\n",
    "\n",
    "\n",
    "\n",
    "db.drop_all()\n",
    "db.create_all()\n",
    "db.session.commit()\n",
    "\n",
    "admin_role = Role(name='Admin')\n",
    "db.session.add(admin_role)\n",
    "db.session.commit()\n",
    "\n",
    "\n",
    "student_role = Role(name='Student')\n",
    "db.session.add(student_role)\n",
    "db.session.commit()\n",
    "\n",
    "\n",
    "teacher_role = Role(name='Teacher')\n",
    "db.session.add(teacher_role)\n",
    "db.session.commit()\n",
    "\n",
    "\n",
    "\n",
    "hp = bcrypt.generate_password_hash(\"***REMOVED***\")\n",
    "user = User(username=\"arthurhjorth\", email=\"arthur.hjorth@stx.oxon.org\", password=hp)\n",
    "user.roles = [admin_role,]\n",
    "db.session.add(user)\n",
    "\n",
    "org = Organization(name=\"UBI/CCTD\")\n",
    "db.session.add(org)\n",
    "db.session.commit()\n",
    "\n",
    "user = User(username=\"arthurhjorth_teacher\", email=\"arthur.hjorth@u.northwestern.edu\", password=hp, organizations=[org,])\n",
    "user.roles = [teacher_role,]\n",
    "db.session.add(user)\n",
    "user = User(username=\"arthurhjorth_student\", email=\"hermeshjorth2011@u.northwestern.edu\", password=hp, organizations=[org,])\n",
    "user.roles = [student_role,]\n",
    "db.session.add(user)\n",
    "db.session.commit()\n",
    "\n",
    "\n",
    "\n",
    "data_dir = 'tweet_data/'\n",
    "files = [f for f in os.listdir(data_dir) if '_out.json' in f]\n",
    "\n",
    "existing_tag_names = []\n",
    "for f in files:\n",
    "    with open(data_dir+f) as inf:\n",
    "        counter = 0\n",
    "        for line in inf.readlines()[:25]:\n",
    "            indict = json.loads(line)\n",
    "#             add cateogyr if it does not already exist\n",
    "            if indict['twitter_handle'] not in existing_tag_names:\n",
    "                category = TweetTagCategory.query.filter_by(name = indict['twitter_handle']).first()\n",
    "                if not category:\n",
    "                    category = TweetTagCategory(name = indict['twitter_handle'], description = \"Tweet from \" + indict['twitter_handle'])\n",
    "                    db.session.add(category)\n",
    "                    db.session.commit()\n",
    "                existing_tag_names.append(indict['twitter_handle'])\n",
    "            category = TweetTagCategory.query.filter_by(name = indict['twitter_handle']).first()\n",
    "            date_str = indict['time']\n",
    "            date_rep = '%a %b %d %H:%M:%S %z %Y'\n",
    "            unix_time = time.mktime(datetime.strptime(date_str, date_rep).timetuple())\n",
    "            timestamp = datetime.fromtimestamp(unix_time)\n",
    "            a_tweet = Tweet(\n",
    "                time_posted = timestamp,\n",
    "                category = category.id,\n",
    "                handle = indict['twitter_handle'],\n",
    "                text= indict['full_text'],\n",
    "                words = [w for w in indict['full_text'].lower().split() if \"#\" not in w and \"http\" not in w],\n",
    "                links = [w for w in indict['full_text'].split() if \"http\" in w],\n",
    "                hashtags = [w for w in indict['full_text'].split() if \"#\" in w],\n",
    "                url = \"https://twitter.com/\"+indict['twitter_handle']+\"/\"+str(indict['id'])\n",
    "                )\n",
    "            \n",
    "            db.session.add(a_tweet)\n",
    "\n",
    "\n",
    "db.session.commit()\n",
    "db.session.close()\n",
    "\n",
    "\n",
    "org = Organization.query.first()\n",
    "project = Project(name=\"DF og Ehl\", organization=org.id)\n",
    "db.session.add(project)\n",
    "db.session.commit()\n",
    "\n",
    "print(Tweet.query.all())\n",
    "\n",
    "for t in Tweet.query.all():\n",
    "    print(t)"
   ]
  },
  {
   "cell_type": "code",
   "execution_count": 10,
   "metadata": {},
   "outputs": [
    {
     "ename": "TypeError",
     "evalue": "an integer is required (got type str)",
     "output_type": "error",
     "traceback": [
      "\u001b[0;31m---------------------------------------------------------------------------\u001b[0m",
      "\u001b[0;31mTypeError\u001b[0m                                 Traceback (most recent call last)",
      "\u001b[0;32m<ipython-input-10-12caa501d2d6>\u001b[0m in \u001b[0;36m<module>\u001b[0;34m\u001b[0m\n\u001b[0;32m----> 1\u001b[0;31m \u001b[0md\u001b[0m \u001b[0;34m=\u001b[0m \u001b[0mdatetime\u001b[0m\u001b[0;34m(\u001b[0m\u001b[0;34m''\u001b[0m\u001b[0;34m)\u001b[0m\u001b[0;34m\u001b[0m\u001b[0;34m\u001b[0m\u001b[0m\n\u001b[0m",
      "\u001b[0;31mTypeError\u001b[0m: an integer is required (got type str)"
     ]
    }
   ],
   "source": [
    " d = datetime('')"
   ]
  },
  {
   "cell_type": "code",
   "execution_count": 11,
   "metadata": {},
   "outputs": [],
   "source": [
    "dmindb.session.close()"
   ]
  },
  {
   "cell_type": "code",
   "execution_count": 12,
   "metadata": {},
   "outputs": [
    {
     "ename": "AttributeError",
     "evalue": "'int' object has no attribute 'date_posted'",
     "output_type": "error",
     "traceback": [
      "\u001b[0;31m---------------------------------------------------------------------------\u001b[0m",
      "\u001b[0;31mAttributeError\u001b[0m                            Traceback (most recent call last)",
      "\u001b[0;32m<ipython-input-12-e6cc54db3335>\u001b[0m in \u001b[0;36m<module>\u001b[0;34m\u001b[0m\n\u001b[1;32m      1\u001b[0m \u001b[0mdt\u001b[0m \u001b[0;34m=\u001b[0m \u001b[0mdatetime\u001b[0m\u001b[0;34m.\u001b[0m\u001b[0mnow\u001b[0m\u001b[0;34m(\u001b[0m\u001b[0;34m)\u001b[0m\u001b[0;34m\u001b[0m\u001b[0;34m\u001b[0m\u001b[0m\n\u001b[0;32m----> 2\u001b[0;31m \u001b[0mtweet\u001b[0m\u001b[0;34m.\u001b[0m\u001b[0mdate_posted\u001b[0m \u001b[0;34m=\u001b[0m \u001b[0mdt\u001b[0m\u001b[0;34m\u001b[0m\u001b[0;34m\u001b[0m\u001b[0m\n\u001b[0m\u001b[1;32m      3\u001b[0m \u001b[0;34m\u001b[0m\u001b[0m\n\u001b[1;32m      4\u001b[0m \u001b[0mdb\u001b[0m\u001b[0;34m.\u001b[0m\u001b[0msession\u001b[0m\u001b[0;34m.\u001b[0m\u001b[0madd\u001b[0m\u001b[0;34m(\u001b[0m\u001b[0mtweet\u001b[0m\u001b[0;34m)\u001b[0m\u001b[0;34m\u001b[0m\u001b[0;34m\u001b[0m\u001b[0m\n",
      "\u001b[0;31mAttributeError\u001b[0m: 'int' object has no attribute 'date_posted'"
     ]
    }
   ],
   "source": [
    "dt = datetime.now()\n",
    "tweet.date_posted = dt\n",
    "\n",
    "db.session.add(tweet)"
   ]
  },
  {
   "cell_type": "code",
   "execution_count": 13,
   "metadata": {},
   "outputs": [],
   "source": [
    "db.session.commit()"
   ]
  },
  {
   "cell_type": "code",
   "execution_count": 14,
   "metadata": {},
   "outputs": [],
   "source": [
    "db.session.close()"
   ]
  },
  {
   "cell_type": "code",
   "execution_count": 15,
   "metadata": {},
   "outputs": [],
   "source": [
    "db.drop_all()"
   ]
  },
  {
   "cell_type": "code",
   "execution_count": 16,
   "metadata": {},
   "outputs": [
    {
     "ename": "OperationalError",
     "evalue": "(sqlite3.OperationalError) no such table: tweet_tag_description\n[SQL: SELECT tweet_tag_description.id AS tweet_tag_description_id, tweet_tag_description.name AS tweet_tag_description_name, tweet_tag_description.text AS tweet_tag_description_text \nFROM tweet_tag_description]\n(Background on this error at: http://sqlalche.me/e/e3q8)",
     "output_type": "error",
     "traceback": [
      "\u001b[0;31m---------------------------------------------------------------------------\u001b[0m",
      "\u001b[0;31mOperationalError\u001b[0m                          Traceback (most recent call last)",
      "\u001b[0;32m~/Documents/GitHub/nlp4all/nlp4all/lib/python3.6/site-packages/sqlalchemy/engine/base.py\u001b[0m in \u001b[0;36m_execute_context\u001b[0;34m(self, dialect, constructor, statement, parameters, *args)\u001b[0m\n\u001b[1;32m   1243\u001b[0m                     self.dialect.do_execute(\n\u001b[0;32m-> 1244\u001b[0;31m                         \u001b[0mcursor\u001b[0m\u001b[0;34m,\u001b[0m \u001b[0mstatement\u001b[0m\u001b[0;34m,\u001b[0m \u001b[0mparameters\u001b[0m\u001b[0;34m,\u001b[0m \u001b[0mcontext\u001b[0m\u001b[0;34m\u001b[0m\u001b[0;34m\u001b[0m\u001b[0m\n\u001b[0m\u001b[1;32m   1245\u001b[0m                     )\n",
      "\u001b[0;32m~/Documents/GitHub/nlp4all/nlp4all/lib/python3.6/site-packages/sqlalchemy/engine/default.py\u001b[0m in \u001b[0;36mdo_execute\u001b[0;34m(self, cursor, statement, parameters, context)\u001b[0m\n\u001b[1;32m    551\u001b[0m     \u001b[0;32mdef\u001b[0m \u001b[0mdo_execute\u001b[0m\u001b[0;34m(\u001b[0m\u001b[0mself\u001b[0m\u001b[0;34m,\u001b[0m \u001b[0mcursor\u001b[0m\u001b[0;34m,\u001b[0m \u001b[0mstatement\u001b[0m\u001b[0;34m,\u001b[0m \u001b[0mparameters\u001b[0m\u001b[0;34m,\u001b[0m \u001b[0mcontext\u001b[0m\u001b[0;34m=\u001b[0m\u001b[0;32mNone\u001b[0m\u001b[0;34m)\u001b[0m\u001b[0;34m:\u001b[0m\u001b[0;34m\u001b[0m\u001b[0;34m\u001b[0m\u001b[0m\n\u001b[0;32m--> 552\u001b[0;31m         \u001b[0mcursor\u001b[0m\u001b[0;34m.\u001b[0m\u001b[0mexecute\u001b[0m\u001b[0;34m(\u001b[0m\u001b[0mstatement\u001b[0m\u001b[0;34m,\u001b[0m \u001b[0mparameters\u001b[0m\u001b[0;34m)\u001b[0m\u001b[0;34m\u001b[0m\u001b[0;34m\u001b[0m\u001b[0m\n\u001b[0m\u001b[1;32m    553\u001b[0m \u001b[0;34m\u001b[0m\u001b[0m\n",
      "\u001b[0;31mOperationalError\u001b[0m: no such table: tweet_tag_description",
      "\nThe above exception was the direct cause of the following exception:\n",
      "\u001b[0;31mOperationalError\u001b[0m                          Traceback (most recent call last)",
      "\u001b[0;32m<ipython-input-16-d69694a21474>\u001b[0m in \u001b[0;36m<module>\u001b[0;34m\u001b[0m\n\u001b[0;32m----> 1\u001b[0;31m \u001b[0mTweetTagDescription\u001b[0m\u001b[0;34m.\u001b[0m\u001b[0mquery\u001b[0m\u001b[0;34m.\u001b[0m\u001b[0mall\u001b[0m\u001b[0;34m(\u001b[0m\u001b[0;34m)\u001b[0m\u001b[0;34m\u001b[0m\u001b[0;34m\u001b[0m\u001b[0m\n\u001b[0m",
      "\u001b[0;32m~/Documents/GitHub/nlp4all/nlp4all/lib/python3.6/site-packages/sqlalchemy/orm/query.py\u001b[0m in \u001b[0;36mall\u001b[0;34m(self)\u001b[0m\n\u001b[1;32m   3159\u001b[0m \u001b[0;34m\u001b[0m\u001b[0m\n\u001b[1;32m   3160\u001b[0m         \"\"\"\n\u001b[0;32m-> 3161\u001b[0;31m         \u001b[0;32mreturn\u001b[0m \u001b[0mlist\u001b[0m\u001b[0;34m(\u001b[0m\u001b[0mself\u001b[0m\u001b[0;34m)\u001b[0m\u001b[0;34m\u001b[0m\u001b[0;34m\u001b[0m\u001b[0m\n\u001b[0m\u001b[1;32m   3162\u001b[0m \u001b[0;34m\u001b[0m\u001b[0m\n\u001b[1;32m   3163\u001b[0m     \u001b[0;34m@\u001b[0m\u001b[0m_generative\u001b[0m\u001b[0;34m(\u001b[0m\u001b[0m_no_clauseelement_condition\u001b[0m\u001b[0;34m)\u001b[0m\u001b[0;34m\u001b[0m\u001b[0;34m\u001b[0m\u001b[0m\n",
      "\u001b[0;32m~/Documents/GitHub/nlp4all/nlp4all/lib/python3.6/site-packages/sqlalchemy/orm/query.py\u001b[0m in \u001b[0;36m__iter__\u001b[0;34m(self)\u001b[0m\n\u001b[1;32m   3315\u001b[0m         \u001b[0;32mif\u001b[0m \u001b[0mself\u001b[0m\u001b[0;34m.\u001b[0m\u001b[0m_autoflush\u001b[0m \u001b[0;32mand\u001b[0m \u001b[0;32mnot\u001b[0m \u001b[0mself\u001b[0m\u001b[0;34m.\u001b[0m\u001b[0m_populate_existing\u001b[0m\u001b[0;34m:\u001b[0m\u001b[0;34m\u001b[0m\u001b[0;34m\u001b[0m\u001b[0m\n\u001b[1;32m   3316\u001b[0m             \u001b[0mself\u001b[0m\u001b[0;34m.\u001b[0m\u001b[0msession\u001b[0m\u001b[0;34m.\u001b[0m\u001b[0m_autoflush\u001b[0m\u001b[0;34m(\u001b[0m\u001b[0;34m)\u001b[0m\u001b[0;34m\u001b[0m\u001b[0;34m\u001b[0m\u001b[0m\n\u001b[0;32m-> 3317\u001b[0;31m         \u001b[0;32mreturn\u001b[0m \u001b[0mself\u001b[0m\u001b[0;34m.\u001b[0m\u001b[0m_execute_and_instances\u001b[0m\u001b[0;34m(\u001b[0m\u001b[0mcontext\u001b[0m\u001b[0;34m)\u001b[0m\u001b[0;34m\u001b[0m\u001b[0;34m\u001b[0m\u001b[0m\n\u001b[0m\u001b[1;32m   3318\u001b[0m \u001b[0;34m\u001b[0m\u001b[0m\n\u001b[1;32m   3319\u001b[0m     \u001b[0;32mdef\u001b[0m \u001b[0m__str__\u001b[0m\u001b[0;34m(\u001b[0m\u001b[0mself\u001b[0m\u001b[0;34m)\u001b[0m\u001b[0;34m:\u001b[0m\u001b[0;34m\u001b[0m\u001b[0;34m\u001b[0m\u001b[0m\n",
      "\u001b[0;32m~/Documents/GitHub/nlp4all/nlp4all/lib/python3.6/site-packages/sqlalchemy/orm/query.py\u001b[0m in \u001b[0;36m_execute_and_instances\u001b[0;34m(self, querycontext)\u001b[0m\n\u001b[1;32m   3340\u001b[0m         )\n\u001b[1;32m   3341\u001b[0m \u001b[0;34m\u001b[0m\u001b[0m\n\u001b[0;32m-> 3342\u001b[0;31m         \u001b[0mresult\u001b[0m \u001b[0;34m=\u001b[0m \u001b[0mconn\u001b[0m\u001b[0;34m.\u001b[0m\u001b[0mexecute\u001b[0m\u001b[0;34m(\u001b[0m\u001b[0mquerycontext\u001b[0m\u001b[0;34m.\u001b[0m\u001b[0mstatement\u001b[0m\u001b[0;34m,\u001b[0m \u001b[0mself\u001b[0m\u001b[0;34m.\u001b[0m\u001b[0m_params\u001b[0m\u001b[0;34m)\u001b[0m\u001b[0;34m\u001b[0m\u001b[0;34m\u001b[0m\u001b[0m\n\u001b[0m\u001b[1;32m   3343\u001b[0m         \u001b[0;32mreturn\u001b[0m \u001b[0mloading\u001b[0m\u001b[0;34m.\u001b[0m\u001b[0minstances\u001b[0m\u001b[0;34m(\u001b[0m\u001b[0mquerycontext\u001b[0m\u001b[0;34m.\u001b[0m\u001b[0mquery\u001b[0m\u001b[0;34m,\u001b[0m \u001b[0mresult\u001b[0m\u001b[0;34m,\u001b[0m \u001b[0mquerycontext\u001b[0m\u001b[0;34m)\u001b[0m\u001b[0;34m\u001b[0m\u001b[0;34m\u001b[0m\u001b[0m\n\u001b[1;32m   3344\u001b[0m \u001b[0;34m\u001b[0m\u001b[0m\n",
      "\u001b[0;32m~/Documents/GitHub/nlp4all/nlp4all/lib/python3.6/site-packages/sqlalchemy/engine/base.py\u001b[0m in \u001b[0;36mexecute\u001b[0;34m(self, object_, *multiparams, **params)\u001b[0m\n\u001b[1;32m    986\u001b[0m             \u001b[0;32mraise\u001b[0m \u001b[0mexc\u001b[0m\u001b[0;34m.\u001b[0m\u001b[0mObjectNotExecutableError\u001b[0m\u001b[0;34m(\u001b[0m\u001b[0mobject_\u001b[0m\u001b[0;34m)\u001b[0m\u001b[0;34m\u001b[0m\u001b[0;34m\u001b[0m\u001b[0m\n\u001b[1;32m    987\u001b[0m         \u001b[0;32melse\u001b[0m\u001b[0;34m:\u001b[0m\u001b[0;34m\u001b[0m\u001b[0;34m\u001b[0m\u001b[0m\n\u001b[0;32m--> 988\u001b[0;31m             \u001b[0;32mreturn\u001b[0m \u001b[0mmeth\u001b[0m\u001b[0;34m(\u001b[0m\u001b[0mself\u001b[0m\u001b[0;34m,\u001b[0m \u001b[0mmultiparams\u001b[0m\u001b[0;34m,\u001b[0m \u001b[0mparams\u001b[0m\u001b[0;34m)\u001b[0m\u001b[0;34m\u001b[0m\u001b[0;34m\u001b[0m\u001b[0m\n\u001b[0m\u001b[1;32m    989\u001b[0m \u001b[0;34m\u001b[0m\u001b[0m\n\u001b[1;32m    990\u001b[0m     \u001b[0;32mdef\u001b[0m \u001b[0m_execute_function\u001b[0m\u001b[0;34m(\u001b[0m\u001b[0mself\u001b[0m\u001b[0;34m,\u001b[0m \u001b[0mfunc\u001b[0m\u001b[0;34m,\u001b[0m \u001b[0mmultiparams\u001b[0m\u001b[0;34m,\u001b[0m \u001b[0mparams\u001b[0m\u001b[0;34m)\u001b[0m\u001b[0;34m:\u001b[0m\u001b[0;34m\u001b[0m\u001b[0;34m\u001b[0m\u001b[0m\n",
      "\u001b[0;32m~/Documents/GitHub/nlp4all/nlp4all/lib/python3.6/site-packages/sqlalchemy/sql/elements.py\u001b[0m in \u001b[0;36m_execute_on_connection\u001b[0;34m(self, connection, multiparams, params)\u001b[0m\n\u001b[1;32m    285\u001b[0m     \u001b[0;32mdef\u001b[0m \u001b[0m_execute_on_connection\u001b[0m\u001b[0;34m(\u001b[0m\u001b[0mself\u001b[0m\u001b[0;34m,\u001b[0m \u001b[0mconnection\u001b[0m\u001b[0;34m,\u001b[0m \u001b[0mmultiparams\u001b[0m\u001b[0;34m,\u001b[0m \u001b[0mparams\u001b[0m\u001b[0;34m)\u001b[0m\u001b[0;34m:\u001b[0m\u001b[0;34m\u001b[0m\u001b[0;34m\u001b[0m\u001b[0m\n\u001b[1;32m    286\u001b[0m         \u001b[0;32mif\u001b[0m \u001b[0mself\u001b[0m\u001b[0;34m.\u001b[0m\u001b[0msupports_execution\u001b[0m\u001b[0;34m:\u001b[0m\u001b[0;34m\u001b[0m\u001b[0;34m\u001b[0m\u001b[0m\n\u001b[0;32m--> 287\u001b[0;31m             \u001b[0;32mreturn\u001b[0m \u001b[0mconnection\u001b[0m\u001b[0;34m.\u001b[0m\u001b[0m_execute_clauseelement\u001b[0m\u001b[0;34m(\u001b[0m\u001b[0mself\u001b[0m\u001b[0;34m,\u001b[0m \u001b[0mmultiparams\u001b[0m\u001b[0;34m,\u001b[0m \u001b[0mparams\u001b[0m\u001b[0;34m)\u001b[0m\u001b[0;34m\u001b[0m\u001b[0;34m\u001b[0m\u001b[0m\n\u001b[0m\u001b[1;32m    288\u001b[0m         \u001b[0;32melse\u001b[0m\u001b[0;34m:\u001b[0m\u001b[0;34m\u001b[0m\u001b[0;34m\u001b[0m\u001b[0m\n\u001b[1;32m    289\u001b[0m             \u001b[0;32mraise\u001b[0m \u001b[0mexc\u001b[0m\u001b[0;34m.\u001b[0m\u001b[0mObjectNotExecutableError\u001b[0m\u001b[0;34m(\u001b[0m\u001b[0mself\u001b[0m\u001b[0;34m)\u001b[0m\u001b[0;34m\u001b[0m\u001b[0;34m\u001b[0m\u001b[0m\n",
      "\u001b[0;32m~/Documents/GitHub/nlp4all/nlp4all/lib/python3.6/site-packages/sqlalchemy/engine/base.py\u001b[0m in \u001b[0;36m_execute_clauseelement\u001b[0;34m(self, elem, multiparams, params)\u001b[0m\n\u001b[1;32m   1105\u001b[0m             \u001b[0mdistilled_params\u001b[0m\u001b[0;34m,\u001b[0m\u001b[0;34m\u001b[0m\u001b[0;34m\u001b[0m\u001b[0m\n\u001b[1;32m   1106\u001b[0m             \u001b[0mcompiled_sql\u001b[0m\u001b[0;34m,\u001b[0m\u001b[0;34m\u001b[0m\u001b[0;34m\u001b[0m\u001b[0m\n\u001b[0;32m-> 1107\u001b[0;31m             \u001b[0mdistilled_params\u001b[0m\u001b[0;34m,\u001b[0m\u001b[0;34m\u001b[0m\u001b[0;34m\u001b[0m\u001b[0m\n\u001b[0m\u001b[1;32m   1108\u001b[0m         )\n\u001b[1;32m   1109\u001b[0m         \u001b[0;32mif\u001b[0m \u001b[0mself\u001b[0m\u001b[0;34m.\u001b[0m\u001b[0m_has_events\u001b[0m \u001b[0;32mor\u001b[0m \u001b[0mself\u001b[0m\u001b[0;34m.\u001b[0m\u001b[0mengine\u001b[0m\u001b[0;34m.\u001b[0m\u001b[0m_has_events\u001b[0m\u001b[0;34m:\u001b[0m\u001b[0;34m\u001b[0m\u001b[0;34m\u001b[0m\u001b[0m\n",
      "\u001b[0;32m~/Documents/GitHub/nlp4all/nlp4all/lib/python3.6/site-packages/sqlalchemy/engine/base.py\u001b[0m in \u001b[0;36m_execute_context\u001b[0;34m(self, dialect, constructor, statement, parameters, *args)\u001b[0m\n\u001b[1;32m   1246\u001b[0m         \u001b[0;32mexcept\u001b[0m \u001b[0mBaseException\u001b[0m \u001b[0;32mas\u001b[0m \u001b[0me\u001b[0m\u001b[0;34m:\u001b[0m\u001b[0;34m\u001b[0m\u001b[0;34m\u001b[0m\u001b[0m\n\u001b[1;32m   1247\u001b[0m             self._handle_dbapi_exception(\n\u001b[0;32m-> 1248\u001b[0;31m                 \u001b[0me\u001b[0m\u001b[0;34m,\u001b[0m \u001b[0mstatement\u001b[0m\u001b[0;34m,\u001b[0m \u001b[0mparameters\u001b[0m\u001b[0;34m,\u001b[0m \u001b[0mcursor\u001b[0m\u001b[0;34m,\u001b[0m \u001b[0mcontext\u001b[0m\u001b[0;34m\u001b[0m\u001b[0;34m\u001b[0m\u001b[0m\n\u001b[0m\u001b[1;32m   1249\u001b[0m             )\n\u001b[1;32m   1250\u001b[0m \u001b[0;34m\u001b[0m\u001b[0m\n",
      "\u001b[0;32m~/Documents/GitHub/nlp4all/nlp4all/lib/python3.6/site-packages/sqlalchemy/engine/base.py\u001b[0m in \u001b[0;36m_handle_dbapi_exception\u001b[0;34m(self, e, statement, parameters, cursor, context)\u001b[0m\n\u001b[1;32m   1464\u001b[0m                 \u001b[0mutil\u001b[0m\u001b[0;34m.\u001b[0m\u001b[0mraise_from_cause\u001b[0m\u001b[0;34m(\u001b[0m\u001b[0mnewraise\u001b[0m\u001b[0;34m,\u001b[0m \u001b[0mexc_info\u001b[0m\u001b[0;34m)\u001b[0m\u001b[0;34m\u001b[0m\u001b[0;34m\u001b[0m\u001b[0m\n\u001b[1;32m   1465\u001b[0m             \u001b[0;32melif\u001b[0m \u001b[0mshould_wrap\u001b[0m\u001b[0;34m:\u001b[0m\u001b[0;34m\u001b[0m\u001b[0;34m\u001b[0m\u001b[0m\n\u001b[0;32m-> 1466\u001b[0;31m                 \u001b[0mutil\u001b[0m\u001b[0;34m.\u001b[0m\u001b[0mraise_from_cause\u001b[0m\u001b[0;34m(\u001b[0m\u001b[0msqlalchemy_exception\u001b[0m\u001b[0;34m,\u001b[0m \u001b[0mexc_info\u001b[0m\u001b[0;34m)\u001b[0m\u001b[0;34m\u001b[0m\u001b[0;34m\u001b[0m\u001b[0m\n\u001b[0m\u001b[1;32m   1467\u001b[0m             \u001b[0;32melse\u001b[0m\u001b[0;34m:\u001b[0m\u001b[0;34m\u001b[0m\u001b[0;34m\u001b[0m\u001b[0m\n\u001b[1;32m   1468\u001b[0m                 \u001b[0mutil\u001b[0m\u001b[0;34m.\u001b[0m\u001b[0mreraise\u001b[0m\u001b[0;34m(\u001b[0m\u001b[0;34m*\u001b[0m\u001b[0mexc_info\u001b[0m\u001b[0;34m)\u001b[0m\u001b[0;34m\u001b[0m\u001b[0;34m\u001b[0m\u001b[0m\n",
      "\u001b[0;32m~/Documents/GitHub/nlp4all/nlp4all/lib/python3.6/site-packages/sqlalchemy/util/compat.py\u001b[0m in \u001b[0;36mraise_from_cause\u001b[0;34m(exception, exc_info)\u001b[0m\n\u001b[1;32m    381\u001b[0m     \u001b[0mexc_type\u001b[0m\u001b[0;34m,\u001b[0m \u001b[0mexc_value\u001b[0m\u001b[0;34m,\u001b[0m \u001b[0mexc_tb\u001b[0m \u001b[0;34m=\u001b[0m \u001b[0mexc_info\u001b[0m\u001b[0;34m\u001b[0m\u001b[0;34m\u001b[0m\u001b[0m\n\u001b[1;32m    382\u001b[0m     \u001b[0mcause\u001b[0m \u001b[0;34m=\u001b[0m \u001b[0mexc_value\u001b[0m \u001b[0;32mif\u001b[0m \u001b[0mexc_value\u001b[0m \u001b[0;32mis\u001b[0m \u001b[0;32mnot\u001b[0m \u001b[0mexception\u001b[0m \u001b[0;32melse\u001b[0m \u001b[0;32mNone\u001b[0m\u001b[0;34m\u001b[0m\u001b[0;34m\u001b[0m\u001b[0m\n\u001b[0;32m--> 383\u001b[0;31m     \u001b[0mreraise\u001b[0m\u001b[0;34m(\u001b[0m\u001b[0mtype\u001b[0m\u001b[0;34m(\u001b[0m\u001b[0mexception\u001b[0m\u001b[0;34m)\u001b[0m\u001b[0;34m,\u001b[0m \u001b[0mexception\u001b[0m\u001b[0;34m,\u001b[0m \u001b[0mtb\u001b[0m\u001b[0;34m=\u001b[0m\u001b[0mexc_tb\u001b[0m\u001b[0;34m,\u001b[0m \u001b[0mcause\u001b[0m\u001b[0;34m=\u001b[0m\u001b[0mcause\u001b[0m\u001b[0;34m)\u001b[0m\u001b[0;34m\u001b[0m\u001b[0;34m\u001b[0m\u001b[0m\n\u001b[0m\u001b[1;32m    384\u001b[0m \u001b[0;34m\u001b[0m\u001b[0m\n\u001b[1;32m    385\u001b[0m \u001b[0;34m\u001b[0m\u001b[0m\n",
      "\u001b[0;32m~/Documents/GitHub/nlp4all/nlp4all/lib/python3.6/site-packages/sqlalchemy/util/compat.py\u001b[0m in \u001b[0;36mreraise\u001b[0;34m(tp, value, tb, cause)\u001b[0m\n\u001b[1;32m    126\u001b[0m             \u001b[0mvalue\u001b[0m\u001b[0;34m.\u001b[0m\u001b[0m__cause__\u001b[0m \u001b[0;34m=\u001b[0m \u001b[0mcause\u001b[0m\u001b[0;34m\u001b[0m\u001b[0;34m\u001b[0m\u001b[0m\n\u001b[1;32m    127\u001b[0m         \u001b[0;32mif\u001b[0m \u001b[0mvalue\u001b[0m\u001b[0;34m.\u001b[0m\u001b[0m__traceback__\u001b[0m \u001b[0;32mis\u001b[0m \u001b[0;32mnot\u001b[0m \u001b[0mtb\u001b[0m\u001b[0;34m:\u001b[0m\u001b[0;34m\u001b[0m\u001b[0;34m\u001b[0m\u001b[0m\n\u001b[0;32m--> 128\u001b[0;31m             \u001b[0;32mraise\u001b[0m \u001b[0mvalue\u001b[0m\u001b[0;34m.\u001b[0m\u001b[0mwith_traceback\u001b[0m\u001b[0;34m(\u001b[0m\u001b[0mtb\u001b[0m\u001b[0;34m)\u001b[0m\u001b[0;34m\u001b[0m\u001b[0;34m\u001b[0m\u001b[0m\n\u001b[0m\u001b[1;32m    129\u001b[0m         \u001b[0;32mraise\u001b[0m \u001b[0mvalue\u001b[0m\u001b[0;34m\u001b[0m\u001b[0;34m\u001b[0m\u001b[0m\n\u001b[1;32m    130\u001b[0m \u001b[0;34m\u001b[0m\u001b[0m\n",
      "\u001b[0;32m~/Documents/GitHub/nlp4all/nlp4all/lib/python3.6/site-packages/sqlalchemy/engine/base.py\u001b[0m in \u001b[0;36m_execute_context\u001b[0;34m(self, dialect, constructor, statement, parameters, *args)\u001b[0m\n\u001b[1;32m   1242\u001b[0m                 \u001b[0;32mif\u001b[0m \u001b[0;32mnot\u001b[0m \u001b[0mevt_handled\u001b[0m\u001b[0;34m:\u001b[0m\u001b[0;34m\u001b[0m\u001b[0;34m\u001b[0m\u001b[0m\n\u001b[1;32m   1243\u001b[0m                     self.dialect.do_execute(\n\u001b[0;32m-> 1244\u001b[0;31m                         \u001b[0mcursor\u001b[0m\u001b[0;34m,\u001b[0m \u001b[0mstatement\u001b[0m\u001b[0;34m,\u001b[0m \u001b[0mparameters\u001b[0m\u001b[0;34m,\u001b[0m \u001b[0mcontext\u001b[0m\u001b[0;34m\u001b[0m\u001b[0;34m\u001b[0m\u001b[0m\n\u001b[0m\u001b[1;32m   1245\u001b[0m                     )\n\u001b[1;32m   1246\u001b[0m         \u001b[0;32mexcept\u001b[0m \u001b[0mBaseException\u001b[0m \u001b[0;32mas\u001b[0m \u001b[0me\u001b[0m\u001b[0;34m:\u001b[0m\u001b[0;34m\u001b[0m\u001b[0;34m\u001b[0m\u001b[0m\n",
      "\u001b[0;32m~/Documents/GitHub/nlp4all/nlp4all/lib/python3.6/site-packages/sqlalchemy/engine/default.py\u001b[0m in \u001b[0;36mdo_execute\u001b[0;34m(self, cursor, statement, parameters, context)\u001b[0m\n\u001b[1;32m    550\u001b[0m \u001b[0;34m\u001b[0m\u001b[0m\n\u001b[1;32m    551\u001b[0m     \u001b[0;32mdef\u001b[0m \u001b[0mdo_execute\u001b[0m\u001b[0;34m(\u001b[0m\u001b[0mself\u001b[0m\u001b[0;34m,\u001b[0m \u001b[0mcursor\u001b[0m\u001b[0;34m,\u001b[0m \u001b[0mstatement\u001b[0m\u001b[0;34m,\u001b[0m \u001b[0mparameters\u001b[0m\u001b[0;34m,\u001b[0m \u001b[0mcontext\u001b[0m\u001b[0;34m=\u001b[0m\u001b[0;32mNone\u001b[0m\u001b[0;34m)\u001b[0m\u001b[0;34m:\u001b[0m\u001b[0;34m\u001b[0m\u001b[0;34m\u001b[0m\u001b[0m\n\u001b[0;32m--> 552\u001b[0;31m         \u001b[0mcursor\u001b[0m\u001b[0;34m.\u001b[0m\u001b[0mexecute\u001b[0m\u001b[0;34m(\u001b[0m\u001b[0mstatement\u001b[0m\u001b[0;34m,\u001b[0m \u001b[0mparameters\u001b[0m\u001b[0;34m)\u001b[0m\u001b[0;34m\u001b[0m\u001b[0;34m\u001b[0m\u001b[0m\n\u001b[0m\u001b[1;32m    553\u001b[0m \u001b[0;34m\u001b[0m\u001b[0m\n\u001b[1;32m    554\u001b[0m     \u001b[0;32mdef\u001b[0m \u001b[0mdo_execute_no_params\u001b[0m\u001b[0;34m(\u001b[0m\u001b[0mself\u001b[0m\u001b[0;34m,\u001b[0m \u001b[0mcursor\u001b[0m\u001b[0;34m,\u001b[0m \u001b[0mstatement\u001b[0m\u001b[0;34m,\u001b[0m \u001b[0mcontext\u001b[0m\u001b[0;34m=\u001b[0m\u001b[0;32mNone\u001b[0m\u001b[0;34m)\u001b[0m\u001b[0;34m:\u001b[0m\u001b[0;34m\u001b[0m\u001b[0;34m\u001b[0m\u001b[0m\n",
      "\u001b[0;31mOperationalError\u001b[0m: (sqlite3.OperationalError) no such table: tweet_tag_description\n[SQL: SELECT tweet_tag_description.id AS tweet_tag_description_id, tweet_tag_description.name AS tweet_tag_description_name, tweet_tag_description.text AS tweet_tag_description_text \nFROM tweet_tag_description]\n(Background on this error at: http://sqlalche.me/e/e3q8)"
     ]
    }
   ],
   "source": [
    "TweetTagDescription.query.all()"
   ]
  },
  {
   "cell_type": "code",
   "execution_count": 17,
   "metadata": {},
   "outputs": [],
   "source": [
    "db.session.rollback()"
   ]
  },
  {
   "cell_type": "code",
   "execution_count": 22,
   "metadata": {},
   "outputs": [],
   "source": [
    "ttd = TweetTagDescription(name=\"test1\", text=\"lololol\")\n",
    "db.session.add(ttd)\n"
   ]
  },
  {
   "cell_type": "code",
   "execution_count": 23,
   "metadata": {},
   "outputs": [
    {
     "ename": "InvalidRequestError",
     "evalue": "This Session's transaction has been rolled back due to a previous exception during flush. To begin a new transaction with this Session, first issue Session.rollback(). Original exception was: (sqlite3.OperationalError) no such table: tweet_tag_description\n[SQL: INSERT INTO tweet_tag_description (name, text) VALUES (?, ?)]\n[parameters: ('test1', 'lololol')]\n(Background on this error at: http://sqlalche.me/e/e3q8)",
     "output_type": "error",
     "traceback": [
      "\u001b[0;31m---------------------------------------------------------------------------\u001b[0m",
      "\u001b[0;31mInvalidRequestError\u001b[0m                       Traceback (most recent call last)",
      "\u001b[0;32m<ipython-input-23-a8e4ec8c4c52>\u001b[0m in \u001b[0;36m<module>\u001b[0;34m\u001b[0m\n\u001b[0;32m----> 1\u001b[0;31m \u001b[0mdb\u001b[0m\u001b[0;34m.\u001b[0m\u001b[0msession\u001b[0m\u001b[0;34m.\u001b[0m\u001b[0mcommit\u001b[0m\u001b[0;34m(\u001b[0m\u001b[0;34m)\u001b[0m\u001b[0;34m\u001b[0m\u001b[0;34m\u001b[0m\u001b[0m\n\u001b[0m",
      "\u001b[0;32m~/Documents/GitHub/nlp4all/nlp4all/lib/python3.6/site-packages/sqlalchemy/orm/scoping.py\u001b[0m in \u001b[0;36mdo\u001b[0;34m(self, *args, **kwargs)\u001b[0m\n\u001b[1;32m    160\u001b[0m \u001b[0;32mdef\u001b[0m \u001b[0minstrument\u001b[0m\u001b[0;34m(\u001b[0m\u001b[0mname\u001b[0m\u001b[0;34m)\u001b[0m\u001b[0;34m:\u001b[0m\u001b[0;34m\u001b[0m\u001b[0;34m\u001b[0m\u001b[0m\n\u001b[1;32m    161\u001b[0m     \u001b[0;32mdef\u001b[0m \u001b[0mdo\u001b[0m\u001b[0;34m(\u001b[0m\u001b[0mself\u001b[0m\u001b[0;34m,\u001b[0m \u001b[0;34m*\u001b[0m\u001b[0margs\u001b[0m\u001b[0;34m,\u001b[0m \u001b[0;34m**\u001b[0m\u001b[0mkwargs\u001b[0m\u001b[0;34m)\u001b[0m\u001b[0;34m:\u001b[0m\u001b[0;34m\u001b[0m\u001b[0;34m\u001b[0m\u001b[0m\n\u001b[0;32m--> 162\u001b[0;31m         \u001b[0;32mreturn\u001b[0m \u001b[0mgetattr\u001b[0m\u001b[0;34m(\u001b[0m\u001b[0mself\u001b[0m\u001b[0;34m.\u001b[0m\u001b[0mregistry\u001b[0m\u001b[0;34m(\u001b[0m\u001b[0;34m)\u001b[0m\u001b[0;34m,\u001b[0m \u001b[0mname\u001b[0m\u001b[0;34m)\u001b[0m\u001b[0;34m(\u001b[0m\u001b[0;34m*\u001b[0m\u001b[0margs\u001b[0m\u001b[0;34m,\u001b[0m \u001b[0;34m**\u001b[0m\u001b[0mkwargs\u001b[0m\u001b[0;34m)\u001b[0m\u001b[0;34m\u001b[0m\u001b[0;34m\u001b[0m\u001b[0m\n\u001b[0m\u001b[1;32m    163\u001b[0m \u001b[0;34m\u001b[0m\u001b[0m\n\u001b[1;32m    164\u001b[0m     \u001b[0;32mreturn\u001b[0m \u001b[0mdo\u001b[0m\u001b[0;34m\u001b[0m\u001b[0;34m\u001b[0m\u001b[0m\n",
      "\u001b[0;32m~/Documents/GitHub/nlp4all/nlp4all/lib/python3.6/site-packages/sqlalchemy/orm/session.py\u001b[0m in \u001b[0;36mcommit\u001b[0;34m(self)\u001b[0m\n\u001b[1;32m   1024\u001b[0m                 \u001b[0;32mraise\u001b[0m \u001b[0msa_exc\u001b[0m\u001b[0;34m.\u001b[0m\u001b[0mInvalidRequestError\u001b[0m\u001b[0;34m(\u001b[0m\u001b[0;34m\"No transaction is begun.\"\u001b[0m\u001b[0;34m)\u001b[0m\u001b[0;34m\u001b[0m\u001b[0;34m\u001b[0m\u001b[0m\n\u001b[1;32m   1025\u001b[0m \u001b[0;34m\u001b[0m\u001b[0m\n\u001b[0;32m-> 1026\u001b[0;31m         \u001b[0mself\u001b[0m\u001b[0;34m.\u001b[0m\u001b[0mtransaction\u001b[0m\u001b[0;34m.\u001b[0m\u001b[0mcommit\u001b[0m\u001b[0;34m(\u001b[0m\u001b[0;34m)\u001b[0m\u001b[0;34m\u001b[0m\u001b[0;34m\u001b[0m\u001b[0m\n\u001b[0m\u001b[1;32m   1027\u001b[0m \u001b[0;34m\u001b[0m\u001b[0m\n\u001b[1;32m   1028\u001b[0m     \u001b[0;32mdef\u001b[0m \u001b[0mprepare\u001b[0m\u001b[0;34m(\u001b[0m\u001b[0mself\u001b[0m\u001b[0;34m)\u001b[0m\u001b[0;34m:\u001b[0m\u001b[0;34m\u001b[0m\u001b[0;34m\u001b[0m\u001b[0m\n",
      "\u001b[0;32m~/Documents/GitHub/nlp4all/nlp4all/lib/python3.6/site-packages/sqlalchemy/orm/session.py\u001b[0m in \u001b[0;36mcommit\u001b[0;34m(self)\u001b[0m\n\u001b[1;32m    489\u001b[0m \u001b[0;34m\u001b[0m\u001b[0m\n\u001b[1;32m    490\u001b[0m     \u001b[0;32mdef\u001b[0m \u001b[0mcommit\u001b[0m\u001b[0;34m(\u001b[0m\u001b[0mself\u001b[0m\u001b[0;34m)\u001b[0m\u001b[0;34m:\u001b[0m\u001b[0;34m\u001b[0m\u001b[0;34m\u001b[0m\u001b[0m\n\u001b[0;32m--> 491\u001b[0;31m         \u001b[0mself\u001b[0m\u001b[0;34m.\u001b[0m\u001b[0m_assert_active\u001b[0m\u001b[0;34m(\u001b[0m\u001b[0mprepared_ok\u001b[0m\u001b[0;34m=\u001b[0m\u001b[0;32mTrue\u001b[0m\u001b[0;34m)\u001b[0m\u001b[0;34m\u001b[0m\u001b[0;34m\u001b[0m\u001b[0m\n\u001b[0m\u001b[1;32m    492\u001b[0m         \u001b[0;32mif\u001b[0m \u001b[0mself\u001b[0m\u001b[0;34m.\u001b[0m\u001b[0m_state\u001b[0m \u001b[0;32mis\u001b[0m \u001b[0;32mnot\u001b[0m \u001b[0mPREPARED\u001b[0m\u001b[0;34m:\u001b[0m\u001b[0;34m\u001b[0m\u001b[0;34m\u001b[0m\u001b[0m\n\u001b[1;32m    493\u001b[0m             \u001b[0mself\u001b[0m\u001b[0;34m.\u001b[0m\u001b[0m_prepare_impl\u001b[0m\u001b[0;34m(\u001b[0m\u001b[0;34m)\u001b[0m\u001b[0;34m\u001b[0m\u001b[0;34m\u001b[0m\u001b[0m\n",
      "\u001b[0;32m~/Documents/GitHub/nlp4all/nlp4all/lib/python3.6/site-packages/sqlalchemy/orm/session.py\u001b[0m in \u001b[0;36m_assert_active\u001b[0;34m(self, prepared_ok, rollback_ok, deactive_ok, closed_msg)\u001b[0m\n\u001b[1;32m    292\u001b[0m                         \u001b[0;34m\"first issue Session.rollback().\"\u001b[0m\u001b[0;34m\u001b[0m\u001b[0;34m\u001b[0m\u001b[0m\n\u001b[1;32m    293\u001b[0m                         \u001b[0;34m\" Original exception was: %s\"\u001b[0m\u001b[0;34m\u001b[0m\u001b[0;34m\u001b[0m\u001b[0m\n\u001b[0;32m--> 294\u001b[0;31m                         \u001b[0;34m%\u001b[0m \u001b[0mself\u001b[0m\u001b[0;34m.\u001b[0m\u001b[0m_rollback_exception\u001b[0m\u001b[0;34m\u001b[0m\u001b[0;34m\u001b[0m\u001b[0m\n\u001b[0m\u001b[1;32m    295\u001b[0m                     )\n\u001b[1;32m    296\u001b[0m                 \u001b[0;32melif\u001b[0m \u001b[0;32mnot\u001b[0m \u001b[0mdeactive_ok\u001b[0m\u001b[0;34m:\u001b[0m\u001b[0;34m\u001b[0m\u001b[0;34m\u001b[0m\u001b[0m\n",
      "\u001b[0;31mInvalidRequestError\u001b[0m: This Session's transaction has been rolled back due to a previous exception during flush. To begin a new transaction with this Session, first issue Session.rollback(). Original exception was: (sqlite3.OperationalError) no such table: tweet_tag_description\n[SQL: INSERT INTO tweet_tag_description (name, text) VALUES (?, ?)]\n[parameters: ('test1', 'lololol')]\n(Background on this error at: http://sqlalche.me/e/e3q8)"
     ]
    }
   ],
   "source": [
    "db.session.commit()"
   ]
  },
  {
   "cell_type": "code",
   "execution_count": 20,
   "metadata": {},
   "outputs": [],
   "source": [
    "db.create_all()"
   ]
  },
  {
   "cell_type": "code",
   "execution_count": 21,
   "metadata": {},
   "outputs": [
    {
     "data": {
      "text/plain": [
       "<function sqlalchemy.expression.table(name, *columns)>"
      ]
     },
     "execution_count": 21,
     "metadata": {},
     "output_type": "execute_result"
    }
   ],
   "source": []
  },
  {
   "cell_type": "code",
   "execution_count": 12,
   "metadata": {},
   "outputs": [
    {
     "name": "stdout",
     "output_type": "stream",
     "text": [
      "something racist\n",
      "Nedlukning af regionerne flytter 1,5 mia kr fra administration til sundhed. God liberal politik 👍🏻😀🇩🇰 #dkpol\n",
      "Vi har nu landet en sundhedsreform, som sætter patienternes rettigheder i fokus, og som fjerner en stor klump unødig bøvl og bureaukrati.\n",
      "\n",
      "Læs mere her 👉 https://t.co/YEtvWqo1eL #sundpol #dkpol https://t.co/3hh5TRn6gs\n",
      "I et ny afsnit af vores podcast kan du høre, hvordan det gik, da @SociologenHD og William Kvist mødtes i en samtale, man kunne fristes til at give overskriften ’Kloge Ågerne’.\n",
      "\n",
      "Hør podcasten her 👉 https://t.co/gdIwWMuEFq https://t.co/HGvHyHpH6B\n",
      "“Udenrigsminister Anders Samuelsen viser en ny dansk stil i FN. Det er godt nyt for menneskerettighederne.” #dkpol #dkmedier \n",
      "\n",
      "https://t.co/xy6yNQElr1\n",
      "Det er fundamentalt forkert, at Israel som det eneste land i verden har et helt dagsordenspunkt dedikeret til sig i FN’s Menneskerettighedsråd. Derfor vil Danmark i morgen - af princip - stemme NEJ til alle resolutioner under Rådets dagsordenspunkt 7. #dkpol\n",
      "Livet på Jorden trives absolut bedst i et klima, der er næsten præcis som i nutiden. Bliver der få grader varmere eller koldere, falder biodiversiteten på kloden dramatisk. Det indikerer et stort danskledet studie med fokus på livet i klodens forhistorie. https://t.co/oaRkm5YuxE\n",
      "Teksten her er lidt omstændig. Men tilsvarende smågenial. Og det endda med et så nørde-teknisk emne som trafikal infrastruktur-investeringer. @ClausJansson er spot on i hans analyse af prioriteringen mellem bil og tog. Bedømt på alle tre bundlinjer. #dkpol https://t.co/xTeYgNDTLU\n",
      "Kampgejsten er tilbage i (amerikansk) politik #dkpol #dkgreen https://t.co/Zn74V3QjXz\n",
      "Kære @alternativet_ . Det er simpelthen den vigtigste #dkpol-udmelding for mig rent professionelt i lange tider. \n",
      "\n",
      "Afkriminalisering af stofbrug, ja tak!\n",
      "\n",
      "Og jeg ved, at @rasmusnordqvist med @EU_Spring går til EP med samme dagsorden. Det er så vigtigt 💚 #dksocial #dksundhed https://t.co/H7kRGYHONN\n",
      "@ENPhonda @uffeelbaek @alan_pini @24syv Vi var ikke inviteret med til forhandlingerne, desværre. Men jo vi vil gerne være med til at styrke indsatsen endnu mere.\n",
      "Vi må tage forbehold for eller melde os ud af statsløsekonventionen, idet medlemskabet forhindrer os i at tage statsborgerskabet fra visse Syrienskrigere. Vi skal sikre, at radikaliserede islamister ikke kommer “hjem” til Danmark #dkpol https://t.co/L02KeIOUD5\n",
      "Så er der nyt ugebrev fra @Kristianthdahl om Sundhedsreformen #dkpol https://t.co/3Bh6npeBUJ\n",
      "Finansieringen af sundhedsreformen - et resultat af faldende udgifter til udlændingeområdet. Igen et eksempel på, at de mange stramninger virker. Færre udgifter til udlændinge, bedre velfærd til danskerne. Stram udlændingepolitik og ægte velfærd hænger uløseligt sammen. #dkpol\n",
      "Stærk aftale til gavn for patienterne! Glæder mig at der bl.a. bliver ekstra akut beredskaber i hele Danmark samt flere læger og sygeplejersker. Stærkt arbejde @Kristianthdahl og @Blixt22 #dkpol #sundpol\n",
      "Akutberedskaber tæt på borgerne, flere sygeplejesker, en nærhedsfond på 8,5 milliarder og flere læger. Når det væsentligste argument imod en reform er at man mister 205 politikere som ingen kender, ja så ved man at man har lavet noget godt. #sundpol #dkpol\n",
      "Dejligt med ros fra min borgmester for at have lyttet og ændret i sundhedsreformen #dkpol https://t.co/m04b80oGge\n",
      "På tur for at fortælle om sundhedsaftalen. Første stop var Herning Folkeblad og et møde med borgere og læsere. Vi skaber et stærkere sundhedsvæsen - tættere på dig #dkpol https://t.co/k0oH2axYvw\n",
      "Med den her aftale får Danmark et tilsyn med finansiel kriminalitet i europæisk topklasse. Det manglede også bare! #dkpol\n",
      "https://t.co/lOUcosjfS8\n",
      "Danmark og Sverige har fælles grundlæggende værdier og ser ens på mange ting. Godt at have tid til en god snak med min svenske kollega Löfven i dag i Stockholm - og give hånd på at fortsætte det gode samarbejde fremover #dkpol ⁦@SwedishPM⁩ https://t.co/RDmbEq9zd2\n",
      "Her til aften til velbesøgt debat i @laegeforeningen Vi nåede godt rundt om især #sundhedsreform og økonomiske prioritering. Enighed om noget og uenighed meget andet. @venstredk står i modsætning til mange andre vagt om #patientrettigheder #dkpol https://t.co/p4MsTRowmb\n",
      "Social- og Indenrigsministeriet har nu officielt godkendt os til opstilling. Vi får listebogstav D for Danmark. Vi glæder os. #DKPOL\n",
      "Vi er stolte, glade og SÅ klar til at gøre en forskel for Danmark. Tak til alle vores stillere! https://t.co/Z0XkZkaFf0 #dkpol\n",
      "\"Et asylstop er et ’fuldstændigt ufravigeligt krav’ \" #dkpol \n",
      "\n",
      "https://t.co/7ihQWifV3k\n",
      "Fri os for de dumme bortforklaringer. https://t.co/bimsI5Zc3E #dkpol\n",
      "@BjerknsC @Toerning @PernilleVermund Jo naturligvis. Meget. Især indvandringen fra islamiske lande har vist sig særligt problematisk.\n",
      ".@oestergaard er gået i skarp træning. På lørdag svømmer han fra symbol-øen Lindholm til Kalvehave. I protest mod, at vi er ved at drukne i symbolpolitik.\n",
      "Vi er nogle, der tør svømme mod strømmen.\n",
      "\n",
      "#FREMAD #dkpol https://t.co/PxTqaScExt\n",
      "Nyt forlig om bekæmpelse af finansiel kriminalitet er nu en realitet. Gode radikale fingeraftryk: Banditter i habitter straffes hårdere, flere ressourcer til Finanstilsynet og nye redskaber i deres værktøjskasse. Tiltrængt og på høje tid.\n",
      "#dkpol\n",
      "Stort flertal for at styrke energi agenturet. Det giver mere dansk vindmølle strøm ud i stikkontakterne over Europa! Dejligt når det lykkes med konkret lovgivning der skubber Europa i en mere grøn retning #eudk #dkgreen https://t.co/Pqxzo0rfek\n",
      "Så er det nok en virkelig sløj idé at sende arbejdende flygtninge hjem (VLAK+DF), gøre udenlandsk rekruttering sværere (S+DF) og sænke pensionsalder for ikke-nedslidte (S+?)  #dkpol https://t.co/3nByPoSLhw\n",
      "Så er det på med rullekraven - vi har et EP-valg der skal vindes fra nord til syd❤️🇪🇺 https://t.co/FdfsH7z0lZ\n",
      "Endnu et udenomssvar om klima-konsekvenserne af regeringens motorvejs-plan. \n",
      "De har simpelthen ikke regnet på på konsekvenserne af deres egen plan. \n",
      "Prøv lige at kalde den regering grøn én gang til. 😡 https://t.co/OALr8TDD3e\n",
      "Der er en række gode elementer i dagens aftale om styrket indsats mod finansiel kriminalitet. Men aftalen tager ikke fat om problemernes rod https://t.co/TFEyP9wHcG #dkpol #dkfinans\n",
      "Enig! Der skal lukkes ned for våben til Saudi-Arabien. Og strammes op på virksomheder og pensionskassers investeringer. https://t.co/YGfokqMoxY\n",
      "Nyt fra Sverige understreger, at bankskandalerne ikke handler om enkeltpersoners dårlig moral, men om den voksende sammensmeltning mellem finanskapitalen og organiseret kriminalitet. Det er tale om en systemisk fejl, som kræver systemiske løsninger. #dkpol https://t.co/2n0IE23uIL\n",
      "Fantastisk som kravet om minimumsnormeringer breder sig - ikke mindst i Midt- og Vestjylland. Indtil videre demonstrationer i 6 af 9 kommuner i Vestjyllands storkreds. Forældrenes krav har Enhedslistens fulde opbakning. #dkpol #bhvchat #minimumsnormeringer https://t.co/EQl7qPqyAL\n",
      "Mette Frederiksen (S) ligger i top, når man spørger folk, hvem de har tillid til i spørgsmålet om nedslidtes tilbagetrækning fra arbejdsmarkedet.\n",
      "\n",
      "https://t.co/mW4nIb21L5\n",
      "Theresa May har meddelt, at hun træder tilbage, hvis parlamentet stemmer for hendes Brexit-aftale. Jeg håber meget, at parlamentet nu vil kunne samles om, at hard brexit forhindres, og at UK kan få en ordnet skilsmisse fra EU. #dkpol @Spolitik\n",
      "Danmark har noget af verdens bedste drikkevand. \n",
      "Desværre vil regeringen spare 500.000.000 kroner på området med deres sundhedsreform.\n",
      "Det siger vi nej til. \n",
      "Vi skal passe på vores grundvand.\n",
      "#dkpol @RabjergMadsen https://t.co/wy8Mi9PAEL\n",
      "Op med humøret, Lars 😃\n",
      "#dkpol https://t.co/5ggu7C4uja\n",
      "@venstredk @Spolitik Man kommer jo helt i tvivl om Venstres kampagne-afdeling var bortrejst store dele af sidste efterår. Som service hermed link t @Spolitik sundhedsudspil fra oktober m en lang række konkrete forslag, fra nærhospitaler t ret t barselshotel for nybagte mødre https://t.co/zoMV9T6DM7 https://t.co/DroS4cU2Ph\n",
      "34 demonstrationer rundt i hele landet! Den 6. april viser forældre og alle andre der bekymrer sig om børns vilkår i daginstitutionerne, at nu er nok nok! @jacobmark_sf er for udmyg til at tage noget af æren, men han er altså i den grad børnenes politiker #hvorerderenvoksen https://t.co/3Ndzrj75zW\n",
      "Børn skal ikke have sovemedicin, hvis der findes et bedre alternativ. Alligevel fortsætter en praksis, hvor børn skal afprøve medicin, før de eksempelvis kan få en kugledyne. Det skal altså stoppes - med eller uden ministerens hjælp\n",
      "https://t.co/HHxFTP7nGT #sundpol #dkpol\n",
      "@LisbethBPoulsen Tak, Lisbeth 😊👍. Endnu en gang stor ros for dit meget store og konstruktive arbejde, som endnu en gang har givet helt konkrete SF-aftryk i aftalen. Bla. forårsrengøringen med inspektioner i alle store banker i 2019. Det har klart forbedret aftalen ifht. vores første udspil 👍\n",
      "Jeg er stolt af den aftale, vi netop har landet i København! SF har været med til at sikre penge til nye daginstitutioner, lægehuse i byens udsatte boligområder og så får pårørende lettere ved at kommunikere med byens plejehjem via en app. #sundpol #dkpol #kompoldk #Kbhpol\n",
      "Seks klimahjerter til @PiaOlsen for at efterlyse mere cykel/off transport    #pedalkraft #lastmile @SFpolitik #dkpol https://t.co/tAIyppbURB\n",
      "Vi sætter nu hårdere ind mod finansiel kriminalitet! @RasmusJarlov og hele forligskredsen er blevet enige om hårdere straffe, et styrket finanstilsyn og meget mere. #dkpol #dkbiz #dkkrim  https://t.co/TIXtSLuX6X\n",
      "En ny opgørelse fra Danmarks Statistik viser nuancerne i vores udlændingepolitik.\n",
      "\n",
      "Udviklingen siden 2015 er virkelig positiv!\n",
      "\n",
      "↗️ Flere og flere udlændinge kommer til Danmark for at arbejde\n",
      "\n",
      "↘️ Langt færre søger asyl og bliver familiesammenført\n",
      "\n",
      "#dkpol \n",
      "\n",
      "https://t.co/NAVNLmPVpW https://t.co/DhobwNEfgB\n",
      "Bredt flertal i Folketinget indgår forlig om styrkelse af indsatsen mod finansiel kriminalitet #dkpol https://t.co/eR9XuFczaL\n",
      "Lov om kriminalisering af psykisk vold er netop vedtaget med opbakning fra alle Folketingets partier 💚👏\n",
      "\n",
      "En lov der endelig ligestiller blå mærker med ar på sjælen. Et vigtigt skridt.\n",
      "\n",
      "Tak til de partier og organisationer, der har været med til at bane vejen #dkpol https://t.co/UIe6bghh66\n",
      "I fremtiden skal de lette behandlinger flytte tæt på borgerne, siger socialministeren #dkpol #sundhedsreform #sundpol https://t.co/iS05Co3jqT https://t.co/Kp72iMtc8F\n"
     ]
    }
   ],
   "source": [
    "for tweet in Tweet.query.all():\n",
    "    print(tweet.content)"
   ]
  },
  {
   "cell_type": "code",
   "execution_count": null,
   "metadata": {},
   "outputs": [],
   "source": []
  }
 ],
 "metadata": {
  "kernelspec": {
   "display_name": "Python 3",
   "language": "python",
   "name": "python3"
  },
  "language_info": {
   "codemirror_mode": {
    "name": "ipython",
    "version": 3
   },
   "file_extension": ".py",
   "mimetype": "text/x-python",
   "name": "python",
   "nbconvert_exporter": "python",
   "pygments_lexer": "ipython3",
   "version": "3.7.1"
  },
  "varInspector": {
   "cols": {
    "lenName": 16,
    "lenType": 16,
    "lenVar": 40
   },
   "kernels_config": {
    "python": {
     "delete_cmd_postfix": "",
     "delete_cmd_prefix": "del ",
     "library": "var_list.py",
     "varRefreshCmd": "print(var_dic_list())"
    },
    "r": {
     "delete_cmd_postfix": ") ",
     "delete_cmd_prefix": "rm(",
     "library": "var_list.r",
     "varRefreshCmd": "cat(var_dic_list()) "
    }
   },
   "types_to_exclude": [
    "module",
    "function",
    "builtin_function_or_method",
    "instance",
    "_Feature"
   ],
   "window_display": false
  }
 },
 "nbformat": 4,
 "nbformat_minor": 2
}
