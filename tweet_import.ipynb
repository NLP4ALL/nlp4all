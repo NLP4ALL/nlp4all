{
 "cells": [
  {
   "cell_type": "code",
   "execution_count": null,
   "metadata": {
    "ExecuteTime": {
     "end_time": "2019-06-30T11:43:13.287396Z",
     "start_time": "2019-06-30T11:43:13.283300Z"
    }
   },
   "outputs": [],
   "source": [
    "import tweepy\n",
    "consumer_key=\"***REMOVED***\"\n",
    "consumer_secret=\"***REMOVED***\"\n",
    "access_token=\"***REMOVED***\"\n",
    "access_token_secret=\"***REMOVED***\"\n",
    "auth = tweepy.OAuthHandler(consumer_key, consumer_secret)\n",
    "auth.set_access_token(access_token, access_token_secret)\n",
    "api = tweepy.API(auth)\n",
    "# api.user_timeline()"
   ]
  },
  {
   "cell_type": "code",
   "execution_count": null,
   "metadata": {
    "ExecuteTime": {
     "end_time": "2019-06-30T11:43:19.603057Z",
     "start_time": "2019-06-30T11:43:18.514834Z"
    }
   },
   "outputs": [],
   "source": [
    "twitter_handle = 'danskdf1995'\n",
    "counter = 0\n",
    "for status in tweepy.Cursor(api.user_timeline, screen_name=twitter_handle, tweet_mode=\"extended\").items():\n",
    "    print(counter)\n",
    "    counter = counter + 1\n",
    "    print(status._json)\n",
    "    if counter > 10:\n",
    "        break"
   ]
  },
  {
   "cell_type": "code",
   "execution_count": null,
   "metadata": {
    "ExecuteTime": {
     "start_time": "2019-04-12T11:00:17.098Z"
    }
   },
   "outputs": [],
   "source": [
    "\n",
    "import os\n",
    "os._exit(00)\n"
   ]
  },
  {
   "cell_type": "code",
   "execution_count": null,
   "metadata": {
    "ExecuteTime": {
     "end_time": "2019-04-25T05:32:36.368354Z",
     "start_time": "2019-04-25T05:32:36.083282Z"
    }
   },
   "outputs": [],
   "source": [
    "from nlp4all.models import TweetTagCategory, Tweet, User, Organization, Project, BayesianAnalysis\n",
    "from nlp4all import db, bcrypt\n",
    "import json\n",
    "from datetime import datetime\n",
    "import time\n",
    "import json\n",
    "\n"
   ]
  },
  {
   "cell_type": "code",
   "execution_count": null,
   "metadata": {
    "ExecuteTime": {
     "end_time": "2019-04-25T05:41:05.703851Z",
     "start_time": "2019-04-25T05:41:05.698459Z"
    }
   },
   "outputs": [],
   "source": [
    "[t.name for t  in TweetTagCategory.query.all()]"
   ]
  },
  {
   "cell_type": "code",
   "execution_count": null,
   "metadata": {
    "ExecuteTime": {
     "end_time": "2019-04-25T05:33:51.689032Z",
     "start_time": "2019-04-25T05:33:51.684399Z"
    }
   },
   "outputs": [],
   "source": [
    "\n",
    "org = Organization.query.first()\n",
    "org.categories = TweetTagCategory.query.all()[:3]"
   ]
  },
  {
   "cell_type": "code",
   "execution_count": null,
   "metadata": {
    "ExecuteTime": {
     "end_time": "2019-04-25T05:39:15.088786Z",
     "start_time": "2019-04-25T05:39:15.082111Z"
    }
   },
   "outputs": [],
   "source": [
    "project = Project.query.first()\n",
    "project.categories = TweetTagCategory.query.all()[:3]\n",
    "# user = User(name=\"ahjorth\", password=bcrypt.generate_password_hash(\"***REMOVED***\"), email=\"arthur@cs.au.dk\")\n",
    "# db.session.add(user)"
   ]
  },
  {
   "cell_type": "code",
   "execution_count": null,
   "metadata": {
    "ExecuteTime": {
     "end_time": "2019-04-25T05:39:35.260559Z",
     "start_time": "2019-04-25T05:39:35.254421Z"
    }
   },
   "outputs": [],
   "source": [
    "db.session.add(project)\n",
    "db.session.commit()\n",
    "\n",
    "# db.session.add(org)\n",
    "# db.session.commit()\n",
    "# user = User(username=\"ahjorth\", organization=1, password=bcrypt.generate_password_hash(\"***REMOVED***\"), email=\"arthur@cs.au.dk\")\n",
    "# db.session.add(user)\n",
    "# db.session.commit()\n",
    "\n",
    "# user = User(username=\"ahjorth2\", organization=1, password=bcrypt.generate_password_hash(\"***REMOVED***\"), email=\"arthur.hjorth@u.northwestern.edu\")\n",
    "# db.session.add(user)\n",
    "# db.session.commit()\n"
   ]
  },
  {
   "cell_type": "code",
   "execution_count": null,
   "metadata": {
    "ExecuteTime": {
     "end_time": "2019-04-25T05:39:52.047810Z",
     "start_time": "2019-04-25T05:39:52.041739Z"
    }
   },
   "outputs": [],
   "source": [
    "project2 = Project.query.first()\n",
    "project2.categories"
   ]
  },
  {
   "cell_type": "code",
   "execution_count": null,
   "metadata": {
    "ExecuteTime": {
     "end_time": "2019-04-25T05:35:39.618328Z",
     "start_time": "2019-04-25T05:35:39.609724Z"
    }
   },
   "outputs": [],
   "source": [
    "TweetTagCategory.query.first().categories"
   ]
  },
  {
   "cell_type": "code",
   "execution_count": null,
   "metadata": {},
   "outputs": [],
   "source": []
  },
  {
   "cell_type": "code",
   "execution_count": null,
   "metadata": {
    "ExecuteTime": {
     "end_time": "2019-04-09T10:35:30.438529Z",
     "start_time": "2019-04-09T10:35:30.427577Z"
    }
   },
   "outputs": [],
   "source": [
    "Tweet.query.all()"
   ]
  },
  {
   "cell_type": "code",
   "execution_count": null,
   "metadata": {
    "ExecuteTime": {
     "end_time": "2019-04-09T10:26:16.495823Z",
     "start_time": "2019-04-09T10:26:16.493483Z"
    }
   },
   "outputs": [],
   "source": [
    "# d ={'a' : 3, 'b' : 2}\n",
    "# json.dumps(d)\n",
    "# bm = BayesianAnalysis(data=json.dumps(d))\n",
    "# db.session.add(bm)\n",
    "# db.session.commit()\n",
    "# for b in BayesianModel.query.all():\n",
    "#     print(b.data)\n"
   ]
  },
  {
   "cell_type": "code",
   "execution_count": null,
   "metadata": {
    "ExecuteTime": {
     "end_time": "2019-04-09T10:37:35.780660Z",
     "start_time": "2019-04-09T10:37:10.879073Z"
    }
   },
   "outputs": [],
   "source": [
    "# this script will import tweets. it takes a list of dictionaries, and puts them\n",
    "# in the database with the following mappings:\n",
    "## TweetTagDescription\n",
    "## name = input.twitter_handle\n",
    "## text = input.full_text\n",
    "\n",
    "## Tweet\n",
    "## content = input.full_text\n",
    "## twitter_handle = input.handle\n",
    "## url = input.id  (look below for processing)\n",
    "## date_posted = input.created_at (look below for processing)\n",
    "## true_tag = TweetTagDescription(input.twitter_handle)\n",
    "from nlp4all.models import TweetTagCategory, Tweet, User, Organization, Project, BayesianAnalysis\n",
    "from nlp4all import db, bcrypt\n",
    "import json\n",
    "from datetime import datetime\n",
    "import time\n",
    "import json\n",
    "\n",
    "\n",
    "import os\n",
    "\n",
    "db.drop_all()\n",
    "db.create_all()\n",
    "\n",
    "\n",
    "data_dir = 'tweet_data/'\n",
    "files = [f for f in os.listdir(data_dir) if '_out.json' in f]\n",
    "\n",
    "existing_tag_names = []\n",
    "for f in files:\n",
    "    with open(data_dir+f) as inf:\n",
    "        counter = 0\n",
    "        for line in inf.readlines()[:25]:\n",
    "            indict = json.loads(line)\n",
    "#             add cateogyr if it does not already exist\n",
    "            if indict['twitter_handle'] not in existing_tag_names:\n",
    "                category = TweetTagCategory.query.filter_by(name = indict['twitter_handle']).first()\n",
    "                if not category:\n",
    "                    category = TweetTagCategory(name = indict['twitter_handle'], description = \"Tweet from \" + indict['twitter_handle'])\n",
    "                    db.session.add(category)\n",
    "                    db.session.commit()\n",
    "                existing_tag_names.append(indict['twitter_handle'])\n",
    "            category = TweetTagCategory.query.filter_by(name = indict['twitter_handle']).first()\n",
    "            date_str = indict['time']\n",
    "            date_rep = '%a %b %d %H:%M:%S %z %Y'\n",
    "            unix_time = time.mktime(datetime.strptime(date_str, date_rep).timetuple())\n",
    "            timestamp = datetime.fromtimestamp(unix_time)\n",
    "            a_tweet = Tweet(\n",
    "                time_posted = timestamp,\n",
    "                category = category.id,\n",
    "                handle = indict['twitter_handle'],\n",
    "                text= indict['full_text'],\n",
    "                words = [w for w in indict['full_text'].lower().split() if \"#\" not in w and \"http\" not in w],\n",
    "                links = [w for w in indict['full_text'].split() if \"http\" in w],\n",
    "                hashtags = [w for w in indict['full_text'].split() if \"#\" in w],\n",
    "                url = \"https://twitter.com/\"+indict['twitter_handle']+\"/\"+str(indict['id'])\n",
    "                )\n",
    "            \n",
    "            db.session.add(a_tweet)\n",
    "\n",
    "\n",
    "db.session.commit()\n",
    "db.session.close()"
   ]
  },
  {
   "cell_type": "code",
   "execution_count": null,
   "metadata": {
    "ExecuteTime": {
     "end_time": "2019-04-09T10:35:16.224203Z",
     "start_time": "2019-04-09T10:35:16.220817Z"
    }
   },
   "outputs": [],
   "source": [
    "Tweet.query.first().words"
   ]
  },
  {
   "cell_type": "code",
   "execution_count": null,
   "metadata": {
    "ExecuteTime": {
     "end_time": "2019-04-09T10:35:09.895362Z",
     "start_time": "2019-04-09T10:35:09.892761Z"
    }
   },
   "outputs": [],
   "source": [
    "t"
   ]
  },
  {
   "cell_type": "code",
   "execution_count": null,
   "metadata": {},
   "outputs": [],
   "source": []
  },
  {
   "cell_type": "code",
   "execution_count": null,
   "metadata": {},
   "outputs": [],
   "source": []
  },
  {
   "cell_type": "code",
   "execution_count": null,
   "metadata": {},
   "outputs": [],
   "source": [
    "\n",
    "import os\n",
    "os._exit(00)\n"
   ]
  },
  {
   "cell_type": "code",
   "execution_count": null,
   "metadata": {},
   "outputs": [],
   "source": [
    "from nlp4all import db, bcrypt\n",
    "from nlp4all.models import User, Role, Organization, Project\n",
    "from nlp4all.models import TweetTagCategory, Tweet, User, Organization, Project, BayesianAnalysis\n",
    "from nlp4all import db, bcrypt\n",
    "import json, os\n",
    "from datetime import datetime\n",
    "import time\n",
    "import json\n",
    "\n",
    "\n",
    "\n",
    "db.drop_all()\n",
    "db.create_all()\n",
    "db.session.commit()\n",
    "\n",
    "admin_role = Role(name='Admin')\n",
    "db.session.add(admin_role)\n",
    "db.session.commit()\n",
    "\n",
    "\n",
    "student_role = Role(name='Student')\n",
    "db.session.add(student_role)\n",
    "db.session.commit()\n",
    "\n",
    "\n",
    "teacher_role = Role(name='Teacher')\n",
    "db.session.add(teacher_role)\n",
    "db.session.commit()\n",
    "\n",
    "\n",
    "\n",
    "hp = bcrypt.generate_password_hash(\"***REMOVED***\")\n",
    "user = User(username=\"arthurhjorth\", email=\"arthur.hjorth@stx.oxon.org\", password=hp)\n",
    "user.roles = [admin_role,]\n",
    "db.session.add(user)\n",
    "\n",
    "org = Organization(name=\"UBI/CCTD\")\n",
    "db.session.add(org)\n",
    "db.session.commit()\n",
    "\n",
    "user = User(username=\"arthurhjorth_teacher\", email=\"arthur.hjorth@u.northwestern.edu\", password=hp, organizations=[org,])\n",
    "user.roles = [teacher_role,]\n",
    "db.session.add(user)\n",
    "user = User(username=\"arthurhjorth_student\", email=\"hermeshjorth2011@u.northwestern.edu\", password=hp, organizations=[org,])\n",
    "user.roles = [student_role,]\n",
    "db.session.add(user)\n",
    "db.session.commit()\n",
    "\n",
    "\n",
    "\n",
    "data_dir = 'tweet_data/'\n",
    "files = [f for f in os.listdir(data_dir) if '_out.json' in f]\n",
    "\n",
    "existing_tag_names = []\n",
    "for f in files:\n",
    "    with open(data_dir+f) as inf:\n",
    "        counter = 0\n",
    "        for line in inf.readlines()[:25]:\n",
    "            indict = json.loads(line)\n",
    "#             add cateogyr if it does not already exist\n",
    "            if indict['twitter_handle'] not in existing_tag_names:\n",
    "                category = TweetTagCategory.query.filter_by(name = indict['twitter_handle']).first()\n",
    "                if not category:\n",
    "                    category = TweetTagCategory(name = indict['twitter_handle'], description = \"Tweet from \" + indict['twitter_handle'])\n",
    "                    db.session.add(category)\n",
    "                    db.session.commit()\n",
    "                existing_tag_names.append(indict['twitter_handle'])\n",
    "            category = TweetTagCategory.query.filter_by(name = indict['twitter_handle']).first()\n",
    "            date_str = indict['time']\n",
    "            date_rep = '%a %b %d %H:%M:%S %z %Y'\n",
    "            unix_time = time.mktime(datetime.strptime(date_str, date_rep).timetuple())\n",
    "            timestamp = datetime.fromtimestamp(unix_time)\n",
    "            a_tweet = Tweet(\n",
    "                time_posted = timestamp,\n",
    "                category = category.id,\n",
    "                handle = indict['twitter_handle'],\n",
    "                text= indict['full_text'],\n",
    "                words = [w for w in indict['full_text'].lower().split() if \"#\" not in w and \"http\" not in w],\n",
    "                links = [w for w in indict['full_text'].split() if \"http\" in w],\n",
    "                hashtags = [w for w in indict['full_text'].split() if \"#\" in w],\n",
    "                url = \"https://twitter.com/\"+indict['twitter_handle']+\"/\"+str(indict['id'])\n",
    "                )\n",
    "            \n",
    "            db.session.add(a_tweet)\n",
    "\n",
    "\n",
    "db.session.commit()\n",
    "db.session.close()\n",
    "\n",
    "\n",
    "org = Organization.query.first()\n",
    "project = Project(name=\"DF og Ehl\", organization=org.id)\n",
    "db.session.add(project)\n",
    "db.session.commit()\n",
    "\n",
    "print(Tweet.query.all())\n",
    "\n",
    "for t in Tweet.query.all():\n",
    "    print(t)"
   ]
  },
  {
   "cell_type": "code",
   "execution_count": null,
   "metadata": {},
   "outputs": [],
   "source": [
    " d = datetime('')"
   ]
  },
  {
   "cell_type": "code",
   "execution_count": null,
   "metadata": {},
   "outputs": [],
   "source": [
    "dmindb.session.close()"
   ]
  },
  {
   "cell_type": "code",
   "execution_count": null,
   "metadata": {},
   "outputs": [],
   "source": [
    "dt = datetime.now()\n",
    "tweet.date_posted = dt\n",
    "\n",
    "db.session.add(tweet)"
   ]
  },
  {
   "cell_type": "code",
   "execution_count": null,
   "metadata": {},
   "outputs": [],
   "source": [
    "db.session.commit()"
   ]
  },
  {
   "cell_type": "code",
   "execution_count": null,
   "metadata": {},
   "outputs": [],
   "source": [
    "db.session.close()"
   ]
  },
  {
   "cell_type": "code",
   "execution_count": null,
   "metadata": {},
   "outputs": [],
   "source": [
    "db.drop_all()"
   ]
  },
  {
   "cell_type": "code",
   "execution_count": null,
   "metadata": {},
   "outputs": [],
   "source": [
    "TweetTagDescription.query.all()"
   ]
  },
  {
   "cell_type": "code",
   "execution_count": null,
   "metadata": {},
   "outputs": [],
   "source": [
    "db.session.rollback()"
   ]
  },
  {
   "cell_type": "code",
   "execution_count": null,
   "metadata": {},
   "outputs": [],
   "source": [
    "ttd = TweetTagDescription(name=\"test1\", text=\"lololol\")\n",
    "db.session.add(ttd)\n"
   ]
  },
  {
   "cell_type": "code",
   "execution_count": null,
   "metadata": {},
   "outputs": [],
   "source": [
    "db.session.commit()"
   ]
  },
  {
   "cell_type": "code",
   "execution_count": null,
   "metadata": {},
   "outputs": [],
   "source": [
    "db.create_all()"
   ]
  },
  {
   "cell_type": "code",
   "execution_count": null,
   "metadata": {},
   "outputs": [],
   "source": []
  },
  {
   "cell_type": "code",
   "execution_count": null,
   "metadata": {},
   "outputs": [],
   "source": [
    "for tweet in Tweet.query.all():\n",
    "    print(tweet.content)"
   ]
  },
  {
   "cell_type": "code",
   "execution_count": null,
   "metadata": {},
   "outputs": [],
   "source": []
  }
 ],
 "metadata": {
  "kernelspec": {
   "display_name": "Python 3.8.5 ('datas')",
   "language": "python",
   "name": "python3"
  },
  "language_info": {
   "codemirror_mode": {
    "name": "ipython",
    "version": 3
   },
   "file_extension": ".py",
   "mimetype": "text/x-python",
   "name": "python",
   "nbconvert_exporter": "python",
   "pygments_lexer": "ipython3",
   "version": "3.8.5"
  },
  "varInspector": {
   "cols": {
    "lenName": 16,
    "lenType": 16,
    "lenVar": 40
   },
   "kernels_config": {
    "python": {
     "delete_cmd_postfix": "",
     "delete_cmd_prefix": "del ",
     "library": "var_list.py",
     "varRefreshCmd": "print(var_dic_list())"
    },
    "r": {
     "delete_cmd_postfix": ") ",
     "delete_cmd_prefix": "rm(",
     "library": "var_list.r",
     "varRefreshCmd": "cat(var_dic_list()) "
    }
   },
   "types_to_exclude": [
    "module",
    "function",
    "builtin_function_or_method",
    "instance",
    "_Feature"
   ],
   "window_display": false
  },
  "vscode": {
   "interpreter": {
    "hash": "624c6eb561bd2ac069c6e5febf2b7131a353175048e605d37169059546c90790"
   }
  }
 },
 "nbformat": 4,
 "nbformat_minor": 2
}
