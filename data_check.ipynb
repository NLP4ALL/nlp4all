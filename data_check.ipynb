{
 "cells": [
  {
   "cell_type": "code",
   "execution_count": 29,
   "id": "82f2e58c",
   "metadata": {
    "scrolled": true
   },
   "outputs": [
    {
     "name": "stdout",
     "output_type": "stream",
     "text": [
      "Package             Version\n",
      "------------------- ---------\n",
      "amqp                5.0.6\n",
      "appnope             0.1.2\n",
      "argon2-cffi         20.1.0\n",
      "asgiref             3.2.10\n",
      "async-generator     1.10\n",
      "attrs               21.2.0\n",
      "backcall            0.2.0\n",
      "bcrypt              3.2.0\n",
      "billiard            3.6.4.0\n",
      "bleach              3.3.0\n",
      "blinker             1.4\n",
      "celery              5.0.5\n",
      "certifi             2020.6.20\n",
      "cffi                1.14.3\n",
      "chardet             3.0.4\n",
      "click               7.1.2\n",
      "click-didyoumean    0.0.3\n",
      "click-plugins       1.1.1\n",
      "click-repl          0.1.6\n",
      "cycler              0.10.0\n",
      "decorator           5.0.7\n",
      "defusedxml          0.7.1\n",
      "Django              3.1.2\n",
      "dnspython           2.0.0\n",
      "email-validator     1.1.1\n",
      "entrypoints         0.3\n",
      "Flask               1.1.2\n",
      "Flask-Bcrypt        0.7.1\n",
      "Flask-Email         1.4.4\n",
      "Flask-Login         0.5.0\n",
      "Flask-Mail          0.9.1\n",
      "Flask-SQLAlchemy    2.4.4\n",
      "Flask-WTF           0.14.3\n",
      "gensim              4.0.1\n",
      "idna                2.10\n",
      "image               1.5.33\n",
      "ipykernel           5.5.4\n",
      "ipython             7.23.1\n",
      "ipython-genutils    0.2.0\n",
      "ipywidgets          7.6.3\n",
      "itsdangerous        1.1.0\n",
      "jedi                0.18.0\n",
      "Jinja2              2.11.2\n",
      "joblib              1.0.1\n",
      "jsonschema          3.2.0\n",
      "jupyter             1.0.0\n",
      "jupyter-client      6.1.12\n",
      "jupyter-console     6.4.0\n",
      "jupyter-core        4.7.1\n",
      "jupyterlab-pygments 0.1.2\n",
      "jupyterlab-widgets  1.0.0\n",
      "kiwisolver          1.3.1\n",
      "kombu               5.0.2\n",
      "MarkupSafe          1.1.1\n",
      "matplotlib          3.4.1\n",
      "matplotlib-inline   0.1.2\n",
      "mistune             0.8.4\n",
      "nbclient            0.5.3\n",
      "nbconvert           6.0.7\n",
      "nbformat            5.1.3\n",
      "nest-asyncio        1.5.1\n",
      "notebook            6.3.0\n",
      "numpy               1.20.2\n",
      "oauthlib            3.1.0\n",
      "packaging           20.9\n",
      "pandocfilters       1.4.3\n",
      "parso               0.8.2\n",
      "pexpect             4.8.0\n",
      "pickleshare         0.7.5\n",
      "Pillow              8.0.1\n",
      "pip                 21.1.1\n",
      "prometheus-client   0.10.1\n",
      "prompt-toolkit      3.0.18\n",
      "ptyprocess          0.7.0\n",
      "pycparser           2.20\n",
      "Pygments            2.9.0\n",
      "pyparsing           2.4.7\n",
      "pyrsistent          0.17.3\n",
      "PySocks             1.7.1\n",
      "python-dateutil     2.8.1\n",
      "pytz                2020.1\n",
      "pyzmq               22.0.3\n",
      "qtconsole           5.1.0\n",
      "QtPy                1.9.0\n",
      "redis               3.5.3\n",
      "requests            2.24.0\n",
      "requests-oauthlib   1.3.0\n",
      "scikit-learn        0.24.1\n",
      "scipy               1.6.3\n",
      "Send2Trash          1.5.0\n",
      "setuptools          44.0.0\n",
      "six                 1.15.0\n",
      "sklearn             0.0\n",
      "smart-open          5.0.0\n",
      "SQLAlchemy          1.3.20\n",
      "sqlparse            0.4.1\n",
      "terminado           0.9.4\n",
      "testpath            0.4.4\n",
      "threadpoolctl       2.1.0\n",
      "tornado             6.1\n",
      "traitlets           5.0.5\n",
      "tweepy              3.9.0\n",
      "urllib3             1.25.11\n",
      "vine                5.0.0\n",
      "wcwidth             0.2.5\n",
      "webencodings        0.5.1\n",
      "Werkzeug            1.0.1\n",
      "wheel               0.35.1\n",
      "widgetsnbextension  3.5.1\n",
      "WTForms             2.3.3\n",
      "Note: you may need to restart the kernel to use updated packages.\n"
     ]
    }
   ],
   "source": [
    "pip list"
   ]
  },
  {
   "cell_type": "code",
   "execution_count": 18,
   "id": "3fadd6b2",
   "metadata": {},
   "outputs": [],
   "source": [
    "import numpy as np\n",
    "import matplotlib.pyplot as plt\n",
    "\n",
    "from sklearn.model_selection import train_test_split\n",
    "from sklearn.neural_network import MLPClassifier\n",
    "from sklearn.metrics import plot_confusion_matrix\n",
    "\n",
    "from nlp4all.models import *"
   ]
  },
  {
   "cell_type": "code",
   "execution_count": 47,
   "id": "78fe8da3",
   "metadata": {},
   "outputs": [
    {
     "data": {
      "text/plain": [
       "'Full model'"
      ]
     },
     "execution_count": 47,
     "metadata": {},
     "output_type": "execute_result"
    }
   ],
   "source": [
    "model_id = 1\n",
    "db_model = D2VModel.query.filter_by(id=model_id).first()\n",
    "model = db_model.load()\n",
    "db_model.name"
   ]
  },
  {
   "cell_type": "code",
   "execution_count": 73,
   "id": "391769c8",
   "metadata": {},
   "outputs": [
    {
     "name": "stdout",
     "output_type": "stream",
     "text": [
      "40940\n"
     ]
    }
   ],
   "source": [
    "tweet_cats = [1,2,3,4,5,6,7,8,9,10,11,12,13,14]\n",
    "tweets = Tweet.query.filter(Tweet.category.in_(tweet_cats)).all()\n",
    "\n",
    "train_corpus = []\n",
    "for tweet in tweets:\n",
    "    train_corpus.append((tweet.text, [tweet.id]))\n",
    "print(len(train_corpus))"
   ]
  },
  {
   "cell_type": "code",
   "execution_count": 74,
   "id": "09162c92",
   "metadata": {},
   "outputs": [
    {
     "name": "stdout",
     "output_type": "stream",
     "text": [
      "40940\n",
      "40940\n"
     ]
    }
   ],
   "source": [
    "tweets_ids = [tweet.id for tweet in tweets]\n",
    "X = [model.dv[i] for i in tweets_ids]\n",
    "labels = [tweet.category for tweet in tweets]\n",
    "print(len(X))\n",
    "print(len(labels))"
   ]
  },
  {
   "cell_type": "code",
   "execution_count": 75,
   "id": "b56f1c85",
   "metadata": {},
   "outputs": [],
   "source": [
    "X_train, X_test, y_train, y_test = train_test_split(X, labels, train_size=0.5)"
   ]
  },
  {
   "cell_type": "code",
   "execution_count": 76,
   "id": "5ea6bd3f",
   "metadata": {
    "scrolled": true
   },
   "outputs": [
    {
     "data": {
      "text/plain": [
       "(array([1563.,    0., 1605.,    0., 1553.,    0., 1606.,    0., 1149.,\n",
       "           0.,   23.,    0., 1623.,    0., 1596.,    0., 1658.,    0.,\n",
       "        1623.,    0., 1615.,    0., 1595.,    0., 1627., 1634.]),\n",
       " array([ 1. ,  1.5,  2. ,  2.5,  3. ,  3.5,  4. ,  4.5,  5. ,  5.5,  6. ,\n",
       "         6.5,  7. ,  7.5,  8. ,  8.5,  9. ,  9.5, 10. , 10.5, 11. , 11.5,\n",
       "        12. , 12.5, 13. , 13.5, 14. ]),\n",
       " <BarContainer object of 26 artists>)"
      ]
     },
     "execution_count": 76,
     "metadata": {},
     "output_type": "execute_result"
    },
    {
     "data": {
      "image/png": "[encoded data removed]",
      "text/plain": [
       "<Figure size 432x288 with 1 Axes>"
      ]
     },
     "metadata": {
      "needs_background": "light"
     },
     "output_type": "display_data"
    },
    {
     "data": {
      "image/png": "[encoded data removed]",
      "text/plain": [
       "<Figure size 432x288 with 1 Axes>"
      ]
     },
     "metadata": {
      "needs_background": "light"
     },
     "output_type": "display_data"
    }
   ],
   "source": [
    "# see if the data is well distributed between training and testing sets\n",
    "plt.figure(1)\n",
    "plt.hist(x=y_train, bins='auto', color='#0f5e01', alpha=0.7, rwidth=0.85)\n",
    "plt.figure(2)\n",
    "plt.hist(x=y_test, bins='auto', color='#9ced66', alpha=0.7, rwidth=0.85)"
   ]
  },
  {
   "cell_type": "code",
   "execution_count": 77,
   "id": "1a7301b8",
   "metadata": {},
   "outputs": [
    {
     "data": {
      "text/plain": [
       "MLPClassifier(activation='logistic', hidden_layer_sizes=[10, 10], max_iter=1000)"
      ]
     },
     "execution_count": 77,
     "metadata": {},
     "output_type": "execute_result"
    }
   ],
   "source": [
    "# create and train an ANN (keras is not working because of tf pip compatibility)\n",
    "ANN = MLPClassifier(hidden_layer_sizes=[10,10], max_iter=1000, activation='logistic')\n",
    "ANN.fit(X_train, y_train)"
   ]
  },
  {
   "cell_type": "code",
   "execution_count": 78,
   "id": "16342112",
   "metadata": {},
   "outputs": [
    {
     "data": {
      "text/plain": [
       "<sklearn.metrics._plot.confusion_matrix.ConfusionMatrixDisplay at 0x7fb0a8248f10>"
      ]
     },
     "execution_count": 78,
     "metadata": {},
     "output_type": "execute_result"
    },
    {
     "data": {
      "image/png": "[encoded data removed]",
      "text/plain": [
       "<Figure size 432x288 with 2 Axes>"
      ]
     },
     "metadata": {
      "needs_background": "light"
     },
     "output_type": "display_data"
    }
   ],
   "source": [
    "plot_confusion_matrix(ANN, X_train, y_train, include_values=False)"
   ]
  },
  {
   "cell_type": "code",
   "execution_count": 79,
   "id": "cbf2f65b",
   "metadata": {},
   "outputs": [
    {
     "data": {
      "text/plain": [
       "<sklearn.metrics._plot.confusion_matrix.ConfusionMatrixDisplay at 0x7fb0ba377190>"
      ]
     },
     "execution_count": 79,
     "metadata": {},
     "output_type": "execute_result"
    },
    {
     "data": {
      "image/png": "[encoded data removed]",
      "text/plain": [
       "<Figure size 432x288 with 2 Axes>"
      ]
     },
     "metadata": {
      "needs_background": "light"
     },
     "output_type": "display_data"
    }
   ],
   "source": [
    "plot_confusion_matrix(ANN, X_test, y_test, include_values=False)"
   ]
  },
  {
   "cell_type": "code",
   "execution_count": 69,
   "id": "bed2e758",
   "metadata": {},
   "outputs": [
    {
     "data": {
      "text/plain": [
       "'AndrewYang.json'"
      ]
     },
     "execution_count": 69,
     "metadata": {},
     "output_type": "execute_result"
    }
   ],
   "source": [
    "TweetTagCategory.query.filter_by(id=7).first().name"
   ]
  }
 ],
 "metadata": {
  "kernelspec": {
   "display_name": "Python 3",
   "language": "python",
   "name": "python3"
  },
  "language_info": {
   "codemirror_mode": {
    "name": "ipython",
    "version": 3
   },
   "file_extension": ".py",
   "mimetype": "text/x-python",
   "name": "python",
   "nbconvert_exporter": "python",
   "pygments_lexer": "ipython3",
   "version": "3.8.3"
  }
 },
 "nbformat": 4,
 "nbformat_minor": 5
}
